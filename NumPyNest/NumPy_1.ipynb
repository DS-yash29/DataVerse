{
  "nbformat": 4,
  "nbformat_minor": 0,
  "metadata": {
    "colab": {
      "provenance": []
    },
    "kernelspec": {
      "name": "python3",
      "display_name": "Python 3"
    },
    "language_info": {
      "name": "python"
    }
  },
  "cells": [
    {
      "cell_type": "markdown",
      "source": [
        "# Numpy\n",
        "\n",
        "- Numpy in a Library in Python which stands for **Numerical Python**\n",
        "\n",
        "\n",
        "---\n",
        "\n",
        "*It is used for creating n-dimensional arrays along with various functions related to statistics & Linear Algebra which are very useful in Machine Learning & AI.*\n",
        "\n",
        "This Notebook is a Guide to NumPy and covers most useful Functions needed in Data SCience & Machine Learning.\n",
        "\n",
        "### Topics Covered\n",
        "- Creating NumPy arrays\n",
        "- Imp Attributes\n",
        "- Mathematical Operations in NumPy\n",
        "- Functions\n"
      ],
      "metadata": {
        "id": "GXRaSevistX-"
      }
    },
    {
      "cell_type": "code",
      "execution_count": 89,
      "metadata": {
        "id": "QZDYWGjhsopo"
      },
      "outputs": [],
      "source": [
        "# Importing the Library\n",
        "\n",
        "import numpy as np"
      ]
    },
    {
      "cell_type": "code",
      "source": [
        "# Creating n-dimensional NumPy Arrays\n",
        "# n = 1,2,3,4.....\n",
        "\n",
        "n1 = np.array([1,2,3,4,5]) #1-D Array\n",
        "print(n1)\n",
        "print(type(n1))\n",
        "\n",
        "n2 = np.array([[1,2],[3,4],[5,6]]) # 2-D Array\n",
        "n3 = np.array(([[[1,2,3],[4,5,6]],[[7,8,9],[10,11,12]]]))\n",
        "\n",
        "print(n2,type(n2),n2.ndim)\n",
        "print(n3,type(n3),n3.ndim)\n"
      ],
      "metadata": {
        "colab": {
          "base_uri": "https://localhost:8080/"
        },
        "id": "HB1VbVaftxaQ",
        "outputId": "a4ec2c67-2af5-4dc3-9133-fedcc6004ee7"
      },
      "execution_count": 90,
      "outputs": [
        {
          "output_type": "stream",
          "name": "stdout",
          "text": [
            "[1 2 3 4 5]\n",
            "<class 'numpy.ndarray'>\n",
            "[[1 2]\n",
            " [3 4]\n",
            " [5 6]] <class 'numpy.ndarray'> 2\n",
            "[[[ 1  2  3]\n",
            "  [ 4  5  6]]\n",
            "\n",
            " [[ 7  8  9]\n",
            "  [10 11 12]]] <class 'numpy.ndarray'> 3\n"
          ]
        }
      ]
    },
    {
      "cell_type": "markdown",
      "source": [
        "# Various Ways of Creating NumPy Arrays\n",
        "\n",
        " 1. arange\n",
        " 2. ones\n",
        " 3. Zeroes\n",
        " 4. random\n",
        " 5.linespace\n",
        " 6. identity\n",
        " 7. eye\n"
      ],
      "metadata": {
        "id": "jBpHl8fGz1HX"
      }
    },
    {
      "cell_type": "code",
      "source": [
        "a = np.arange(0,50,5)\n",
        "b = np.ones((3,2))\n",
        "c = np.zeros(4)\n",
        "d = np.random\n",
        "e = np.linspace(1,10,10)\n",
        "f = np.identity(2)\n",
        "g = np.eye(3,3)\n"
      ],
      "metadata": {
        "id": "WL9pJLi-vs_X"
      },
      "execution_count": 91,
      "outputs": []
    },
    {
      "cell_type": "code",
      "source": [
        "print(a,b,c,d,e,f,g,sep='\\n')"
      ],
      "metadata": {
        "id": "BvrWO6CZ0twv",
        "colab": {
          "base_uri": "https://localhost:8080/"
        },
        "outputId": "7e4fd7fc-f63d-42cb-b5c2-c0d0dd71cd37"
      },
      "execution_count": 92,
      "outputs": [
        {
          "output_type": "stream",
          "name": "stdout",
          "text": [
            "[ 0  5 10 15 20 25 30 35 40 45]\n",
            "[[1. 1.]\n",
            " [1. 1.]\n",
            " [1. 1.]]\n",
            "[0. 0. 0. 0.]\n",
            "<module 'numpy.random' from '/usr/local/lib/python3.10/dist-packages/numpy/random/__init__.py'>\n",
            "[ 1.  2.  3.  4.  5.  6.  7.  8.  9. 10.]\n",
            "[[1. 0.]\n",
            " [0. 1.]]\n",
            "[[1. 0. 0.]\n",
            " [0. 1. 0.]\n",
            " [0. 0. 1.]]\n"
          ]
        }
      ]
    },
    {
      "cell_type": "markdown",
      "source": [
        "\n",
        "\n",
        "---\n",
        "\n"
      ],
      "metadata": {
        "id": "TQhmyL4Aimp9"
      }
    },
    {
      "cell_type": "markdown",
      "source": [
        "*Special *NumPy* Attributes*\n",
        "\n",
        "\n",
        "###### ndim -> Returns the dimesnsions of the Array\n",
        "###### shape -> Returns the shape of the array\n",
        "######  size -> Returns the size of the NumPy Array\n",
        "###### dtype -> Returns the data type of the Array\n",
        "###### astype -> Converts the array into a specific datatype"
      ],
      "metadata": {
        "id": "nScyxqXHh-GE"
      }
    },
    {
      "cell_type": "code",
      "source": [
        "print(n1.ndim)\n",
        "print(n2.shape)\n",
        "print(n3.size)\n",
        "print(a.dtype)\n",
        "a = a.astype('int8')\n",
        "print(a.dtype)"
      ],
      "metadata": {
        "colab": {
          "base_uri": "https://localhost:8080/"
        },
        "id": "24ZroqF7g8cF",
        "outputId": "ad9ef941-5382-4dd2-f22d-0c9fcaeffa5f"
      },
      "execution_count": 93,
      "outputs": [
        {
          "output_type": "stream",
          "name": "stdout",
          "text": [
            "1\n",
            "(3, 2)\n",
            "12\n",
            "int64\n",
            "int8\n"
          ]
        }
      ]
    },
    {
      "cell_type": "markdown",
      "source": [
        "# NumPy : Operations & Functions\n",
        "\n",
        "- Scaler Operations On Matrix\n",
        "\n",
        "1. Addition\n",
        "2. Multiplication\n",
        "3. Division\n",
        "4. Subtraction\n",
        "\n",
        "\n",
        "- Relational Operations\n",
        "\n",
        "5. Equality | Inequality Operations -> returns boolean values\n",
        "\n",
        "- Vector Operations\n",
        "\n",
        "6. Multiplication of Matrices\n",
        "\n",
        "# *Array Functions*\n",
        "- Basic Mathematical & Statistical Functions\n",
        "\n",
        "1. min\n",
        "2. max\n",
        "3. len\n",
        "4. prod\n",
        "5. And Additional Functions such as -> log/Exponent\n",
        "- Some Statistical Functions\n",
        "5. mean\n",
        "6. median\n",
        "7. mode\n",
        "8. st. Deviation\n",
        "9. Variance\n",
        "\n",
        "# Functions Related to Array Manipulation\n",
        "\n",
        "- Reshape\n",
        "- Ravel\n",
        "- Transpose\n",
        "\n"
      ],
      "metadata": {
        "id": "ZtJsIR5rkFVF"
      }
    },
    {
      "cell_type": "code",
      "source": [
        "n1"
      ],
      "metadata": {
        "colab": {
          "base_uri": "https://localhost:8080/"
        },
        "id": "DiUsgtQVi_f0",
        "outputId": "99da3b14-6827-4aee-a4e4-2ed85f4cd1d2"
      },
      "execution_count": 94,
      "outputs": [
        {
          "output_type": "execute_result",
          "data": {
            "text/plain": [
              "array([1, 2, 3, 4, 5])"
            ]
          },
          "metadata": {},
          "execution_count": 94
        }
      ]
    },
    {
      "cell_type": "code",
      "source": [
        "#SCaler Operations\n",
        "\n",
        "print(n1+5)\n",
        "print(n1-1)\n",
        "print(n1*2)\n",
        "print(n1/3)"
      ],
      "metadata": {
        "colab": {
          "base_uri": "https://localhost:8080/"
        },
        "id": "AaiU_iGCk8mN",
        "outputId": "d5ce2cc6-5df6-4112-c5d0-378d994ecbf4"
      },
      "execution_count": 95,
      "outputs": [
        {
          "output_type": "stream",
          "name": "stdout",
          "text": [
            "[ 6  7  8  9 10]\n",
            "[0 1 2 3 4]\n",
            "[ 2  4  6  8 10]\n",
            "[0.33333333 0.66666667 1.         1.33333333 1.66666667]\n"
          ]
        }
      ]
    },
    {
      "cell_type": "code",
      "source": [
        "# Relational Operations\n",
        "# Returns Boolean Arrays , where the condition gets satisfied , it returns true , else false\n",
        "print(n1 == 5)\n",
        "print(n1>5)\n",
        "print(n1>=5)\n",
        "print(n1<5)\n",
        "print(n1<=5)\n",
        "print(n1!=5)"
      ],
      "metadata": {
        "id": "p5sLmJ9LlE9c",
        "colab": {
          "base_uri": "https://localhost:8080/"
        },
        "outputId": "652b72cc-dc7b-4162-99e1-0ed6024fab72"
      },
      "execution_count": 96,
      "outputs": [
        {
          "output_type": "stream",
          "name": "stdout",
          "text": [
            "[False False False False  True]\n",
            "[False False False False False]\n",
            "[False False False False  True]\n",
            "[ True  True  True  True False]\n",
            "[ True  True  True  True  True]\n",
            "[ True  True  True  True False]\n"
          ]
        }
      ]
    },
    {
      "cell_type": "code",
      "source": [
        "n1 = np.array([1,2,3,4,5])\n",
        "n2 = np.array([6,7,8,9,10])\n",
        "print(n1*n2)"
      ],
      "metadata": {
        "colab": {
          "base_uri": "https://localhost:8080/"
        },
        "id": "H3cLC8XimRN-",
        "outputId": "810faadf-4f30-47c6-ca8d-73752a39d3ae"
      },
      "execution_count": 97,
      "outputs": [
        {
          "output_type": "stream",
          "name": "stdout",
          "text": [
            "[ 6 14 24 36 50]\n"
          ]
        }
      ]
    },
    {
      "cell_type": "code",
      "source": [
        "n2 = np.arange(1,50,10)\n",
        "print(n1*n2)"
      ],
      "metadata": {
        "colab": {
          "base_uri": "https://localhost:8080/"
        },
        "id": "mJ7jisuXmuCW",
        "outputId": "8bf555be-d0a5-4487-d774-d0da99834fb4"
      },
      "execution_count": 98,
      "outputs": [
        {
          "output_type": "stream",
          "name": "stdout",
          "text": [
            "[  1  22  63 124 205]\n"
          ]
        }
      ]
    },
    {
      "cell_type": "markdown",
      "source": [],
      "metadata": {
        "id": "frGTLazmo6ml"
      }
    },
    {
      "cell_type": "code",
      "source": [
        "print(n1.sum())\n",
        "print(n1.min())\n",
        "print(n1.max())\n",
        "print(n1.prod())\n",
        "\n",
        "print(n1.mean())\n",
        "print(np.median(n1)) # Median is a functions of numpy , while mean , sum , prod are methods\n",
        "print(n1.std())\n",
        "print(n1.var())"
      ],
      "metadata": {
        "colab": {
          "base_uri": "https://localhost:8080/"
        },
        "id": "yHbFmVmfm868",
        "outputId": "0d06702e-80dc-4cdf-aa77-9d3550631eb1"
      },
      "execution_count": 99,
      "outputs": [
        {
          "output_type": "stream",
          "name": "stdout",
          "text": [
            "15\n",
            "1\n",
            "5\n",
            "120\n",
            "3.0\n",
            "3.0\n",
            "1.4142135623730951\n",
            "2.0\n"
          ]
        }
      ]
    },
    {
      "cell_type": "code",
      "source": [
        "print(np.log2(n1))\n",
        "print(np.exp(n1))\n",
        "print(np.ceil(n1+(0.99)))\n",
        "print(np.floor(n1+0.87))"
      ],
      "metadata": {
        "colab": {
          "base_uri": "https://localhost:8080/"
        },
        "id": "jLahrdsCqrfF",
        "outputId": "51798d86-50a2-492b-8a4c-2213bf00a9f7"
      },
      "execution_count": 100,
      "outputs": [
        {
          "output_type": "stream",
          "name": "stdout",
          "text": [
            "[0.         1.         1.5849625  2.         2.32192809]\n",
            "[  2.71828183   7.3890561   20.08553692  54.59815003 148.4131591 ]\n",
            "[2. 3. 4. 5. 6.]\n",
            "[1. 2. 3. 4. 5.]\n"
          ]
        }
      ]
    },
    {
      "cell_type": "code",
      "source": [
        "# Reshape\n",
        "\n",
        "x = np.arange(25).reshape(5,5)\n",
        "print(x,end='\\n\\n')\n",
        "y = np.random.random(16).reshape(2,4,2)\n",
        "print(y,end='\\n')"
      ],
      "metadata": {
        "id": "iBO67_zFsvQs",
        "colab": {
          "base_uri": "https://localhost:8080/"
        },
        "outputId": "1ebecaea-4294-4cdc-a6f9-98be9f247966"
      },
      "execution_count": 101,
      "outputs": [
        {
          "output_type": "stream",
          "name": "stdout",
          "text": [
            "[[ 0  1  2  3  4]\n",
            " [ 5  6  7  8  9]\n",
            " [10 11 12 13 14]\n",
            " [15 16 17 18 19]\n",
            " [20 21 22 23 24]]\n",
            "\n",
            "[[[0.07140663 0.4121099 ]\n",
            "  [0.06644183 0.16090804]\n",
            "  [0.21102486 0.31085417]\n",
            "  [0.04448258 0.48879952]]\n",
            "\n",
            " [[0.42887335 0.90346613]\n",
            "  [0.51667438 0.08069685]\n",
            "  [0.96280833 0.52973168]\n",
            "  [0.65964623 0.95573265]]]\n"
          ]
        }
      ]
    },
    {
      "cell_type": "code",
      "source": [
        "print(x.transpose())"
      ],
      "metadata": {
        "id": "Eqq0jL-PsvLF",
        "colab": {
          "base_uri": "https://localhost:8080/"
        },
        "outputId": "5f347df1-76e2-4aa6-c870-eca98648a842"
      },
      "execution_count": 102,
      "outputs": [
        {
          "output_type": "stream",
          "name": "stdout",
          "text": [
            "[[ 0  5 10 15 20]\n",
            " [ 1  6 11 16 21]\n",
            " [ 2  7 12 17 22]\n",
            " [ 3  8 13 18 23]\n",
            " [ 4  9 14 19 24]]\n"
          ]
        }
      ]
    },
    {
      "cell_type": "code",
      "source": [
        "print(x.reshape(5,5),end='\\n\\n')\n",
        "print(x.reshape(-1),end='\\n\\n')\n",
        "print(x.ravel())"
      ],
      "metadata": {
        "id": "58XW6Yxasu-9",
        "colab": {
          "base_uri": "https://localhost:8080/"
        },
        "outputId": "58a6b87f-5256-44c8-8163-ed11ae71705e"
      },
      "execution_count": 103,
      "outputs": [
        {
          "output_type": "stream",
          "name": "stdout",
          "text": [
            "[[ 0  1  2  3  4]\n",
            " [ 5  6  7  8  9]\n",
            " [10 11 12 13 14]\n",
            " [15 16 17 18 19]\n",
            " [20 21 22 23 24]]\n",
            "\n",
            "[ 0  1  2  3  4  5  6  7  8  9 10 11 12 13 14 15 16 17 18 19 20 21 22 23\n",
            " 24]\n",
            "\n",
            "[ 0  1  2  3  4  5  6  7  8  9 10 11 12 13 14 15 16 17 18 19 20 21 22 23\n",
            " 24]\n"
          ]
        }
      ]
    },
    {
      "cell_type": "code",
      "source": [
        "print(y.reshape(8,2).transpose())"
      ],
      "metadata": {
        "id": "RZMSuGXoruR9",
        "colab": {
          "base_uri": "https://localhost:8080/"
        },
        "outputId": "c0f7d7fe-599c-4bce-8892-16757afba349"
      },
      "execution_count": 104,
      "outputs": [
        {
          "output_type": "stream",
          "name": "stdout",
          "text": [
            "[[0.07140663 0.06644183 0.21102486 0.04448258 0.42887335 0.51667438\n",
            "  0.96280833 0.65964623]\n",
            " [0.4121099  0.16090804 0.31085417 0.48879952 0.90346613 0.08069685\n",
            "  0.52973168 0.95573265]]\n"
          ]
        }
      ]
    },
    {
      "cell_type": "code",
      "source": [
        "# Dot Product\n",
        "m = np.arange(1,6).reshape(1,5)\n",
        "n = np.arange(6,11).reshape(5,1)\n",
        "\n",
        "# Dot product of (a) of size mXn and (b) size pXq is only possible when n==p\n",
        "print(m*n) # Vector Product\n",
        "print('\\n')\n",
        "print(m.dot(n)) #dot function\n",
        "print('\\n')\n",
        "print(n.dot(m)) # SImilar to n*m"
      ],
      "metadata": {
        "colab": {
          "base_uri": "https://localhost:8080/"
        },
        "id": "dDVvEyUpJ2a4",
        "outputId": "09cfd898-f083-490d-dd9f-f52c6696d2a4"
      },
      "execution_count": 105,
      "outputs": [
        {
          "output_type": "stream",
          "name": "stdout",
          "text": [
            "[[ 6 12 18 24 30]\n",
            " [ 7 14 21 28 35]\n",
            " [ 8 16 24 32 40]\n",
            " [ 9 18 27 36 45]\n",
            " [10 20 30 40 50]]\n",
            "\n",
            "\n",
            "[[130]]\n",
            "\n",
            "\n",
            "[[ 6 12 18 24 30]\n",
            " [ 7 14 21 28 35]\n",
            " [ 8 16 24 32 40]\n",
            " [ 9 18 27 36 45]\n",
            " [10 20 30 40 50]]\n"
          ]
        }
      ]
    },
    {
      "cell_type": "code",
      "source": [],
      "metadata": {
        "id": "bTBXzH1bKOHq"
      },
      "execution_count": 105,
      "outputs": []
    }
  ]
}