{
  "nbformat": 4,
  "nbformat_minor": 0,
  "metadata": {
    "colab": {
      "provenance": []
    },
    "kernelspec": {
      "name": "python3",
      "display_name": "Python 3"
    },
    "language_info": {
      "name": "python"
    }
  },
  "cells": [
    {
      "cell_type": "code",
      "execution_count": 1,
      "metadata": {
        "id": "tdY3cDIiwF2J"
      },
      "outputs": [],
      "source": [
        "import numpy as np"
      ]
    },
    {
      "cell_type": "markdown",
      "source": [
        "***Functions Involving Manipulation of NumPy Arrays***\n",
        "\n",
        "- np.sort\n",
        "- np.append\n",
        "- np.concatenate\n",
        "- np.unique\n",
        "- np.where\n",
        "- np.cumsum\n",
        "- np.cumprod\n",
        "- np.delete\n",
        "\n",
        "- *Set Related Functions*"
      ],
      "metadata": {
        "id": "UgeDUqv2wWdd"
      }
    },
    {
      "cell_type": "code",
      "source": [
        "a = np.array([4,7,-21,345,67,45,-23,10,9,5,239])"
      ],
      "metadata": {
        "id": "9ym6lvCQwVGf"
      },
      "execution_count": 8,
      "outputs": []
    },
    {
      "cell_type": "code",
      "source": [
        "print(np.sort(a))"
      ],
      "metadata": {
        "colab": {
          "base_uri": "https://localhost:8080/"
        },
        "id": "CvWRVtH4xjnd",
        "outputId": "68ea02ba-c6ea-47a3-8d8a-8fe1f8aa1e20"
      },
      "execution_count": 12,
      "outputs": [
        {
          "output_type": "stream",
          "name": "stdout",
          "text": [
            "[-23 -21   4   5   7   9  10  45  67 239 345]\n"
          ]
        }
      ]
    },
    {
      "cell_type": "code",
      "source": [
        "print(a)\n",
        "a = np.append(a,99)\n",
        "print(a)"
      ],
      "metadata": {
        "colab": {
          "base_uri": "https://localhost:8080/"
        },
        "id": "jRvTVCpExl_i",
        "outputId": "ceec4b10-e436-44fe-e1c6-3e7224db9d82"
      },
      "execution_count": 15,
      "outputs": [
        {
          "output_type": "stream",
          "name": "stdout",
          "text": [
            "[  4   7 -21 345  67  45 -23  10   9   5 239]\n",
            "[  4   7 -21 345  67  45 -23  10   9   5 239  99]\n"
          ]
        }
      ]
    },
    {
      "cell_type": "code",
      "source": [
        "b = np.random.random(a.shape[0])\n",
        "b"
      ],
      "metadata": {
        "colab": {
          "base_uri": "https://localhost:8080/"
        },
        "id": "G_kTgC92x6mj",
        "outputId": "44813b25-196e-4d84-bb83-cdc311d763b5"
      },
      "execution_count": 27,
      "outputs": [
        {
          "output_type": "execute_result",
          "data": {
            "text/plain": [
              "array([0.97076807, 0.55233828, 0.4053036 , 0.9687231 , 0.17803163,\n",
              "       0.99114913, 0.23925937, 0.0423529 , 0.05567876, 0.88173811,\n",
              "       0.86029085, 0.79145943])"
            ]
          },
          "metadata": {},
          "execution_count": 27
        }
      ]
    },
    {
      "cell_type": "code",
      "source": [
        "c = np.arange(1,7).reshape(2,3)\n",
        "d = np.arange(7,13).reshape(2,3)\n",
        "np.concatenate((c,d),axis=1)"
      ],
      "metadata": {
        "colab": {
          "base_uri": "https://localhost:8080/"
        },
        "id": "-9G5CL7G0OYa",
        "outputId": "558a2a7c-b3d0-4b4e-ffb0-bea0290c8390"
      },
      "execution_count": 35,
      "outputs": [
        {
          "output_type": "execute_result",
          "data": {
            "text/plain": [
              "array([[ 1,  2,  3,  7,  8,  9],\n",
              "       [ 4,  5,  6, 10, 11, 12]])"
            ]
          },
          "metadata": {},
          "execution_count": 35
        }
      ]
    },
    {
      "cell_type": "code",
      "source": [
        "e = np.array([2,8,9,0,4,5,6,8,9,2])\n",
        "print(e)\n",
        "print(np.unique(e))"
      ],
      "metadata": {
        "colab": {
          "base_uri": "https://localhost:8080/"
        },
        "id": "ZM1H_D850zma",
        "outputId": "48e9a293-ffcb-4c85-e179-63001c861914"
      },
      "execution_count": 36,
      "outputs": [
        {
          "output_type": "stream",
          "name": "stdout",
          "text": [
            "[2 8 9 0 4 5 6 8 9 2]\n",
            "[0 2 4 5 6 8 9]\n"
          ]
        }
      ]
    },
    {
      "cell_type": "code",
      "source": [
        "a"
      ],
      "metadata": {
        "colab": {
          "base_uri": "https://localhost:8080/"
        },
        "id": "0zlwWcHq1S5R",
        "outputId": "762349b3-6df6-4f04-e9ec-193caaa8da59"
      },
      "execution_count": 40,
      "outputs": [
        {
          "output_type": "execute_result",
          "data": {
            "text/plain": [
              "array([  4,   7, -21, 345,  67,  45, -23,  10,   9,   5, 239,  99])"
            ]
          },
          "metadata": {},
          "execution_count": 40
        }
      ]
    },
    {
      "cell_type": "code",
      "source": [
        "a[np.where(a>30)]"
      ],
      "metadata": {
        "colab": {
          "base_uri": "https://localhost:8080/"
        },
        "id": "770u_mEh2Ach",
        "outputId": "475a4b7c-54ed-4448-b216-09fbc92e2e20"
      },
      "execution_count": 43,
      "outputs": [
        {
          "output_type": "execute_result",
          "data": {
            "text/plain": [
              "array([345,  67,  45, 239,  99])"
            ]
          },
          "metadata": {},
          "execution_count": 43
        }
      ]
    },
    {
      "cell_type": "code",
      "source": [
        "a"
      ],
      "metadata": {
        "colab": {
          "base_uri": "https://localhost:8080/"
        },
        "id": "_D1VqGjQ2vCo",
        "outputId": "3a4f821b-12b1-4772-d1f9-f7d2bf6585c8"
      },
      "execution_count": 45,
      "outputs": [
        {
          "output_type": "execute_result",
          "data": {
            "text/plain": [
              "array([  4,   7, -21, 345,  67,  45, -23,  10,   9,   5, 239,  99])"
            ]
          },
          "metadata": {},
          "execution_count": 45
        }
      ]
    },
    {
      "cell_type": "code",
      "source": [
        "print(a[np.argmin(a)])\n",
        "print(a[np.argmax(a)])"
      ],
      "metadata": {
        "colab": {
          "base_uri": "https://localhost:8080/"
        },
        "id": "quGsdKQN2f4X",
        "outputId": "5069d336-25a5-45d4-ac14-f2914bc9b05e"
      },
      "execution_count": 54,
      "outputs": [
        {
          "output_type": "stream",
          "name": "stdout",
          "text": [
            "-23\n",
            "345\n"
          ]
        }
      ]
    },
    {
      "cell_type": "code",
      "source": [
        "a[5] = 0"
      ],
      "metadata": {
        "id": "uMfY3FVq4XmW"
      },
      "execution_count": 59,
      "outputs": []
    },
    {
      "cell_type": "code",
      "source": [
        "print(np.cumsum(a))\n",
        "print(np.cumprod(a))"
      ],
      "metadata": {
        "colab": {
          "base_uri": "https://localhost:8080/"
        },
        "id": "5zAvlNVH2s7g",
        "outputId": "04106de3-b9cf-47a8-a58a-9c0c38f9b97a"
      },
      "execution_count": 60,
      "outputs": [
        {
          "output_type": "stream",
          "name": "stdout",
          "text": [
            "[  4  11 -10 335 402 402 379 389 398 403 642 741]\n",
            "[        4        28      -588   -202860 -13591620         0         0\n",
            "         0         0         0         0         0]\n"
          ]
        }
      ]
    },
    {
      "cell_type": "code",
      "source": [
        "print(np.percentile(a,50))"
      ],
      "metadata": {
        "colab": {
          "base_uri": "https://localhost:8080/"
        },
        "id": "e986Fc-f4Vyv",
        "outputId": "af2566f4-d8f6-4707-fae6-593078d28d01"
      },
      "execution_count": 64,
      "outputs": [
        {
          "output_type": "stream",
          "name": "stdout",
          "text": [
            "8.0\n"
          ]
        }
      ]
    },
    {
      "cell_type": "code",
      "source": [
        "np.median(a) == np.percentile(a,50)"
      ],
      "metadata": {
        "colab": {
          "base_uri": "https://localhost:8080/"
        },
        "id": "0g2U7KSV4o32",
        "outputId": "9160e9f3-022d-4d9b-efd0-f1b03e77397b"
      },
      "execution_count": 66,
      "outputs": [
        {
          "output_type": "execute_result",
          "data": {
            "text/plain": [
              "True"
            ]
          },
          "metadata": {},
          "execution_count": 66
        }
      ]
    },
    {
      "cell_type": "code",
      "source": [
        "a = np.delete(a,0)"
      ],
      "metadata": {
        "id": "98fo96uS43rn"
      },
      "execution_count": 70,
      "outputs": []
    },
    {
      "cell_type": "code",
      "source": [
        "a"
      ],
      "metadata": {
        "colab": {
          "base_uri": "https://localhost:8080/"
        },
        "id": "iE11InNL5Zd9",
        "outputId": "86adbed4-5b53-4ca8-c1eb-90780c1f8bdf"
      },
      "execution_count": 71,
      "outputs": [
        {
          "output_type": "execute_result",
          "data": {
            "text/plain": [
              "array([  7, -21, 345,  67,   0, -23,  10,   9,   5, 239,  99])"
            ]
          },
          "metadata": {},
          "execution_count": 71
        }
      ]
    },
    {
      "cell_type": "code",
      "source": [
        "np.isin(a,-23).sum()\n",
        "# Returns a boolean array\n",
        "# Applying sum to it returns 0 xero if all the lemenbts of the array are false\n",
        "# ELse the No i spresent"
      ],
      "metadata": {
        "colab": {
          "base_uri": "https://localhost:8080/"
        },
        "id": "UqVtuupW5fUW",
        "outputId": "4b56e44c-f3f6-431f-f9e6-c90ddd0770a2"
      },
      "execution_count": 76,
      "outputs": [
        {
          "output_type": "execute_result",
          "data": {
            "text/plain": [
              "1"
            ]
          },
          "metadata": {},
          "execution_count": 76
        }
      ]
    },
    {
      "cell_type": "code",
      "source": [
        "np.flip(a,axis=0)"
      ],
      "metadata": {
        "colab": {
          "base_uri": "https://localhost:8080/"
        },
        "id": "XHSuRaNU5rJe",
        "outputId": "4e22a926-af05-4bbe-9812-56b8265c49d2"
      },
      "execution_count": 78,
      "outputs": [
        {
          "output_type": "execute_result",
          "data": {
            "text/plain": [
              "array([ 99, 239,   5,   9,  10, -23,   0,  67, 345, -21,   7])"
            ]
          },
          "metadata": {},
          "execution_count": 78
        }
      ]
    },
    {
      "cell_type": "code",
      "source": [
        "sample = np.arange(1,7).reshape(2,3)"
      ],
      "metadata": {
        "id": "ZU9UqX9i6LEW"
      },
      "execution_count": 79,
      "outputs": []
    },
    {
      "cell_type": "code",
      "source": [
        "print(sample,end='\\n\\n')\n",
        "print(np.flip(sample,axis=0),end='\\n\\n')\n",
        "print(np.flip(sample,axis=1),end='\\n\\n')\n",
        "print(np.flip(sample,axis=[0,1]))"
      ],
      "metadata": {
        "colab": {
          "base_uri": "https://localhost:8080/"
        },
        "id": "WH2gu3E06gzM",
        "outputId": "6da72a4b-0326-4325-8745-4a380afb6597"
      },
      "execution_count": 84,
      "outputs": [
        {
          "output_type": "stream",
          "name": "stdout",
          "text": [
            "[[1 2 3]\n",
            " [4 5 6]]\n",
            "\n",
            "[[4 5 6]\n",
            " [1 2 3]]\n",
            "\n",
            "[[3 2 1]\n",
            " [6 5 4]]\n",
            "\n",
            "[[6 5 4]\n",
            " [3 2 1]]\n"
          ]
        }
      ]
    },
    {
      "cell_type": "code",
      "source": [
        "np.put(a,0,5)"
      ],
      "metadata": {
        "id": "1Je4tJWf6m08"
      },
      "execution_count": 87,
      "outputs": []
    },
    {
      "cell_type": "code",
      "source": [
        "a"
      ],
      "metadata": {
        "colab": {
          "base_uri": "https://localhost:8080/"
        },
        "id": "oMj5bISe7Bm1",
        "outputId": "5785d79d-437c-443c-f5dc-c22b39f145c8"
      },
      "execution_count": 88,
      "outputs": [
        {
          "output_type": "execute_result",
          "data": {
            "text/plain": [
              "array([  5, -21, 345,  67,   0, -23,  10,   9,   5, 239,  99])"
            ]
          },
          "metadata": {},
          "execution_count": 88
        }
      ]
    },
    {
      "cell_type": "code",
      "source": [
        "np.put(a,3,90)"
      ],
      "metadata": {
        "id": "XB_dxLDo7RQx"
      },
      "execution_count": 90,
      "outputs": []
    },
    {
      "cell_type": "code",
      "source": [
        "a"
      ],
      "metadata": {
        "colab": {
          "base_uri": "https://localhost:8080/"
        },
        "id": "tM62O_Ox7UnV",
        "outputId": "48ed2ebc-cc1e-4a46-ebe1-33ab2c116510"
      },
      "execution_count": 91,
      "outputs": [
        {
          "output_type": "execute_result",
          "data": {
            "text/plain": [
              "array([  5, -21, 345,  90,   0, -23,  10,   9,   5, 239,  99])"
            ]
          },
          "metadata": {},
          "execution_count": 91
        }
      ]
    },
    {
      "cell_type": "code",
      "source": [
        "np.put(a,3,55)\n",
        "a"
      ],
      "metadata": {
        "colab": {
          "base_uri": "https://localhost:8080/"
        },
        "id": "GOeZfURf7b1u",
        "outputId": "c7e215ce-5388-4cc3-edf2-7612a4f8be25"
      },
      "execution_count": 92,
      "outputs": [
        {
          "output_type": "execute_result",
          "data": {
            "text/plain": [
              "array([  5, -21, 345,  55,   0, -23,  10,   9,   5, 239,  99])"
            ]
          },
          "metadata": {},
          "execution_count": 92
        }
      ]
    },
    {
      "cell_type": "code",
      "source": [
        "# Set Functions\n",
        "s1 = np.arange(3,9)\n",
        "s2 = np.arange(6,12)"
      ],
      "metadata": {
        "id": "Pz0YOtRx7gD1"
      },
      "execution_count": 93,
      "outputs": []
    },
    {
      "cell_type": "code",
      "source": [
        "print(np.union1d(s1,s2))\n",
        "print(np.intersect1d(s1,s2))\n",
        "print(np.setdiff1d(s1,s2))\n",
        "print(np.setdiff1d(s2,s1))\n",
        "print(np.setxor1d(s1,s2))"
      ],
      "metadata": {
        "colab": {
          "base_uri": "https://localhost:8080/"
        },
        "id": "Z2sNAZyK73UI",
        "outputId": "67a004f5-c634-4a00-a419-98dcc6db3950"
      },
      "execution_count": 95,
      "outputs": [
        {
          "output_type": "stream",
          "name": "stdout",
          "text": [
            "[ 3  4  5  6  7  8  9 10 11]\n",
            "[6 7 8]\n",
            "[3 4 5]\n",
            "[ 9 10 11]\n",
            "[ 3  4  5  9 10 11]\n"
          ]
        }
      ]
    },
    {
      "cell_type": "code",
      "source": [],
      "metadata": {
        "id": "zm6qt8B58Z3D"
      },
      "execution_count": null,
      "outputs": []
    }
  ]
}