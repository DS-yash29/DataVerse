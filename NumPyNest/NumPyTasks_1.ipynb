{
  "nbformat": 4,
  "nbformat_minor": 0,
  "metadata": {
    "colab": {
      "provenance": []
    },
    "kernelspec": {
      "name": "python3",
      "display_name": "Python 3"
    },
    "language_info": {
      "name": "python"
    }
  },
  "cells": [
    {
      "cell_type": "markdown",
      "source": [
        "**Note: In Data Science googling is a very important skill. If you find some difficulties to solve the problem, google it and try to find some clues to solve.**"
      ],
      "metadata": {
        "id": "6WdKdPGx-tnY"
      }
    },
    {
      "cell_type": "code",
      "source": [
        "import numpy as np"
      ],
      "metadata": {
        "id": "-J4F1ysN4mLk"
      },
      "execution_count": null,
      "outputs": []
    },
    {
      "cell_type": "markdown",
      "source": [
        "###`Q-1` Create a null vector of size 10 but the fifth value which is 1.\n",
        "\n"
      ],
      "metadata": {
        "id": "a_K8IH-C6HDK"
      }
    },
    {
      "cell_type": "code",
      "source": [
        "n1 = np.zeros(10)\n",
        "n1[4] = 1\n",
        "print(n1)"
      ],
      "metadata": {
        "id": "sTF03KsZ6QUI",
        "outputId": "6e7c9318-522e-42c6-ba62-e47afef36fb9",
        "colab": {
          "base_uri": "https://localhost:8080/"
        }
      },
      "execution_count": null,
      "outputs": [
        {
          "output_type": "stream",
          "name": "stdout",
          "text": [
            "[0. 0. 0. 0. 1. 0. 0. 0. 0. 0.]\n"
          ]
        }
      ]
    },
    {
      "cell_type": "markdown",
      "source": [
        "###`Q-2` Ask user to input two numbers a, b. Write a program to generate a random array of shape (a, b) and print the array and avg of the array."
      ],
      "metadata": {
        "id": "TEiG25rS6S1i"
      }
    },
    {
      "cell_type": "code",
      "source": [
        "a = int(input('Enter 1st Number: '))\n",
        "b = int(input('Enter 2nd Number: '))\n",
        "n2 = np.random.random(a*b).reshape((a,b))\n",
        "print(n2)\n",
        "print('\\nSum of the array:',np.sum(n2),'\\nAverage :',np.mean(n2))"
      ],
      "metadata": {
        "id": "ihwn4oOH6Vh7",
        "outputId": "00d8f5a4-00f2-424d-b891-c057016b4e1f",
        "colab": {
          "base_uri": "https://localhost:8080/"
        }
      },
      "execution_count": null,
      "outputs": [
        {
          "output_type": "stream",
          "name": "stdout",
          "text": [
            "Enter 1st Number: 5\n",
            "Enter 2nd Number: 4\n",
            "[[0.47479792 0.56620971 0.35139361 0.74515524]\n",
            " [0.90389101 0.18455764 0.05378669 0.89721946]\n",
            " [0.21764012 0.40469168 0.61633674 0.06125294]\n",
            " [0.06750832 0.22486103 0.72207592 0.83429213]\n",
            " [0.52537689 0.34661109 0.31565449 0.94187882]]\n",
            "\n",
            "Sum of the array: 9.455191441327093 \n",
            "Average : 0.47275957206635466\n"
          ]
        }
      ]
    },
    {
      "cell_type": "markdown",
      "source": [
        "###`Q-3`Write a function to create a 2d array with 1 on the border and 0 inside. Take 2-D array shape as (a,b) as parameter to function.\n",
        "\n",
        "Eg.-\n",
        "```\n",
        "[[1,1,1,1],\n",
        "[1,0,0,1],\n",
        "[1,0,0,1],\n",
        "[1,1,1,1]]\n",
        "```"
      ],
      "metadata": {
        "id": "2iEeybS06ZSq"
      }
    },
    {
      "cell_type": "code",
      "source": [
        "a = int(input('Enter Number of Rows: '))\n",
        "b = int(input('Enter Number of Columns: '))\n",
        "\n",
        "n3 = np.ones(a*b).reshape((a,b))\n",
        "for i in range(n3.shape[0]):\n",
        "  for j in range(n3.shape[1]):\n",
        "    if(i==0 or i==n3.shape[0]-1):\n",
        "      pass\n",
        "    elif(j == 0 or j == n3.shape[1]-1):\n",
        "      pass\n",
        "    else:\n",
        "      n3[i][j] = 0\n",
        "print(n3)"
      ],
      "metadata": {
        "id": "gEKndkDU6ZSs",
        "outputId": "6949c1ec-93a9-4514-e3c6-1ccee19984cb",
        "colab": {
          "base_uri": "https://localhost:8080/"
        }
      },
      "execution_count": null,
      "outputs": [
        {
          "output_type": "stream",
          "name": "stdout",
          "text": [
            "Enter Number of Rows: 5\n",
            "Enter Number of Columns: 6\n",
            "[[1. 1. 1. 1. 1. 1.]\n",
            " [1. 0. 0. 0. 0. 1.]\n",
            " [1. 0. 0. 0. 0. 1.]\n",
            " [1. 0. 0. 0. 0. 1.]\n",
            " [1. 1. 1. 1. 1. 1.]]\n"
          ]
        }
      ]
    },
    {
      "cell_type": "markdown",
      "source": [
        "###`Q-4` Create a vector of size 10 with values ranging from 0 to 1, both excluded.\n"
      ],
      "metadata": {
        "id": "QRJicQ8j6ZlE"
      }
    },
    {
      "cell_type": "code",
      "source": [
        "n4 = np.linspace(0,1,12)[1:-1]\n",
        "print(n4)"
      ],
      "metadata": {
        "id": "eC4XLhDq6ZlF",
        "outputId": "f5aa234a-97aa-45ef-a437-84ce598fbedf",
        "colab": {
          "base_uri": "https://localhost:8080/"
        }
      },
      "execution_count": null,
      "outputs": [
        {
          "output_type": "stream",
          "name": "stdout",
          "text": [
            "[0.09090909 0.18181818 0.27272727 0.36363636 0.45454545 0.54545455\n",
            " 0.63636364 0.72727273 0.81818182 0.90909091]\n"
          ]
        }
      ]
    },
    {
      "cell_type": "markdown",
      "source": [
        "###`Q-5` Can you create a identity mattrix of shape (3,4). If yes write code for it."
      ],
      "metadata": {
        "id": "vb4jK4yQ6Zs2"
      }
    },
    {
      "cell_type": "code",
      "source": [
        "# No"
      ],
      "metadata": {
        "id": "DTV_AbMS6Zs4"
      },
      "execution_count": null,
      "outputs": []
    },
    {
      "cell_type": "markdown",
      "source": [
        "###`Q-6:` Create a 5x5 matrix with row values ranging from 0 to 4."
      ],
      "metadata": {
        "id": "QtjAFm5PEntK"
      }
    },
    {
      "cell_type": "code",
      "source": [
        "n6 = np.zeros(25).reshape((5,5))\n",
        "for i in range(5):\n",
        "  n6[i] = np.arange(5)\n",
        "print(n6)"
      ],
      "metadata": {
        "id": "z2WGxRjvEuRS",
        "outputId": "7b23dfcb-ac0d-4e22-a139-dcda8cc8b59d",
        "colab": {
          "base_uri": "https://localhost:8080/"
        }
      },
      "execution_count": null,
      "outputs": [
        {
          "output_type": "stream",
          "name": "stdout",
          "text": [
            "[[0. 1. 2. 3. 4.]\n",
            " [0. 1. 2. 3. 4.]\n",
            " [0. 1. 2. 3. 4.]\n",
            " [0. 1. 2. 3. 4.]\n",
            " [0. 1. 2. 3. 4.]]\n"
          ]
        }
      ]
    },
    {
      "cell_type": "markdown",
      "source": [
        "###`Q-7:`  Consider a random integer (in range 1 to 100) vector with shape `(10,2)` representing coordinates, and coordinates of a point as array is given. Create an array of distance of each point in the random vectros from the given point. Distance array should be interger type.\n",
        "\n",
        "```\n",
        "point = np.array([2,3])\n",
        "```\n"
      ],
      "metadata": {
        "id": "KPpvxKjVHnyx"
      }
    },
    {
      "cell_type": "code",
      "source": [
        "n7 = np.random.randint(1,100,20).reshape((10,2))\n",
        "print(n7)\n",
        "point = np.array([2,3])\n",
        "\n",
        "Dist = np.zeros(10)\n",
        "for i in range(10):\n",
        "  Dist[i] = ((n7[i][0]-point[0])**2 + (n7[i][1]-point[1])**2)**(0.5)\n",
        "print(\"Distances of Point From The Matrix :\\n\",Dist)\n",
        "\n",
        "Dist2 = np.sqrt(np.sum((n7-point)**2,axis=1))\n",
        "print('\\n',Dist2)"
      ],
      "metadata": {
        "id": "X7KGnWLNIM6f",
        "outputId": "9131f1af-5af7-4422-eee8-1931c1bb0646",
        "colab": {
          "base_uri": "https://localhost:8080/"
        }
      },
      "execution_count": null,
      "outputs": [
        {
          "output_type": "stream",
          "name": "stdout",
          "text": [
            "[[57 62]\n",
            " [36 15]\n",
            " [59 79]\n",
            " [ 1 77]\n",
            " [45 20]\n",
            " [26 71]\n",
            " [ 7 61]\n",
            " [47 67]\n",
            " [ 7 47]\n",
            " [ 1 31]]\n",
            "Distances of Point From The Matrix :\n",
            " [80.65977932 36.05551275 95.         74.00675645 46.23851209 72.11102551\n",
            " 58.21511831 78.23681998 44.28317965 28.01785145]\n",
            "\n",
            " [80.65977932 36.05551275 95.         74.00675645 46.23851209 72.11102551\n",
            " 58.21511831 78.23681998 44.28317965 28.01785145]\n"
          ]
        }
      ]
    },
    {
      "cell_type": "markdown",
      "source": [
        "###`Q-8:` Consider a (6,7,8) shape array, what is the index (x,y,z) of the 100th element?"
      ],
      "metadata": {
        "id": "tajOFJlCDwTr"
      }
    },
    {
      "cell_type": "code",
      "source": [
        "a = np.random.random(336).reshape((6,7,8))\n",
        "b = 100\n",
        "# Elements in a single array -> no_of_row*no_of_cols\n",
        "print(a.shape[0])\n",
        "c = a.shape[1]*a.shape[2]\n",
        "array_no = b//c\n",
        "row_no = (b-c)//a.shape[1]\n",
        "col = b- c*array_no - a.shape[1]*row_no-1\n",
        "n8 = tuple((array_no,row_no,col))\n",
        "print(n8)\n",
        "#Returns 1,6,1 -> 1*56 + 7*6 +1 == 99 ==> 100th Element"
      ],
      "metadata": {
        "id": "qH4oxvs0D3Ra",
        "outputId": "ec110b22-70ff-4b5c-c70d-27d14b4d1aee",
        "colab": {
          "base_uri": "https://localhost:8080/"
        }
      },
      "execution_count": null,
      "outputs": [
        {
          "output_type": "stream",
          "name": "stdout",
          "text": [
            "6\n",
            "(1, 6, 1)\n"
          ]
        }
      ]
    },
    {
      "cell_type": "markdown",
      "source": [
        "### `Q-9:` Arrays\n",
        "\n",
        "You are given a space separated list of numbers. Your task is to print a reversed NumPy array with the element type float.\n",
        "\n"
      ],
      "metadata": {
        "id": "9LxBAbT2Pw33"
      }
    },
    {
      "cell_type": "markdown",
      "source": [
        "**Input Format:**\n",
        "\n",
        "A single line of input containing space separated numbers.\n",
        "\n",
        "**Output Format:**\n",
        "\n",
        "Print the reverse NumPy array with type float.\n",
        "\n",
        "**Example 1:**\n",
        "\n",
        "Input:\n",
        "\n",
        "```bash\n",
        "1 2 3 4 -8 -10\n",
        "```\n",
        "\n",
        "Output:\n",
        "\n",
        "```bash\n",
        "[-10.  -8.   4.   3.   2.   1.]\n",
        "```"
      ],
      "metadata": {
        "id": "JJpqVms2Nq7L"
      }
    },
    {
      "cell_type": "code",
      "source": [
        "a = '1 2 3 4 -8 -10'\n",
        "x = a.split()\n",
        "n9 = np.arange(len(x),dtype='float')\n",
        "for i in range(len(x)):\n",
        "  n9[i] = x[len(x)-i-1]\n",
        "print(n9)\n"
      ],
      "metadata": {
        "id": "7iQyg6ChNl3j",
        "outputId": "7bc392bf-2324-4337-94eb-a8e88397bdd5",
        "colab": {
          "base_uri": "https://localhost:8080/"
        }
      },
      "execution_count": null,
      "outputs": [
        {
          "output_type": "stream",
          "name": "stdout",
          "text": [
            "[-10.  -8.   4.   3.   2.   1.]\n"
          ]
        }
      ]
    },
    {
      "cell_type": "code",
      "source": [],
      "metadata": {
        "id": "RG0H2I-TNeGN"
      },
      "execution_count": null,
      "outputs": []
    },
    {
      "cell_type": "markdown",
      "source": [
        "### `Q-10:` Softmax function\n",
        "\n",
        "Create a Python function to calculate the Softmax of the given numpy 1D array. The function only accepts the numpy 1D array, otherwise raise error.\n",
        "\n",
        "$$\\Large \\sigma(\\vec z)_i = \\frac{e^{z_i}}{\\sum_{j=i}^{K}{e^{z_j}}}$$\n",
        "\n",
        "https://en.wikipedia.org/wiki/Softmax_function\n",
        "\n"
      ],
      "metadata": {
        "id": "pwgPz-3l5ic5"
      }
    },
    {
      "cell_type": "markdown",
      "source": [
        "**Example 1:**\n",
        "\n",
        "Input:\n",
        "```bash\n",
        "[86.03331084 37.7285648  48.64908087 87.16563062 38.40852563 37.20006318]\n",
        "```\n",
        "\n",
        "Output:\n",
        "```bash\n",
        "[2.43733249e-01, 2.56112115e-22, 1.41628284e-17, 7.56266751e-01,\n",
        "       5.05514197e-22, 1.50974911e-22]\n",
        "```\n",
        "\n",
        "**Example 2:**\n",
        "\n",
        "Input:\n",
        "```bash\n",
        "[33.17344305 45.61961654 82.05405781 80.9647098  68.82830233 91.52064278]\n",
        "```\n",
        "\n",
        "Output:\n",
        "```bash\n",
        "[4.57181035e-26, 1.16249923e-20, 7.73872596e-05, 2.60358426e-05,\n",
        "       1.39571531e-10, 9.99896577e-01]\n",
        "```"
      ],
      "metadata": {
        "id": "eZ3WJt6UM1ul"
      }
    },
    {
      "cell_type": "code",
      "source": [
        "n10 = np.random.random(6)\n",
        "n10 = np.array([33.17344305, 45.61961654, 82.05405781 ,80.9647098,  68.82830233 ,91.52064278])\n",
        "\n",
        "def softmax(arr_):\n",
        "  den = np.sum(np.exp(arr_))\n",
        "  return np.exp(arr_)/den\n",
        "softmax(n10)"
      ],
      "metadata": {
        "id": "VNzj05lkNaNi",
        "colab": {
          "base_uri": "https://localhost:8080/"
        },
        "outputId": "9210a344-0da0-4ff6-ce77-e48c95b5c24c"
      },
      "execution_count": null,
      "outputs": [
        {
          "output_type": "execute_result",
          "data": {
            "text/plain": [
              "array([4.57181033e-26, 1.16249922e-20, 7.73872594e-05, 2.60358426e-05,\n",
              "       1.39571531e-10, 9.99896577e-01])"
            ]
          },
          "metadata": {},
          "execution_count": 12
        }
      ]
    },
    {
      "cell_type": "markdown",
      "source": [
        "### `Q-12:` Vertical stack\n",
        "\n",
        "Write a python function that accepts infinite number of numpy arrays and do the vertical stack to them. Then return that new array as result. The function only accepts the numpy array, otherwise raise error.\n",
        "\n"
      ],
      "metadata": {
        "id": "k4JWSwWu_HXg"
      }
    },
    {
      "cell_type": "markdown",
      "source": [
        "**Example 1:**\n",
        "\n",
        "Input:\n",
        "```bash\n",
        "a= [[0 1 2 3 4]\n",
        " [5 6 7 8 9]]\n",
        "\n",
        "b= [[1 1 1 1 1]\n",
        " [1 1 1 1 1]]\n",
        "```\n",
        "\n",
        "Output:\n",
        "\n",
        "```bash\n",
        "[[0 1 2 3 4]\n",
        " [5 6 7 8 9]\n",
        " [1 1 1 1 1]\n",
        " [1 1 1 1 1]]\n",
        "```\n",
        "\n",
        "**Example 2:**\n",
        "\n",
        "Input:\n",
        "```bash\n",
        "a= [[0 1 2 3 4]\n",
        " [5 6 7 8 9]]\n",
        "\n",
        "b= [[1 1 1 1 1]\n",
        " [1 1 1 1 1]]\n",
        "\n",
        "c= [[0.10117373 0.1677244  0.73764059 0.83166097 0.48985695]\n",
        " [0.44581567 0.13502419 0.55692335 0.16479622 0.61193593]]\n",
        "```\n",
        "\n",
        "Output:\n",
        "```bash\n",
        "[[0.         1.         2.         3.         4.        ]\n",
        " [5.         6.         7.         8.         9.        ]\n",
        " [1.         1.         1.         1.         1.        ]\n",
        " [1.         1.         1.         1.         1.        ]\n",
        " [0.10117373 0.1677244  0.73764059 0.83166097 0.48985695]\n",
        " [0.44581567 0.13502419 0.55692335 0.16479622 0.61193593]]\n",
        "```"
      ],
      "metadata": {
        "id": "XhhV3mraNAWr"
      }
    },
    {
      "cell_type": "code",
      "source": [
        "a= np.array([[0, 1, 2, 3, 4],[5, 6 ,7, 8,9]])\n",
        "b = np.array([[1,2,3,4,5],[5,6,7,8,9]])\n",
        "l = [a,b]\n",
        "\n",
        "for i in range(1,len(l)):\n",
        "    a = np.vstack((a,l[i]))\n",
        "print(a)"
      ],
      "metadata": {
        "id": "dhtnbSj6NP8z",
        "colab": {
          "base_uri": "https://localhost:8080/"
        },
        "outputId": "88327a7e-bf82-4d3c-84fe-3b740ac6e78d"
      },
      "execution_count": null,
      "outputs": [
        {
          "output_type": "stream",
          "name": "stdout",
          "text": [
            "[[0 1 2 3 4]\n",
            " [5 6 7 8 9]\n",
            " [1 2 3 4 5]\n",
            " [5 6 7 8 9]]\n"
          ]
        }
      ]
    },
    {
      "cell_type": "markdown",
      "source": [
        "### `Q-13:` Dates\n",
        "\n",
        "Create a python function named **date_array** that accepts two dates as string format and returns a numpy array of dates between those 2 dates. The function only accept 2 strings, otherwise raise error. The date format should be like this only: `2022-12-6`. The end date should be included and for simplicity, choose dates from a same year.\n",
        "\n"
      ],
      "metadata": {
        "id": "3mk8T6CuC2DP"
      }
    },
    {
      "cell_type": "markdown",
      "source": [
        "**Example 1:**\n",
        "\n",
        "Input:\n",
        "```bash\n",
        "date_array(start = '2020-09-15', end = '2020-09-25')\n",
        "```\n",
        "\n",
        "Output:\n",
        "```bash\n",
        "['2020-09-15', '2020-09-16', '2020-09-17', '2020-09-18',\n",
        " '2020-09-19', '2020-09-20', '2020-09-21', '2020-09-22',\n",
        " '2020-09-23', '2020-09-24', '2020-09-25']\n",
        "```\n",
        "\n",
        "**Example 2:**\n",
        "\n",
        "Input:\n",
        "```bash\n",
        "date_array(start = '2022-12-01', end = '2022-12-06')\n",
        "```\n",
        "\n",
        "Output:\n",
        "```bash\n",
        "['2022-12-01', '2022-12-02', '2022-12-03', '2022-12-04', '2022-12-05', '2022-12-06']\n",
        "```\n",
        "\n",
        "**Example 3:**\n",
        "\n",
        "Input:\n",
        "```bash\n",
        "date_array(start = '2020-11-25', end = '2020-11-30')\n",
        "```\n",
        "\n",
        "Output:\n",
        "```bash\n",
        "['2020-11-25', '2020-11-26', '2020-11-27', '2020-11-28',\n",
        " '2020-11-29', '2020-11-30']\n",
        "```"
      ],
      "metadata": {
        "id": "E3IgjnTTNFEk"
      }
    },
    {
      "cell_type": "code",
      "source": [
        "date_array = np.array(['2020-09-15',  '2020-09-25'])\n",
        "\n",
        "np.arange(date_array[0],date_array[1],dtype='datetime64')"
      ],
      "metadata": {
        "id": "Yj5PBfQQNTnL",
        "colab": {
          "base_uri": "https://localhost:8080/"
        },
        "outputId": "3fabf1c8-e436-408a-e661-cd836f611b70"
      },
      "execution_count": null,
      "outputs": [
        {
          "output_type": "execute_result",
          "data": {
            "text/plain": [
              "array(['2020-09-15', '2020-09-16', '2020-09-17', '2020-09-18',\n",
              "       '2020-09-19', '2020-09-20', '2020-09-21', '2020-09-22',\n",
              "       '2020-09-23', '2020-09-24'], dtype='datetime64[D]')"
            ]
          },
          "metadata": {},
          "execution_count": 14
        }
      ]
    },
    {
      "cell_type": "markdown",
      "source": [
        "###`Q-14:` Subtract the mean of each row from a matrix."
      ],
      "metadata": {
        "id": "bcEp0wTWQijK"
      }
    },
    {
      "cell_type": "code",
      "source": [
        "n14 = np.random.random(20).reshape(4,5)\n",
        "\n",
        "x= np.mean(n14,axis=1)\n",
        "# print(n14,(n14-m),sep='\\n\\n')\n",
        "\n",
        "\n",
        "x = x.reshape(-1,1)\n",
        "\n",
        "print(n14,(n14-x),sep='\\n\\n')"
      ],
      "metadata": {
        "id": "rpILVGcgQzMo",
        "colab": {
          "base_uri": "https://localhost:8080/"
        },
        "outputId": "7d1d7a1e-537f-4b69-99da-e72dcb87319d"
      },
      "execution_count": null,
      "outputs": [
        {
          "output_type": "stream",
          "name": "stdout",
          "text": [
            "[[0.36841374 0.75738462 0.84420533 0.82748112 0.68704166]\n",
            " [0.51808819 0.63240816 0.09940496 0.28131588 0.92664422]\n",
            " [0.62691855 0.44372013 0.68890982 0.66041294 0.68117751]\n",
            " [0.1553766  0.21768123 0.09300259 0.41287247 0.00172127]]\n",
            "\n",
            "[[-0.32849156  0.06047933  0.14730004  0.13057583 -0.00986363]\n",
            " [ 0.02651591  0.14083588 -0.39216732 -0.2102564   0.43507194]\n",
            " [ 0.00669076 -0.17650766  0.06868203  0.04018515  0.06094972]\n",
            " [-0.02075423  0.0415504  -0.08312824  0.23674164 -0.17440956]]\n"
          ]
        }
      ]
    },
    {
      "cell_type": "markdown",
      "source": [
        "###`Q-15:` Swap column-1 of array with column-2 in the array."
      ],
      "metadata": {
        "id": "A-dMVlPPSBTT"
      }
    },
    {
      "cell_type": "code",
      "source": [
        "n15 = np.random.random(20).reshape(4,5)\n",
        "# First Approach -> Using Extra Variables\n",
        "'''\n",
        "# x,y = n15.transpose()[0],n15.transpose()[1]\n",
        "# print(n15,x,y,sep='\\n\\n',end='\\n\\n')\n",
        "# n15[:,0] = y\n",
        "# n15[:,1] = x\n",
        "# print(n15)\n",
        "\n",
        "'''\n",
        "print(n15,end='\\n\\n')\n",
        "n15[:,:2] = n15[:,1::-1]\n",
        "print(n15)"
      ],
      "metadata": {
        "id": "3RtngM9-Q6S7",
        "colab": {
          "base_uri": "https://localhost:8080/"
        },
        "outputId": "c52c5683-2ea2-441c-d814-8441b7bc5291"
      },
      "execution_count": null,
      "outputs": [
        {
          "output_type": "stream",
          "name": "stdout",
          "text": [
            "[[0.22219437 0.22618439 0.60659838 0.21314946 0.08718827]\n",
            " [0.95962033 0.69499508 0.03955581 0.92348831 0.15866925]\n",
            " [0.43528386 0.41945766 0.8429965  0.76761847 0.66702776]\n",
            " [0.29460974 0.65203253 0.60160521 0.80880504 0.00919931]]\n",
            "\n",
            "[[0.22618439 0.22219437 0.60659838 0.21314946 0.08718827]\n",
            " [0.69499508 0.95962033 0.03955581 0.92348831 0.15866925]\n",
            " [0.41945766 0.43528386 0.8429965  0.76761847 0.66702776]\n",
            " [0.65203253 0.29460974 0.60160521 0.80880504 0.00919931]]\n"
          ]
        }
      ]
    },
    {
      "cell_type": "markdown",
      "source": [
        "###`Q-16:` Replace odd elements in arrays with -1."
      ],
      "metadata": {
        "id": "cB4VMexvS6Zi"
      }
    },
    {
      "cell_type": "code",
      "source": [
        "n16 = np.random.randint(1,24,16).reshape((4,4))\n",
        "n16[n16%2 != 0] = -1\n",
        "print(n16)\n"
      ],
      "metadata": {
        "id": "Bt83nXEVS5O4",
        "colab": {
          "base_uri": "https://localhost:8080/"
        },
        "outputId": "e007e6d0-0317-45c5-e6ac-971a848a7877"
      },
      "execution_count": null,
      "outputs": [
        {
          "output_type": "stream",
          "name": "stdout",
          "text": [
            "[[-1 -1  6 -1]\n",
            " [ 6 10 -1 -1]\n",
            " [ 2 12 16 -1]\n",
            " [22  6 -1 -1]]\n"
          ]
        }
      ]
    },
    {
      "cell_type": "markdown",
      "source": [
        "###`Q-17:` Given two arrays of same shape make an array of max out of two arrays. (Numpy way)\n",
        "```\n",
        "a=np.array([6,3,1,5,8])\n",
        "b=np.array([3,2,1,7,2])\n",
        "\n",
        "Result-> [6 3 1 7 8]\n",
        "```"
      ],
      "metadata": {
        "id": "kf_qvmBxWIT_"
      }
    },
    {
      "cell_type": "code",
      "source": [
        "a=np.array([6,3,1,5,8])\n",
        "b=np.array([3,2,1,7,2])\n",
        "c=d = np.zeros(5).astype('int8')\n",
        "# Basic Logic\n",
        "for i in range(len(a)):\n",
        "  if(a[i]>=b[i]):\n",
        "    c[i] = a[i]\n",
        "  else:\n",
        "    c[i] = b[i]\n",
        "print(c,end='\\n\\n')\n",
        "\n",
        "# Through Numpy Function -> Np.maximum\n",
        "d = np.maximum(a,b)\n",
        "print(d)"
      ],
      "metadata": {
        "id": "TB9ZvF-EZSfu",
        "colab": {
          "base_uri": "https://localhost:8080/"
        },
        "outputId": "9078deb5-eb27-47d2-9331-dfc4cb991936"
      },
      "execution_count": null,
      "outputs": [
        {
          "output_type": "stream",
          "name": "stdout",
          "text": [
            "[6 3 1 7 8]\n",
            "\n",
            "[6 3 1 7 8]\n"
          ]
        }
      ]
    },
    {
      "cell_type": "markdown",
      "source": [
        "###`Q-18` Answer below asked questions on given array:\n",
        "1. Fetch Every alternate column of the array\n",
        "2. Normalise the given array\n",
        "\n",
        "https://en.wikipedia.org/wiki/Normalization_(statistics)\n",
        "\n",
        "There are different form of normalisation for this question use below formula.\n",
        "\n",
        "$$\\large X_{normalized} = \\frac{X - X_{min}}{X_{max} - X_{min}}$$\n",
        "\n",
        "```python\n",
        "arr1=np.random.randint(low=1, high=10000, size=40).reshape(8,5)\n",
        "```\n"
      ],
      "metadata": {
        "id": "iOQLUIeGc3zA"
      }
    },
    {
      "cell_type": "code",
      "source": [
        "# Given\n",
        "arr1=np.random.randint(low=1, high=10000, size=40).reshape(8,5)\n",
        "arr1"
      ],
      "metadata": {
        "colab": {
          "base_uri": "https://localhost:8080/"
        },
        "id": "vjSm18k3d_1p",
        "outputId": "fd555906-eaab-4c06-aef0-5d38376ceba2"
      },
      "execution_count": null,
      "outputs": [
        {
          "output_type": "execute_result",
          "data": {
            "text/plain": [
              "array([[3546, 5786, 4642, 5651, 6670],\n",
              "       [7500, 1897, 8889, 4681, 9483],\n",
              "       [4846, 1911, 4933,  865,  266],\n",
              "       [1541, 7415, 7913, 3534, 6247],\n",
              "       [6152, 3794, 5878, 4781, 5736],\n",
              "       [8908, 1072, 9118,  862, 6157],\n",
              "       [8865, 7203,  826, 1965, 7665],\n",
              "       [4711, 3829, 7197, 1776, 6857]])"
            ]
          },
          "metadata": {},
          "execution_count": 19
        }
      ]
    },
    {
      "cell_type": "code",
      "source": [
        "# First Part\n",
        "arr = np.random.randint(low=1, high=100, size=(8, 5))\n",
        "\n",
        "alternate_columns = arr[:, ::2]\n",
        "\n",
        "print(alternate_columns)\n",
        "\n"
      ],
      "metadata": {
        "colab": {
          "base_uri": "https://localhost:8080/"
        },
        "id": "6tndz1acbEpS",
        "outputId": "0bdca563-9aa0-4ca6-daa5-aaffefb0b7b3"
      },
      "execution_count": null,
      "outputs": [
        {
          "output_type": "stream",
          "name": "stdout",
          "text": [
            "[[48 82 87]\n",
            " [51 70 92]\n",
            " [49 86 52]\n",
            " [62 22 86]\n",
            " [60 18 98]\n",
            " [35 90 56]\n",
            " [31 77 98]\n",
            " [18 52 15]]\n"
          ]
        }
      ]
    },
    {
      "cell_type": "code",
      "source": [
        "# Second part\n",
        "arr1=np.random.randint(low=1, high=10000, size=40).reshape(8,5)\n",
        "\n",
        "x = np.min(arr1,axis=0)\n",
        "y = np.max(arr1,axis=0)\n",
        "print(arr1,sep='\\n\\n\\n')\n",
        "print(x,y,sep='\\n\\n',end='\\n\\n')\n",
        "arr1 = (arr1-x)/(y-x)\n",
        "print(arr1)"
      ],
      "metadata": {
        "id": "d7u8DB47eBfQ",
        "colab": {
          "base_uri": "https://localhost:8080/"
        },
        "outputId": "93ecf5c4-4cb0-44ac-9d2d-5363c8be659d"
      },
      "execution_count": null,
      "outputs": [
        {
          "output_type": "stream",
          "name": "stdout",
          "text": [
            "[[4237 8581 1734 3634  299]\n",
            " [7514 5728 4085 5308 9954]\n",
            " [2871 6591  188 5528 7752]\n",
            " [1331 9784 3238 4887 1548]\n",
            " [9767 3295 6366 6139 1811]\n",
            " [7497 7506 8200 6268 4126]\n",
            " [2452 6195 2783 7759 2122]\n",
            " [7016 4542 7755 7070 6977]]\n",
            "[1331 3295  188 3634  299]\n",
            "\n",
            "[9767 9784 8200 7759 9954]\n",
            "\n",
            "[[0.34447606 0.81460934 0.19296056 0.         0.        ]\n",
            " [0.7329303  0.37494221 0.48639541 0.40581818 1.        ]\n",
            " [0.18255097 0.50793651 0.         0.45915152 0.77193164]\n",
            " [0.         1.         0.38067898 0.30375758 0.12936302]\n",
            " [1.         0.         0.77109336 0.60727273 0.1566028 ]\n",
            " [0.73091513 0.64894437 1.         0.63854545 0.39637494]\n",
            " [0.13288288 0.44691016 0.32388917 1.         0.18881409]\n",
            " [0.67389758 0.19217137 0.94445831 0.8329697  0.69166235]]\n"
          ]
        }
      ]
    },
    {
      "cell_type": "markdown",
      "source": [
        "###`Q-19:` Write a function which will accept 2 arguments.\n",
        "First: A 1D numpy array arr\n",
        "\n",
        "Second: An integer n {Please make sure n<=len(arr)}\n",
        "\n",
        "Output: The output should be the nth largest item out of the array\n",
        "```\n",
        "# Example1 : arr=(12,34,40,7,1,0) and n=3, the output should be 12\n",
        "# Example2 : arr=(12,34,40,7,1,0) and n=1, the output should be 40\n",
        "```"
      ],
      "metadata": {
        "id": "jCzsVEKLgGNo"
      }
    },
    {
      "cell_type": "code",
      "source": [
        "def fetch_nth_element(arr,n):\n",
        "  if(arr.ndim ==1):\n",
        "    a = np.sort(arr)\n",
        "    n = n%arr.size\n",
        "    if(np.ndim(a) == 1):\n",
        "      print(arr,np.flip(a)[n-1],sep=\"\\n\\n\",end='\\n\\n')\n",
        "  else:\n",
        "    print(\"Enter 1-D Array\",sep='\\n\\n')\n",
        "\n",
        "\n",
        "n19 = np.random.randint(1,20,8)\n",
        "n19_  = np.random.randint(1,35,14).reshape(2,7)\n",
        "fetch_nth_element(n19,5)\n",
        "fetch_nth_element(n19_,5)"
      ],
      "metadata": {
        "id": "J4AzkDk7gXSG",
        "colab": {
          "base_uri": "https://localhost:8080/"
        },
        "outputId": "3c07d089-bd61-46a6-f37b-61fc16324928"
      },
      "execution_count": null,
      "outputs": [
        {
          "output_type": "stream",
          "name": "stdout",
          "text": [
            "[ 4 12 19 11 17 13 18 11]\n",
            "\n",
            "12\n",
            "\n",
            "Enter 1-D Array\n"
          ]
        }
      ]
    },
    {
      "cell_type": "markdown",
      "source": [
        "###`Q-20:` Create the following pattern without hardcoding. Use only numpy functions and the below input array a.\n",
        "```\n",
        "# Input: a = np.array([1,2,3])\n",
        "# Output: array([1, 1, 1, 2, 2, 2, 3, 3, 3, 1, 2, 3, 1, 2, 3, 1, 2, 3])\n",
        "```"
      ],
      "metadata": {
        "id": "ja0xPCgjhBsg"
      }
    },
    {
      "cell_type": "code",
      "source": [
        "#code here"
      ],
      "metadata": {
        "id": "CndS8TTNhG0F"
      },
      "execution_count": null,
      "outputs": []
    }
  ]
}