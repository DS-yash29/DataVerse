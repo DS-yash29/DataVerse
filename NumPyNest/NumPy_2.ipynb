{
  "nbformat": 4,
  "nbformat_minor": 0,
  "metadata": {
    "colab": {
      "provenance": []
    },
    "kernelspec": {
      "name": "python3",
      "display_name": "Python 3"
    },
    "language_info": {
      "name": "python"
    }
  },
  "cells": [
    {
      "cell_type": "markdown",
      "source": [
        "# NumPy Arrays:\n",
        "***Indexing & Slicing***\n",
        "\n",
        "***Boolean  & Fancy Indexing***\n",
        "\n",
        "***Mathematical Operations in Numpy***"
      ],
      "metadata": {
        "id": "g5FEUawKFDmi"
      }
    },
    {
      "cell_type": "code",
      "source": [
        "import numpy as np"
      ],
      "metadata": {
        "id": "XyaoJU2iI8mg"
      },
      "execution_count": 171,
      "outputs": []
    },
    {
      "cell_type": "code",
      "source": [
        "a = np.arange(20).reshape(4,5)\n",
        "b = np.linspace(1,20,20).reshape(2,5,2)\n",
        "print(a,b,sep='\\n\\n')"
      ],
      "metadata": {
        "colab": {
          "base_uri": "https://localhost:8080/"
        },
        "id": "dzCGJSA0K-sj",
        "outputId": "077d8ce4-a998-4012-d0ab-e232249566f3"
      },
      "execution_count": 172,
      "outputs": [
        {
          "output_type": "stream",
          "name": "stdout",
          "text": [
            "[[ 0  1  2  3  4]\n",
            " [ 5  6  7  8  9]\n",
            " [10 11 12 13 14]\n",
            " [15 16 17 18 19]]\n",
            "\n",
            "[[[ 1.  2.]\n",
            "  [ 3.  4.]\n",
            "  [ 5.  6.]\n",
            "  [ 7.  8.]\n",
            "  [ 9. 10.]]\n",
            "\n",
            " [[11. 12.]\n",
            "  [13. 14.]\n",
            "  [15. 16.]\n",
            "  [17. 18.]\n",
            "  [19. 20.]]]\n"
          ]
        }
      ]
    },
    {
      "cell_type": "code",
      "source": [
        "# Indexing Format :\n",
        "# array_name[row_no,col_no] For 2-D Array\n",
        "\n",
        "print(a[0,]) # Returns 1st Row with all the columns\n",
        "print(a[:,0]) # Returns 1st Col with all the rows\n"
      ],
      "metadata": {
        "colab": {
          "base_uri": "https://localhost:8080/"
        },
        "id": "DpzrQeF8LT0_",
        "outputId": "7358e5c2-8436-47b6-c9c8-3421559088e9"
      },
      "execution_count": 173,
      "outputs": [
        {
          "output_type": "stream",
          "name": "stdout",
          "text": [
            "[0 1 2 3 4]\n",
            "[ 0  5 10 15]\n"
          ]
        }
      ]
    },
    {
      "cell_type": "code",
      "source": [
        "# Slicing Concept\n",
        "print(a[0:3,],end='\\n\\n') #First 3 rows with all the Columns\n",
        "print(a[:,1:5]) # All the rows with specified cols"
      ],
      "metadata": {
        "colab": {
          "base_uri": "https://localhost:8080/"
        },
        "id": "InTcU_F4Lya2",
        "outputId": "3dde6635-f191-4cfa-9e47-93ba31c4bf85"
      },
      "execution_count": 174,
      "outputs": [
        {
          "output_type": "stream",
          "name": "stdout",
          "text": [
            "[[ 0  1  2  3  4]\n",
            " [ 5  6  7  8  9]\n",
            " [10 11 12 13 14]]\n",
            "\n",
            "[[ 1  2  3  4]\n",
            " [ 6  7  8  9]\n",
            " [11 12 13 14]\n",
            " [16 17 18 19]]\n"
          ]
        }
      ]
    },
    {
      "cell_type": "code",
      "source": [
        "# Negative Indexing & Slicing\n",
        "print(a[-1,],end='\\n\\n') #Prints Last row with all cols\n",
        "print(a[:,-5:]) # Prints all the rows with all the cols"
      ],
      "metadata": {
        "colab": {
          "base_uri": "https://localhost:8080/"
        },
        "id": "-26CevsMMOLo",
        "outputId": "0a776552-f1b5-49e2-9bd7-4503e3c38e2c"
      },
      "execution_count": 175,
      "outputs": [
        {
          "output_type": "stream",
          "name": "stdout",
          "text": [
            "[15 16 17 18 19]\n",
            "\n",
            "[[ 0  1  2  3  4]\n",
            " [ 5  6  7  8  9]\n",
            " [10 11 12 13 14]\n",
            " [15 16 17 18 19]]\n"
          ]
        }
      ]
    },
    {
      "cell_type": "code",
      "source": [
        "print(a[-1:-6:-1,-1::-1])"
      ],
      "metadata": {
        "colab": {
          "base_uri": "https://localhost:8080/"
        },
        "id": "NIq4rdtoNEgr",
        "outputId": "904f604c-b71a-46ce-aed4-a20ed1d32605"
      },
      "execution_count": 176,
      "outputs": [
        {
          "output_type": "stream",
          "name": "stdout",
          "text": [
            "[[19 18 17 16 15]\n",
            " [14 13 12 11 10]\n",
            " [ 9  8  7  6  5]\n",
            " [ 4  3  2  1  0]]\n"
          ]
        }
      ]
    },
    {
      "cell_type": "code",
      "source": [
        "# Indeinxg for 3-D Arrays\n",
        "print(b)"
      ],
      "metadata": {
        "colab": {
          "base_uri": "https://localhost:8080/"
        },
        "id": "XkCYgKC5S6Fc",
        "outputId": "d33ae329-d02a-4d0a-b566-a1d856a9b418"
      },
      "execution_count": 177,
      "outputs": [
        {
          "output_type": "stream",
          "name": "stdout",
          "text": [
            "[[[ 1.  2.]\n",
            "  [ 3.  4.]\n",
            "  [ 5.  6.]\n",
            "  [ 7.  8.]\n",
            "  [ 9. 10.]]\n",
            "\n",
            " [[11. 12.]\n",
            "  [13. 14.]\n",
            "  [15. 16.]\n",
            "  [17. 18.]\n",
            "  [19. 20.]]]\n"
          ]
        }
      ]
    },
    {
      "cell_type": "code",
      "source": [
        "print(b[0,0])"
      ],
      "metadata": {
        "colab": {
          "base_uri": "https://localhost:8080/"
        },
        "id": "8nu2TBnYTbO-",
        "outputId": "0cad014e-71b6-4847-8ccd-8ce392fb45e9"
      },
      "execution_count": 178,
      "outputs": [
        {
          "output_type": "stream",
          "name": "stdout",
          "text": [
            "[1. 2.]\n"
          ]
        }
      ]
    },
    {
      "cell_type": "code",
      "source": [
        "print(b[0,0:4,-1])"
      ],
      "metadata": {
        "colab": {
          "base_uri": "https://localhost:8080/"
        },
        "id": "QHo7W6fqTxcO",
        "outputId": "3e51fe2f-8ecc-4255-af74-28ebaaf3cfc2"
      },
      "execution_count": 179,
      "outputs": [
        {
          "output_type": "stream",
          "name": "stdout",
          "text": [
            "[2. 4. 6. 8.]\n"
          ]
        }
      ]
    },
    {
      "cell_type": "markdown",
      "source": [
        "*Fancy Indexing*\n",
        "\n",
        "-  Used to Fetch Specified cols & Rows By Passing it into a list"
      ],
      "metadata": {
        "id": "zfAepbRWWFK8"
      }
    },
    {
      "cell_type": "code",
      "source": [
        "c = np.arange(1,101).reshape(25,4)"
      ],
      "metadata": {
        "id": "IeyRRyoFV3dO"
      },
      "execution_count": 180,
      "outputs": []
    },
    {
      "cell_type": "code",
      "source": [
        "c"
      ],
      "metadata": {
        "colab": {
          "base_uri": "https://localhost:8080/"
        },
        "id": "UuBxsKi0WjAM",
        "outputId": "839b6b40-fe43-48ac-85eb-9d9f8748c763"
      },
      "execution_count": 181,
      "outputs": [
        {
          "output_type": "execute_result",
          "data": {
            "text/plain": [
              "array([[  1,   2,   3,   4],\n",
              "       [  5,   6,   7,   8],\n",
              "       [  9,  10,  11,  12],\n",
              "       [ 13,  14,  15,  16],\n",
              "       [ 17,  18,  19,  20],\n",
              "       [ 21,  22,  23,  24],\n",
              "       [ 25,  26,  27,  28],\n",
              "       [ 29,  30,  31,  32],\n",
              "       [ 33,  34,  35,  36],\n",
              "       [ 37,  38,  39,  40],\n",
              "       [ 41,  42,  43,  44],\n",
              "       [ 45,  46,  47,  48],\n",
              "       [ 49,  50,  51,  52],\n",
              "       [ 53,  54,  55,  56],\n",
              "       [ 57,  58,  59,  60],\n",
              "       [ 61,  62,  63,  64],\n",
              "       [ 65,  66,  67,  68],\n",
              "       [ 69,  70,  71,  72],\n",
              "       [ 73,  74,  75,  76],\n",
              "       [ 77,  78,  79,  80],\n",
              "       [ 81,  82,  83,  84],\n",
              "       [ 85,  86,  87,  88],\n",
              "       [ 89,  90,  91,  92],\n",
              "       [ 93,  94,  95,  96],\n",
              "       [ 97,  98,  99, 100]])"
            ]
          },
          "metadata": {},
          "execution_count": 181
        }
      ]
    },
    {
      "cell_type": "code",
      "source": [],
      "metadata": {
        "id": "2uL9DS78WPwF"
      },
      "execution_count": 181,
      "outputs": []
    },
    {
      "cell_type": "code",
      "source": [
        "print(c[[0,2,5,9,12,20,23]][:,[0,3]])"
      ],
      "metadata": {
        "colab": {
          "base_uri": "https://localhost:8080/"
        },
        "id": "S-wDn2I9WQJh",
        "outputId": "6eb91545-b1f9-4489-c7d8-e89dda926835"
      },
      "execution_count": 182,
      "outputs": [
        {
          "output_type": "stream",
          "name": "stdout",
          "text": [
            "[[ 1  4]\n",
            " [ 9 12]\n",
            " [21 24]\n",
            " [37 40]\n",
            " [49 52]\n",
            " [81 84]\n",
            " [93 96]]\n"
          ]
        }
      ]
    },
    {
      "cell_type": "markdown",
      "source": [
        "*Boolean indexing*\n",
        "\n",
        "- Also known as Boolean Masking\n",
        "- Returns all the index values which satisfies the condition | True"
      ],
      "metadata": {
        "id": "Mq-FIbM3fgsV"
      }
    },
    {
      "cell_type": "code",
      "source": [
        "a"
      ],
      "metadata": {
        "colab": {
          "base_uri": "https://localhost:8080/"
        },
        "id": "U73UJANEYTVX",
        "outputId": "e8736f30-84b8-4538-c04b-04ce173a2034"
      },
      "execution_count": 183,
      "outputs": [
        {
          "output_type": "execute_result",
          "data": {
            "text/plain": [
              "array([[ 0,  1,  2,  3,  4],\n",
              "       [ 5,  6,  7,  8,  9],\n",
              "       [10, 11, 12, 13, 14],\n",
              "       [15, 16, 17, 18, 19]])"
            ]
          },
          "metadata": {},
          "execution_count": 183
        }
      ]
    },
    {
      "cell_type": "code",
      "source": [
        "print(a[a>12]) #Returns all the elements greater than 12"
      ],
      "metadata": {
        "colab": {
          "base_uri": "https://localhost:8080/"
        },
        "id": "GFDRvCkfflrx",
        "outputId": "60e27d49-8d82-4be1-f1a0-9bcd05e51e70"
      },
      "execution_count": 184,
      "outputs": [
        {
          "output_type": "stream",
          "name": "stdout",
          "text": [
            "[13 14 15 16 17 18 19]\n"
          ]
        }
      ]
    },
    {
      "cell_type": "code",
      "source": [
        "print(a[a%2!=0])"
      ],
      "metadata": {
        "colab": {
          "base_uri": "https://localhost:8080/"
        },
        "id": "GMnx2rhpfn9o",
        "outputId": "8d242beb-618f-4d9c-b229-806d7971b0e9"
      },
      "execution_count": 185,
      "outputs": [
        {
          "output_type": "stream",
          "name": "stdout",
          "text": [
            "[ 1  3  5  7  9 11 13 15 17 19]\n"
          ]
        }
      ]
    },
    {
      "cell_type": "code",
      "source": [
        "(c[~((c%2 == 0) | (c>8))]) #All the no's smaller than 8 and are odd"
      ],
      "metadata": {
        "colab": {
          "base_uri": "https://localhost:8080/"
        },
        "id": "ui8_dip3gA8b",
        "outputId": "76e4dc19-f56f-43b5-d16f-e32ad7e4d6e5"
      },
      "execution_count": 186,
      "outputs": [
        {
          "output_type": "execute_result",
          "data": {
            "text/plain": [
              "array([1, 3, 5, 7])"
            ]
          },
          "metadata": {},
          "execution_count": 186
        }
      ]
    },
    {
      "cell_type": "code",
      "source": [
        "print(b[b%5 != 0])"
      ],
      "metadata": {
        "colab": {
          "base_uri": "https://localhost:8080/"
        },
        "id": "ilejsFNXhVgd",
        "outputId": "911eff23-237a-4f1f-8657-9ebb77f3f63e"
      },
      "execution_count": 187,
      "outputs": [
        {
          "output_type": "stream",
          "name": "stdout",
          "text": [
            "[ 1.  2.  3.  4.  6.  7.  8.  9. 11. 12. 13. 14. 16. 17. 18. 19.]\n"
          ]
        }
      ]
    },
    {
      "cell_type": "markdown",
      "source": [
        "***Mathematical Operations***\n",
        "\n",
        "*Along With Curves*\n",
        "\n",
        "- Sigmoid\n",
        "- sine Function\n",
        "- Logarithmic"
      ],
      "metadata": {
        "id": "pj-54HZyiOce"
      }
    },
    {
      "cell_type": "code",
      "source": [
        "import matplotlib.pyplot as plt\n"
      ],
      "metadata": {
        "id": "gvB4U5UlhVXe"
      },
      "execution_count": 188,
      "outputs": []
    },
    {
      "cell_type": "code",
      "source": [
        "x = np.arange(1,21)\n",
        "y = np.log2(x)\n",
        "\n",
        "print(x,end='\\n\\n')\n",
        "print(y)"
      ],
      "metadata": {
        "colab": {
          "base_uri": "https://localhost:8080/"
        },
        "id": "SEh69MW_gF-B",
        "outputId": "896a0bec-20a0-49b5-d1ad-a12a30ae828e"
      },
      "execution_count": 189,
      "outputs": [
        {
          "output_type": "stream",
          "name": "stdout",
          "text": [
            "[ 1  2  3  4  5  6  7  8  9 10 11 12 13 14 15 16 17 18 19 20]\n",
            "\n",
            "[0.         1.         1.5849625  2.         2.32192809 2.5849625\n",
            " 2.80735492 3.         3.169925   3.32192809 3.45943162 3.5849625\n",
            " 3.70043972 3.80735492 3.9068906  4.         4.08746284 4.169925\n",
            " 4.24792751 4.32192809]\n"
          ]
        }
      ]
    },
    {
      "cell_type": "code",
      "source": [
        "plt.plot(y,x)\n",
        "\n",
        "plt.title('Logarithmic Function')\n",
        "plt.xlabel('X')\n",
        "plt.ylabel('log(X)')\n",
        "plt.show()"
      ],
      "metadata": {
        "colab": {
          "base_uri": "https://localhost:8080/",
          "height": 472
        },
        "id": "6YhHslyui_rt",
        "outputId": "9a7f6f9d-5241-4e8a-dc2f-21c51bd31ffa"
      },
      "execution_count": 190,
      "outputs": [
        {
          "output_type": "display_data",
          "data": {
            "text/plain": [
              "<Figure size 640x480 with 1 Axes>"
            ],
            "image/png": "[encoded data removed]"
          },
          "metadata": {}
        }
      ]
    },
    {
      "cell_type": "code",
      "source": [
        "a = np.arange(-10,11)\n",
        "b = np.square(a)"
      ],
      "metadata": {
        "id": "O8LjOpkHjU6e"
      },
      "execution_count": 191,
      "outputs": []
    },
    {
      "cell_type": "code",
      "source": [
        "print(a)\n",
        "print(b)"
      ],
      "metadata": {
        "colab": {
          "base_uri": "https://localhost:8080/"
        },
        "id": "Dks1h016ksKe",
        "outputId": "0914b875-b9dd-4b77-b2a4-1849916222e1"
      },
      "execution_count": 192,
      "outputs": [
        {
          "output_type": "stream",
          "name": "stdout",
          "text": [
            "[-10  -9  -8  -7  -6  -5  -4  -3  -2  -1   0   1   2   3   4   5   6   7\n",
            "   8   9  10]\n",
            "[100  81  64  49  36  25  16   9   4   1   0   1   4   9  16  25  36  49\n",
            "  64  81 100]\n"
          ]
        }
      ]
    },
    {
      "cell_type": "code",
      "source": [
        "plt.plot(a,b)\n",
        "plt.title('Exponential Function')\n",
        "plt.xlabel('X')\n",
        "plt.ylabel('X^2')\n",
        "plt.show()"
      ],
      "metadata": {
        "colab": {
          "base_uri": "https://localhost:8080/",
          "height": 472
        },
        "id": "hBsFI08qk21s",
        "outputId": "bc2efb2b-17bf-4ed2-8a77-dd46efd86e83"
      },
      "execution_count": 193,
      "outputs": [
        {
          "output_type": "display_data",
          "data": {
            "text/plain": [
              "<Figure size 640x480 with 1 Axes>"
            ],
            "image/png": "[encoded data removed]"
          },
          "metadata": {}
        }
      ]
    },
    {
      "cell_type": "code",
      "source": [
        "a = np.arange(-10,11)\n",
        "b = np.sin(a)\n",
        "print(a,b,sep='\\n\\n')"
      ],
      "metadata": {
        "colab": {
          "base_uri": "https://localhost:8080/"
        },
        "id": "40jYPZBvlQZU",
        "outputId": "04aa9237-1526-4a73-8286-93ea8ecefa75"
      },
      "execution_count": 194,
      "outputs": [
        {
          "output_type": "stream",
          "name": "stdout",
          "text": [
            "[-10  -9  -8  -7  -6  -5  -4  -3  -2  -1   0   1   2   3   4   5   6   7\n",
            "   8   9  10]\n",
            "\n",
            "[ 0.54402111 -0.41211849 -0.98935825 -0.6569866   0.2794155   0.95892427\n",
            "  0.7568025  -0.14112001 -0.90929743 -0.84147098  0.          0.84147098\n",
            "  0.90929743  0.14112001 -0.7568025  -0.95892427 -0.2794155   0.6569866\n",
            "  0.98935825  0.41211849 -0.54402111]\n"
          ]
        }
      ]
    },
    {
      "cell_type": "code",
      "source": [
        "plt.plot(a,b)\n",
        "plt.title('Sine Function')\n",
        "plt.xlabel('X')\n",
        "plt.ylabel('sin(X)')\n",
        "plt.show()"
      ],
      "metadata": {
        "colab": {
          "base_uri": "https://localhost:8080/",
          "height": 472
        },
        "id": "54QA67frlpOh",
        "outputId": "e2636876-7a8f-4380-f721-6a790066d442"
      },
      "execution_count": 195,
      "outputs": [
        {
          "output_type": "display_data",
          "data": {
            "text/plain": [
              "<Figure size 640x480 with 1 Axes>"
            ],
            "image/png": "[encoded data removed]"
          },
          "metadata": {}
        }
      ]
    },
    {
      "cell_type": "code",
      "source": [
        "#Sigmoid Function\n",
        "# sigmoid\n",
        "def sigmoid(array):\n",
        "  return 1/(1 + np.exp(-(array)))\n",
        "\n",
        "\n",
        "a = np.arange(-50,71)\n",
        "\n",
        "sigmoid(a)"
      ],
      "metadata": {
        "colab": {
          "base_uri": "https://localhost:8080/"
        },
        "id": "a3TzSymWl8Tx",
        "outputId": "f5629449-d131-4ee5-d8bc-9f3627baa5c4"
      },
      "execution_count": 196,
      "outputs": [
        {
          "output_type": "execute_result",
          "data": {
            "text/plain": [
              "array([1.92874985e-22, 5.24288566e-22, 1.42516408e-21, 3.87399763e-21,\n",
              "       1.05306174e-20, 2.86251858e-20, 7.78113224e-20, 2.11513104e-19,\n",
              "       5.74952226e-19, 1.56288219e-18, 4.24835426e-18, 1.15482242e-17,\n",
              "       3.13913279e-17, 8.53304763e-17, 2.31952283e-16, 6.30511676e-16,\n",
              "       1.71390843e-15, 4.65888615e-15, 1.26641655e-14, 3.44247711e-14,\n",
              "       9.35762297e-14, 2.54366565e-13, 6.91440011e-13, 1.87952882e-12,\n",
              "       5.10908903e-12, 1.38879439e-11, 3.77513454e-11, 1.02618796e-10,\n",
              "       2.78946809e-10, 7.58256042e-10, 2.06115362e-09, 5.60279641e-09,\n",
              "       1.52299795e-08, 4.13993755e-08, 1.12535162e-07, 3.05902227e-07,\n",
              "       8.31528028e-07, 2.26032430e-06, 6.14417460e-06, 1.67014218e-05,\n",
              "       4.53978687e-05, 1.23394576e-04, 3.35350130e-04, 9.11051194e-04,\n",
              "       2.47262316e-03, 6.69285092e-03, 1.79862100e-02, 4.74258732e-02,\n",
              "       1.19202922e-01, 2.68941421e-01, 5.00000000e-01, 7.31058579e-01,\n",
              "       8.80797078e-01, 9.52574127e-01, 9.82013790e-01, 9.93307149e-01,\n",
              "       9.97527377e-01, 9.99088949e-01, 9.99664650e-01, 9.99876605e-01,\n",
              "       9.99954602e-01, 9.99983299e-01, 9.99993856e-01, 9.99997740e-01,\n",
              "       9.99999168e-01, 9.99999694e-01, 9.99999887e-01, 9.99999959e-01,\n",
              "       9.99999985e-01, 9.99999994e-01, 9.99999998e-01, 9.99999999e-01,\n",
              "       1.00000000e+00, 1.00000000e+00, 1.00000000e+00, 1.00000000e+00,\n",
              "       1.00000000e+00, 1.00000000e+00, 1.00000000e+00, 1.00000000e+00,\n",
              "       1.00000000e+00, 1.00000000e+00, 1.00000000e+00, 1.00000000e+00,\n",
              "       1.00000000e+00, 1.00000000e+00, 1.00000000e+00, 1.00000000e+00,\n",
              "       1.00000000e+00, 1.00000000e+00, 1.00000000e+00, 1.00000000e+00,\n",
              "       1.00000000e+00, 1.00000000e+00, 1.00000000e+00, 1.00000000e+00,\n",
              "       1.00000000e+00, 1.00000000e+00, 1.00000000e+00, 1.00000000e+00,\n",
              "       1.00000000e+00, 1.00000000e+00, 1.00000000e+00, 1.00000000e+00,\n",
              "       1.00000000e+00, 1.00000000e+00, 1.00000000e+00, 1.00000000e+00,\n",
              "       1.00000000e+00, 1.00000000e+00, 1.00000000e+00, 1.00000000e+00,\n",
              "       1.00000000e+00, 1.00000000e+00, 1.00000000e+00, 1.00000000e+00,\n",
              "       1.00000000e+00, 1.00000000e+00, 1.00000000e+00, 1.00000000e+00,\n",
              "       1.00000000e+00])"
            ]
          },
          "metadata": {},
          "execution_count": 196
        }
      ]
    },
    {
      "cell_type": "code",
      "source": [
        "plt.plot(a,sigmoid(a))\n",
        "plt.title('Sigmoid Function')\n",
        "plt.xlabel('X')\n",
        "plt.ylabel('1/(1+e^(-X))')\n",
        "plt.show()"
      ],
      "metadata": {
        "colab": {
          "base_uri": "https://localhost:8080/",
          "height": 472
        },
        "id": "DJD03VC8maF1",
        "outputId": "52e09b37-3f3c-4585-82b4-ee0d03f45427"
      },
      "execution_count": 197,
      "outputs": [
        {
          "output_type": "display_data",
          "data": {
            "text/plain": [
              "<Figure size 640x480 with 1 Axes>"
            ],
            "image/png": "[encoded data removed]"
          },
          "metadata": {}
        }
      ]
    },
    {
      "cell_type": "code",
      "source": [],
      "metadata": {
        "id": "gt53gYtymfhp"
      },
      "execution_count": 197,
      "outputs": []
    },
    {
      "cell_type": "code",
      "source": [],
      "metadata": {
        "id": "Mj3MdfLMndSl"
      },
      "execution_count": 197,
      "outputs": []
    },
    {
      "cell_type": "code",
      "source": [],
      "metadata": {
        "id": "_jiD52vVnmjF"
      },
      "execution_count": 197,
      "outputs": []
    }
  ]
}