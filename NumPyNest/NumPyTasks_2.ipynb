{
  "nbformat": 4,
  "nbformat_minor": 0,
  "metadata": {
    "colab": {
      "provenance": []
    },
    "kernelspec": {
      "name": "python3",
      "display_name": "Python 3"
    },
    "language_info": {
      "name": "python"
    }
  },
  "cells": [
    {
      "cell_type": "code",
      "source": [
        "import numpy as np"
      ],
      "metadata": {
        "id": "yUYZoQ7xEG26"
      },
      "execution_count": 1,
      "outputs": []
    },
    {
      "cell_type": "markdown",
      "source": [
        "###`Q-1:` Create a random 3x4 matrix with value between 0-100. And perform below tasks\n",
        "\n",
        "    i. Sort this matrix. np.sort()\n",
        "    ii. Sort this matrix based on values in 2nd column.\n",
        "    iii. Sort this matrix based on max value in each row.\n",
        "    iv. Sort based on elements value.\n"
      ],
      "metadata": {
        "id": "J88qfqQEk_sT"
      }
    },
    {
      "cell_type": "markdown",
      "source": [
        "See examples:\n",
        "```\n",
        "arr =\n",
        "    [[92 90 74]\n",
        "    [ 6 63 93]\n",
        "    [15 93 96]\n",
        "    [70 60 48]]\n",
        "```\n",
        "```\n",
        "i. np.sort\n",
        "[[74 90 92]\n",
        " [ 6 63 93]\n",
        " [15 93 96]\n",
        " [48 60 70]]\n",
        "\n",
        "ii. based on 2nd column\n",
        "[[70 60 48]\n",
        " [ 6 63 93]\n",
        " [92 90 74]\n",
        " [15 93 96]]\n",
        "\n",
        "iii. based on row max- ascending\n",
        "[[15 93 96]\n",
        " [ 6 63 93]\n",
        " [92 90 74]\n",
        " [70 60 48]]\n",
        "\n",
        "iv. based on elements value\n",
        "[[ 6 15 48]\n",
        " [60 63 70]\n",
        " [74 90 92]\n",
        " [93 93 96]]\n",
        "\n",
        "```"
      ],
      "metadata": {
        "id": "xpOwOdhqlE9R"
      }
    },
    {
      "cell_type": "code",
      "source": [
        "arr = np.array([[92,90,74],[6,63,93],[15,93,96],[70,60,48]])"
      ],
      "metadata": {
        "id": "Auy-guUwlALv"
      },
      "execution_count": 2,
      "outputs": []
    },
    {
      "cell_type": "code",
      "source": [
        "# i) First Part\n",
        "print(np.sort(arr,axis=1),end='\\n\\n')\n",
        "\n",
        "# ii) Second Part\n",
        "ind = np.argsort(arr[:,1])\n",
        "print(arr[ind],end='\\n\\n')\n",
        "\n",
        "# iii) Third Part\n",
        "a = np.amax(arr,axis=1)\n",
        "indices = np.argsort(a)\n",
        "print(arr[indices],end='\\n\\n')\n",
        "\n",
        "# iv) Fourth Part\n",
        "t = np.sort(np.ravel(arr))\n",
        "print(t.reshape(arr.shape))"
      ],
      "metadata": {
        "id": "wXTpvG8xFZEM",
        "outputId": "9f5f9a94-2f59-435c-a99c-1421ed727896",
        "colab": {
          "base_uri": "https://localhost:8080/"
        }
      },
      "execution_count": 3,
      "outputs": [
        {
          "output_type": "stream",
          "name": "stdout",
          "text": [
            "[[74 90 92]\n",
            " [ 6 63 93]\n",
            " [15 93 96]\n",
            " [48 60 70]]\n",
            "\n",
            "[[70 60 48]\n",
            " [ 6 63 93]\n",
            " [92 90 74]\n",
            " [15 93 96]]\n",
            "\n",
            "[[70 60 48]\n",
            " [92 90 74]\n",
            " [ 6 63 93]\n",
            " [15 93 96]]\n",
            "\n",
            "[[ 6 15 48]\n",
            " [60 63 70]\n",
            " [74 90 92]\n",
            " [93 93 96]]\n"
          ]
        }
      ]
    },
    {
      "cell_type": "markdown",
      "source": [
        "###`Q-2:` There is an array of marks of 5 students in 4 subjects. Further you are asked to perform below task.\n",
        "    i. Add marks every student of an extra subject in the same array.\n",
        "    ii. Add two new students marks in respective 5 subjects.(one subject added in above task)\n",
        "    iii. Add extra column with sum of all subjects(5-subjects) marks\n",
        "    iv. Sort the array(non-ascending order) on total marks column--one added in above task. Show top 2 rows.\n",
        "\n",
        "Note: Change dimension of arrays during concatenation or appending if required."
      ],
      "metadata": {
        "id": "Jx_I3gx9lBay"
      }
    },
    {
      "cell_type": "markdown",
      "source": [
        "Given Array-\n",
        "```\n",
        "marks = [[13, 10,  9, 33],\n",
        "       [63, 46, 90, 42],\n",
        "       [39, 76, 13, 29],\n",
        "       [82,  9, 29, 78],\n",
        "       [67, 61, 59, 36]]\n",
        "\n",
        "extra_subject = [41, 87, 72, 36, 92]\n",
        "#Two extra students record-\n",
        "rec1 = [77, 83, 98, 95, 89]\n",
        "rec2 = [92, 71, 52, 61, 53]\n",
        "```"
      ],
      "metadata": {
        "id": "lXF-CE6ylNIw"
      }
    },
    {
      "cell_type": "code",
      "source": [
        "# code here"
      ],
      "metadata": {
        "id": "7YKsWO2olMkq"
      },
      "execution_count": 4,
      "outputs": []
    },
    {
      "cell_type": "markdown",
      "source": [
        "###`Q-3:` Find unique arrays from a 2D array column wise and row wise.\n",
        "```\n",
        "arr = np.array([[1,2,3,3,1,1],\n",
        "                [0,9,1,2,8,8],\n",
        "                [1,2,3,8,8,8],\n",
        "                [1,2,3,3,1,1]])\n",
        "```\n",
        "Expected Result-\n",
        "```\n",
        "Row Wise\n",
        "[[0 9 1 2 8 8]\n",
        " [1 2 3 3 1 1]\n",
        " [1 2 3 8 8 8]]\n",
        "\n",
        "Col Wise\n",
        "[[1 1 2 3 3]\n",
        " [0 8 9 1 2]\n",
        " [1 8 2 3 8]\n",
        " [1 1 2 3 3]]\n",
        "```"
      ],
      "metadata": {
        "id": "VmOyK_8klRqR"
      }
    },
    {
      "cell_type": "code",
      "source": [
        "arr = np.array([[1,2,3,3,1,1],[0,9,1,2,8,8],[1,2,3,8,8,8],[1,2,3,3,1,1]])\n",
        "# part - i\n",
        "a1 = np.unique(arr,axis=0)\n",
        "print(a1,end='\\n\\n')\n",
        "\n",
        "# part - ii\n",
        "a2 = np.unique(arr,axis=1)\n",
        "print(a2)"
      ],
      "metadata": {
        "id": "LJl10VQrlU5q",
        "colab": {
          "base_uri": "https://localhost:8080/"
        },
        "outputId": "50d3226e-5413-4925-de27-481236524ef9"
      },
      "execution_count": 5,
      "outputs": [
        {
          "output_type": "stream",
          "name": "stdout",
          "text": [
            "[[0 9 1 2 8 8]\n",
            " [1 2 3 3 1 1]\n",
            " [1 2 3 8 8 8]]\n",
            "\n",
            "[[1 1 2 3 3]\n",
            " [0 8 9 1 2]\n",
            " [1 8 2 3 8]\n",
            " [1 1 2 3 3]]\n"
          ]
        }
      ]
    },
    {
      "cell_type": "markdown",
      "source": [
        "###`Q-4:` Flip given 2-D array along both axes at the same time."
      ],
      "metadata": {
        "id": "RaXwVkywlWY2"
      }
    },
    {
      "cell_type": "code",
      "source": [
        "arr = [[1,2,3,4,5],[10,-3,30,6,7],[3,2,5,8,9],[9,7,3,2,1]]\n",
        "print(arr,end='\\n\\n')\n",
        "np.flip(arr,axis=[0,1])"
      ],
      "metadata": {
        "id": "mN7-4G8Kleeq",
        "colab": {
          "base_uri": "https://localhost:8080/"
        },
        "outputId": "c85c61a5-f513-4c82-f969-d0483b23e258"
      },
      "execution_count": 6,
      "outputs": [
        {
          "output_type": "stream",
          "name": "stdout",
          "text": [
            "[[1, 2, 3, 4, 5], [10, -3, 30, 6, 7], [3, 2, 5, 8, 9], [9, 7, 3, 2, 1]]\n",
            "\n"
          ]
        },
        {
          "output_type": "execute_result",
          "data": {
            "text/plain": [
              "array([[ 1,  2,  3,  7,  9],\n",
              "       [ 9,  8,  5,  2,  3],\n",
              "       [ 7,  6, 30, -3, 10],\n",
              "       [ 5,  4,  3,  2,  1]])"
            ]
          },
          "metadata": {},
          "execution_count": 6
        }
      ]
    },
    {
      "cell_type": "markdown",
      "source": [
        "### `Q-5:` Get row numbers of NumPy array having element larger than X.\n",
        "```\n",
        "arr = [[1,2,3,4,5],\n",
        "      [10,-3,30,4,5],\n",
        "      [3,2,5,-4,5],\n",
        "      [9,7,3,6,5]]\n",
        "\n",
        "X = 6\n",
        "```"
      ],
      "metadata": {
        "id": "X0S7BUNTlfoq"
      }
    },
    {
      "cell_type": "code",
      "source": [
        "arr = np.array([[1,2,3,4,5],[10,-3,30,4,5],[3,2,5,-4,5],[9,7,3,6,5]])\n",
        "arr.shape[0]"
      ],
      "metadata": {
        "id": "bi8jRmWhlkBU",
        "colab": {
          "base_uri": "https://localhost:8080/"
        },
        "outputId": "19131722-c2e8-482e-daee-c262fee2e2f8"
      },
      "execution_count": 7,
      "outputs": [
        {
          "output_type": "execute_result",
          "data": {
            "text/plain": [
              "4"
            ]
          },
          "metadata": {},
          "execution_count": 7
        }
      ]
    },
    {
      "cell_type": "code",
      "source": [
        "a = [arr]\n",
        "print(a,type(a))"
      ],
      "metadata": {
        "colab": {
          "base_uri": "https://localhost:8080/"
        },
        "id": "s3r79rq_DhO6",
        "outputId": "280f4adf-f5ee-4595-886f-b0a2fd08dcbe"
      },
      "execution_count": 8,
      "outputs": [
        {
          "output_type": "stream",
          "name": "stdout",
          "text": [
            "[array([[ 1,  2,  3,  4,  5],\n",
            "       [10, -3, 30,  4,  5],\n",
            "       [ 3,  2,  5, -4,  5],\n",
            "       [ 9,  7,  3,  6,  5]])] <class 'list'>\n"
          ]
        }
      ]
    },
    {
      "cell_type": "code",
      "source": [
        "np.where(np.any([arr>6],axis=1))"
      ],
      "metadata": {
        "colab": {
          "base_uri": "https://localhost:8080/"
        },
        "id": "Z-B92hCWEIbp",
        "outputId": "51920c9c-b712-4ca2-95dd-05b707761eba"
      },
      "execution_count": 9,
      "outputs": [
        {
          "output_type": "execute_result",
          "data": {
            "text/plain": [
              "(array([0, 0, 0]), array([0, 1, 2]))"
            ]
          },
          "metadata": {},
          "execution_count": 9
        }
      ]
    },
    {
      "cell_type": "code",
      "source": [],
      "metadata": {
        "id": "HDud541BEXoh"
      },
      "execution_count": 9,
      "outputs": []
    },
    {
      "cell_type": "code",
      "source": [
        "\n"
      ],
      "metadata": {
        "id": "fMJsKaR0wWcK"
      },
      "execution_count": 9,
      "outputs": []
    },
    {
      "cell_type": "markdown",
      "source": [
        "### `Q-6:` How to convert an array of arrays into a flat 1d array?\n"
      ],
      "metadata": {
        "id": "DSCQMo4mlnDG"
      }
    },
    {
      "cell_type": "code",
      "source": [
        "# These arrays are given.\n",
        "arr1 = np.arange(3)\n",
        "arr2 = np.arange(3,7)\n",
        "arr3 = np.arange(7,10)"
      ],
      "metadata": {
        "id": "QZhSkUT2lsJW"
      },
      "execution_count": 10,
      "outputs": []
    },
    {
      "cell_type": "code",
      "source": [
        "ans = np.append(arr1,np.append(arr2,arr3))"
      ],
      "metadata": {
        "id": "f42OXNrFls0I"
      },
      "execution_count": 11,
      "outputs": []
    },
    {
      "cell_type": "code",
      "source": [
        "print(ans,type(ans))"
      ],
      "metadata": {
        "colab": {
          "base_uri": "https://localhost:8080/"
        },
        "id": "ErOI3JhLGmTQ",
        "outputId": "877a2d29-4f4b-4794-fc45-be7aed4aaf3e"
      },
      "execution_count": 12,
      "outputs": [
        {
          "output_type": "stream",
          "name": "stdout",
          "text": [
            "[0 1 2 3 4 5 6 7 8 9] <class 'numpy.ndarray'>\n"
          ]
        }
      ]
    },
    {
      "cell_type": "markdown",
      "source": [
        "### `Q-7:` You are given a array. You have to find the minimum and maximum array element and remove that from the array.\n",
        "\n",
        "```python\n",
        "import numpy as np\n",
        "\n",
        "np.random.seed(400)\n",
        "arr = np.random.randint(100, 1000, 200).reshape((1, 200))\n",
        "```"
      ],
      "metadata": {
        "id": "A1J4oOVCluqO"
      }
    },
    {
      "cell_type": "code",
      "source": [
        "import numpy as np\n",
        "\n",
        "np.random.seed(400)\n",
        "arr_t = np.random.randint(100, 1000, 200).reshape((1, 200))"
      ],
      "metadata": {
        "id": "c6kmgtUJlybZ"
      },
      "execution_count": 13,
      "outputs": []
    },
    {
      "cell_type": "code",
      "source": [
        "min_t = np.min(arr_t.ravel())\n",
        "print(min_t)\n",
        "max_t = np.max(arr_t.ravel())\n",
        "print(max_t)"
      ],
      "metadata": {
        "colab": {
          "base_uri": "https://localhost:8080/"
        },
        "id": "_1ISQoolGsiT",
        "outputId": "4ff0de86-0e21-4441-9cbd-c232cbdf12c6"
      },
      "execution_count": 14,
      "outputs": [
        {
          "output_type": "stream",
          "name": "stdout",
          "text": [
            "103\n",
            "998\n"
          ]
        }
      ]
    },
    {
      "cell_type": "code",
      "source": [
        "arr_t[arr_t!=min_t]"
      ],
      "metadata": {
        "id": "qRUq4igEHCZX",
        "colab": {
          "base_uri": "https://localhost:8080/"
        },
        "outputId": "437b8cbc-614b-45b5-dd13-3da137e645c2"
      },
      "execution_count": 17,
      "outputs": [
        {
          "output_type": "execute_result",
          "data": {
            "text/plain": [
              "array([448, 563, 418, 240, 507, 362, 345, 236, 719, 291, 298, 639, 458,\n",
              "       387, 262, 613, 267, 882, 181, 425, 790, 635, 889, 818, 872, 967,\n",
              "       277, 470, 336, 920, 917, 295, 557, 830, 506, 385, 353, 975, 592,\n",
              "       997, 137, 340, 222, 215, 472, 459, 617, 649, 935, 956, 914, 932,\n",
              "       645, 952, 921, 490, 527, 972, 278, 307, 840, 958, 246, 449, 251,\n",
              "       957, 627, 920, 824, 356, 825, 173, 323, 372, 960, 710, 464, 244,\n",
              "       782, 763, 635, 436, 774, 171, 469, 178, 458, 624, 211, 771, 270,\n",
              "       308, 231, 952, 514, 699, 702, 433, 900, 373, 318, 998, 265, 503,\n",
              "       320, 230, 324, 922, 967, 620, 743, 527, 117, 566, 804, 123, 946,\n",
              "       587, 227, 853, 757, 944, 328, 855, 930, 325, 729, 426, 514, 296,\n",
              "       879, 575, 936, 705, 209, 191, 743, 510, 513, 628, 559, 658, 528,\n",
              "       395, 525, 922, 136, 496, 225, 895, 975, 263, 908, 420, 711, 800,\n",
              "       976, 786, 235, 930, 859, 618, 226, 695, 460, 218, 483, 490, 803,\n",
              "       621, 453, 193, 607, 677, 637, 728, 724, 534, 748, 291, 194, 761,\n",
              "       875, 687, 569, 228, 482, 781, 554, 654, 739, 885, 197, 266, 228,\n",
              "       892, 207, 883, 588])"
            ]
          },
          "metadata": {},
          "execution_count": 17
        }
      ]
    },
    {
      "cell_type": "code",
      "source": [
        "arr_t = arr_t[arr_t!=max_t]"
      ],
      "metadata": {
        "id": "SB9YZzzfLDXy"
      },
      "execution_count": 19,
      "outputs": []
    },
    {
      "cell_type": "code",
      "source": [
        "print(arr_t,end='\\n\\n')\n",
        "print(arr_t.size)"
      ],
      "metadata": {
        "colab": {
          "base_uri": "https://localhost:8080/"
        },
        "id": "tXxAII02LNw1",
        "outputId": "9c12645e-8a1c-41b9-bca9-34dc399ca5ca"
      },
      "execution_count": 20,
      "outputs": [
        {
          "output_type": "stream",
          "name": "stdout",
          "text": [
            "[448 563 418 240 507 362 345 236 719 291 298 639 458 387 262 613 267 882\n",
            " 181 425 790 635 889 818 872 967 277 470 336 920 917 295 557 830 506 385\n",
            " 353 975 592 997 137 340 222 215 472 459 617 649 935 956 914 932 645 952\n",
            " 921 490 527 972 278 307 840 958 246 449 251 957 103 627 920 824 356 825\n",
            " 173 323 372 960 710 464 244 782 763 635 436 774 171 469 178 458 624 211\n",
            " 771 270 308 231 952 514 699 702 433 900 373 318 265 503 320 230 324 922\n",
            " 967 620 743 527 117 566 804 123 946 587 227 853 757 944 328 855 930 325\n",
            " 729 426 514 296 879 575 936 705 209 191 743 510 513 628 559 658 528 395\n",
            " 525 922 136 496 225 895 975 263 908 420 711 800 976 786 235 930 859 618\n",
            " 226 695 460 218 483 490 803 621 453 193 607 677 637 728 724 534 748 291\n",
            " 194 761 875 687 569 228 482 781 554 654 739 885 197 266 228 892 207 883\n",
            " 588]\n",
            "\n",
            "199\n"
          ]
        }
      ]
    },
    {
      "cell_type": "markdown",
      "source": [
        "### `Q-8:` You are given an arrays. You have to limit this array's elements between 100 to 200. $arr ∈ [100, 700]$. So replace those values accordingly with the minimum and maximum value. Then sort the array and perform the cumulative sum of that array."
      ],
      "metadata": {
        "id": "0dHN1sdnl0Jy"
      }
    },
    {
      "cell_type": "code",
      "source": [
        "arr8 = np.linspace(100,700,endpoint=False)\n",
        "arr8"
      ],
      "metadata": {
        "id": "a3YF_E-Hlza7",
        "colab": {
          "base_uri": "https://localhost:8080/"
        },
        "outputId": "b509493c-9a6d-4d05-b011-b011c6b54013"
      },
      "execution_count": 21,
      "outputs": [
        {
          "output_type": "execute_result",
          "data": {
            "text/plain": [
              "array([100., 112., 124., 136., 148., 160., 172., 184., 196., 208., 220.,\n",
              "       232., 244., 256., 268., 280., 292., 304., 316., 328., 340., 352.,\n",
              "       364., 376., 388., 400., 412., 424., 436., 448., 460., 472., 484.,\n",
              "       496., 508., 520., 532., 544., 556., 568., 580., 592., 604., 616.,\n",
              "       628., 640., 652., 664., 676., 688.])"
            ]
          },
          "metadata": {},
          "execution_count": 21
        }
      ]
    },
    {
      "cell_type": "code",
      "source": [
        "np.clip(arr8,a_min=100,a_max=200)"
      ],
      "metadata": {
        "colab": {
          "base_uri": "https://localhost:8080/"
        },
        "id": "t2WNXio2MNRB",
        "outputId": "02d74448-ae65-498f-8740-0d8c078ef4a8"
      },
      "execution_count": 22,
      "outputs": [
        {
          "output_type": "execute_result",
          "data": {
            "text/plain": [
              "array([100., 112., 124., 136., 148., 160., 172., 184., 196., 200., 200.,\n",
              "       200., 200., 200., 200., 200., 200., 200., 200., 200., 200., 200.,\n",
              "       200., 200., 200., 200., 200., 200., 200., 200., 200., 200., 200.,\n",
              "       200., 200., 200., 200., 200., 200., 200., 200., 200., 200., 200.,\n",
              "       200., 200., 200., 200., 200., 200.])"
            ]
          },
          "metadata": {},
          "execution_count": 22
        }
      ]
    },
    {
      "cell_type": "code",
      "source": [
        "np.random.seed(42)\n",
        "random_array = np.random.randint(100, 701,size=(1,25))"
      ],
      "metadata": {
        "id": "5eipdchzPOf1"
      },
      "execution_count": 23,
      "outputs": []
    },
    {
      "cell_type": "code",
      "source": [
        "random_array = np.sort(random_array)"
      ],
      "metadata": {
        "id": "YKdyuNW2PTHd"
      },
      "execution_count": 24,
      "outputs": []
    },
    {
      "cell_type": "code",
      "source": [
        "nrandom_array = np.clip(random_array,a_min=100,a_max=200)"
      ],
      "metadata": {
        "id": "jfdzxrOzP14o"
      },
      "execution_count": 25,
      "outputs": []
    },
    {
      "cell_type": "code",
      "source": [
        "nrandom_array"
      ],
      "metadata": {
        "id": "5OcTZpfGQb_E"
      },
      "execution_count": null,
      "outputs": []
    },
    {
      "cell_type": "code",
      "source": [
        "np.cumsum(nrandom_array)"
      ],
      "metadata": {
        "colab": {
          "base_uri": "https://localhost:8080/"
        },
        "id": "vxwwdghJQI48",
        "outputId": "a55fedd6-f5be-4367-8783-fcebbde5e906"
      },
      "execution_count": 27,
      "outputs": [
        {
          "output_type": "execute_result",
          "data": {
            "text/plain": [
              "array([ 120,  291,  478,  677,  877, 1077, 1277, 1477, 1677, 1877, 2077,\n",
              "       2277, 2477, 2677, 2877, 3077, 3277, 3477, 3677, 3877, 4077, 4277,\n",
              "       4477, 4677, 4877])"
            ]
          },
          "metadata": {},
          "execution_count": 27
        }
      ]
    },
    {
      "cell_type": "markdown",
      "source": [
        "### `Q-9:` You are given a array ($arr ∈ [0, 1]$). First you have round off the elements upto 3 decimal places and compare that\n",
        "- 0th percentile == minimum value of the array\n",
        "- 100th percentile == maximum value of the array\n",
        "- also find the difference betwen 51th percenile and 50th percentile values"
      ],
      "metadata": {
        "id": "cXj90Susl4-I"
      }
    },
    {
      "cell_type": "code",
      "source": [
        "n9 = np.random.random(size=(1,25))\n",
        "n9 = n9.ravel()\n",
        "n9"
      ],
      "metadata": {
        "id": "SgBEHodgl7Lo",
        "colab": {
          "base_uri": "https://localhost:8080/"
        },
        "outputId": "e0bb4ee7-514e-4720-d1b4-33feceaa0195"
      },
      "execution_count": 33,
      "outputs": [
        {
          "output_type": "execute_result",
          "data": {
            "text/plain": [
              "array([0.18657006, 0.892559  , 0.53934224, 0.80744016, 0.8960913 ,\n",
              "       0.31800347, 0.11005192, 0.22793516, 0.42710779, 0.81801477,\n",
              "       0.86073058, 0.00695213, 0.5107473 , 0.417411  , 0.22210781,\n",
              "       0.11986537, 0.33761517, 0.9429097 , 0.32320293, 0.51879062,\n",
              "       0.70301896, 0.3636296 , 0.97178208, 0.96244729, 0.2517823 ])"
            ]
          },
          "metadata": {},
          "execution_count": 33
        }
      ]
    },
    {
      "cell_type": "code",
      "source": [
        "n9 = np.round(n9,decimals=3)"
      ],
      "metadata": {
        "id": "SOyczWfOwpKR"
      },
      "execution_count": 35,
      "outputs": []
    },
    {
      "cell_type": "code",
      "source": [
        "print(np.percentile(n9,0) == np.min(n9))\n",
        "print(np.percentile(n9,100) == np.max(n9))\n",
        "print(np.percentile(n9,51)-np.percentile(n9,50))"
      ],
      "metadata": {
        "colab": {
          "base_uri": "https://localhost:8080/"
        },
        "id": "ystJFPICw8N4",
        "outputId": "5aaf4c6e-649b-4e4a-ca47-af73c649f23a"
      },
      "execution_count": 37,
      "outputs": [
        {
          "output_type": "stream",
          "name": "stdout",
          "text": [
            "True\n",
            "True\n",
            "0.02016000000000001\n"
          ]
        }
      ]
    }
  ]
}