{
 "cells": [
  {
   "cell_type": "markdown",
   "id": "e52c2f22",
   "metadata": {},
   "source": [
    "# Operators | Conditional Statements | Loops\n",
    "\n",
    "## In This Notebook, We Explore : \n",
    "1. Various Kinds of Operators\n",
    "2. Conditional Statements for Branching \n",
    "3. Loops for Iteration."
   ]
  },
  {
   "cell_type": "markdown",
   "id": "57fd3290",
   "metadata": {},
   "source": [
    "######              ____________________________________________________________________________________________________________________"
   ]
  },
  {
   "cell_type": "markdown",
   "id": "896bf9f4",
   "metadata": {},
   "source": [
    "## Operators in Python:\n",
    "\n",
    "1. Arithmetic Operators\n",
    "2. Assignment Operators\n",
    "3. Relational Operators\n",
    "4. Logical Operators\n",
    "5. Bitwise Operators\n",
    "6. MemberShip Operators"
   ]
  },
  {
   "cell_type": "raw",
   "id": "3243a3b5",
   "metadata": {},
   "source": [
    "Arithmetic Operators : Addition (+) | Subtraction (-) | Multiplication (*) | Division (/) | Modulus (%)\n",
    "For Arithmetic Operation between two operands "
   ]
  },
  {
   "cell_type": "code",
   "execution_count": 2,
   "id": "bb7635ed",
   "metadata": {},
   "outputs": [
    {
     "name": "stdout",
     "output_type": "stream",
     "text": [
      "17.6\n",
      "2.4\n",
      "130.0\n",
      "1.923076923076923\n",
      "3.0\n",
      "0\n"
     ]
    }
   ],
   "source": [
    "a = 10\n",
    "b = 5\n",
    "c = 2.6\n",
    "\n",
    "print(a+b+c) # Addition \n",
    "print(a-b-c) # Subtraction\n",
    "print(a*b*c) # Multiplication\n",
    "print(b/c) # Division\n",
    "print(a//c) # Integer Division\n",
    "print(a%b) # Modulus Operator"
   ]
  },
  {
   "cell_type": "raw",
   "id": "c22b9bca",
   "metadata": {},
   "source": [
    "Assignment Operator : Assigining (=) | (+=) | (-=) | (/=)\n",
    "For Assigning values to the variable"
   ]
  },
  {
   "cell_type": "code",
   "execution_count": 10,
   "id": "6dc5f9a2",
   "metadata": {},
   "outputs": [
    {
     "name": "stdout",
     "output_type": "stream",
     "text": [
      "8\n",
      "5\n",
      "2\n"
     ]
    }
   ],
   "source": [
    "a = 5 # Assignment Opeartor\n",
    "a += 3\n",
    "print(a)\n",
    "a -= 3 # subtraction of 3 from a & storing it in a again\n",
    "print(a) \n",
    "a %= 3 # a = a%3\n",
    "print(a)"
   ]
  },
  {
   "cell_type": "raw",
   "id": "8d7abf9c",
   "metadata": {},
   "source": [
    "Relational Operators : (==) | (> , < ) | (>= , <=) | (!=)\n",
    "For Comparision b/n two operators"
   ]
  },
  {
   "cell_type": "code",
   "execution_count": 11,
   "id": "52752b4f",
   "metadata": {},
   "outputs": [
    {
     "name": "stdout",
     "output_type": "stream",
     "text": [
      "False\n",
      "True\n",
      "False\n",
      "True\n",
      "False\n",
      "True\n"
     ]
    }
   ],
   "source": [
    "a = 5\n",
    "b = 6\n",
    "\n",
    "print(a == b) # Equaltiy Operator\n",
    "print(a!=b) # Inequality Operator\n",
    "print(a>b) \n",
    "print(a<b)\n",
    "print(a>=b)\n",
    "print(a<=b)"
   ]
  },
  {
   "cell_type": "raw",
   "id": "c9e6cbfa",
   "metadata": {},
   "source": [
    "Logical Operators : and | or | not\n",
    "Works With Boolean Values"
   ]
  },
  {
   "cell_type": "code",
   "execution_count": 12,
   "id": "82fcb9a8",
   "metadata": {},
   "outputs": [
    {
     "name": "stdout",
     "output_type": "stream",
     "text": [
      "False\n",
      "True\n",
      "False\n",
      "False\n"
     ]
    }
   ],
   "source": [
    "a = True\n",
    "b = False\n",
    "print(a and b)\n",
    "print(a or b)\n",
    "print(not a)\n",
    "print(not not b)"
   ]
  },
  {
   "cell_type": "raw",
   "id": "57deae1a",
   "metadata": {},
   "source": [
    "Bitwise Operator : Bitwise and (&) | Bitwise or (|) | Bitwise xor (^) | Left Shift (<<) | Right shift (>>) "
   ]
  },
  {
   "cell_type": "code",
   "execution_count": 15,
   "id": "2406189a",
   "metadata": {},
   "outputs": [
    {
     "name": "stdout",
     "output_type": "stream",
     "text": [
      "4\n",
      "5\n",
      "1\n",
      "10\n",
      "2\n"
     ]
    }
   ],
   "source": [
    "a = 5\n",
    "b = 4\n",
    "print(a&b)\n",
    "print(a|b)\n",
    "print(a^b)\n",
    "print(a<<1)\n",
    "print(b>>1)"
   ]
  },
  {
   "cell_type": "raw",
   "id": "e5c48bb5",
   "metadata": {},
   "source": [
    "Membership Operators : in | not in"
   ]
  },
  {
   "cell_type": "code",
   "execution_count": 17,
   "id": "1c2ec70a",
   "metadata": {},
   "outputs": [
    {
     "name": "stdout",
     "output_type": "stream",
     "text": [
      "True\n",
      "False\n"
     ]
    }
   ],
   "source": [
    "a = \"Delhi\"\n",
    "b = [1,3,5,7,9]\n",
    "print('D' in a)\n",
    "print(2 in b)"
   ]
  },
  {
   "cell_type": "markdown",
   "id": "dba232d5",
   "metadata": {},
   "source": [
    "####  ____________________________________________________________________________________________________________"
   ]
  },
  {
   "cell_type": "markdown",
   "id": "6710329a",
   "metadata": {},
   "source": [
    "## Conditional Statements:\n",
    "### Used for Branching of the Program\n",
    "\n",
    "1. if\n",
    "2. else\n",
    "3. elif"
   ]
  },
  {
   "cell_type": "code",
   "execution_count": 19,
   "id": "35d57582",
   "metadata": {},
   "outputs": [
    {
     "name": "stdout",
     "output_type": "stream",
     "text": [
      "b is greater\n"
     ]
    }
   ],
   "source": [
    "a = 5\n",
    "b = 6\n",
    "# else is used when a certaing condition is not satisfied\n",
    "# Commonly used when there is only single condition to be checked among two operands\n",
    "if(a>b):\n",
    "    print(\"a is greater\") \n",
    "else:\n",
    "    print(\"b is greater\")"
   ]
  },
  {
   "cell_type": "code",
   "execution_count": 20,
   "id": "8be191d9",
   "metadata": {},
   "outputs": [
    {
     "name": "stdout",
     "output_type": "stream",
     "text": [
      "c is greatest\n"
     ]
    }
   ],
   "source": [
    "# When multiple operands/conditions are invlolved in a problem statement. Nested if else or elif is used.\n",
    "c = 20\n",
    "if(a>b and a>c):\n",
    "    print(\"a is greatest\")\n",
    "elif (b>a and b>c):\n",
    "    print(\"b is greatest\")\n",
    "else:\n",
    "    print(\"c is greatest\")"
   ]
  },
  {
   "cell_type": "markdown",
   "id": "8a779a3d",
   "metadata": {},
   "source": [
    "#### Program to check if a number is even using conditional statements"
   ]
  },
  {
   "cell_type": "code",
   "execution_count": 21,
   "id": "828e7dd2",
   "metadata": {},
   "outputs": [
    {
     "name": "stdout",
     "output_type": "stream",
     "text": [
      "Enter The Number to check if it is even or not23\n",
      "odd\n"
     ]
    }
   ],
   "source": [
    "a = int(input(\"Enter The Number to check if it is even or not\"))\n",
    "if(a%2 == 0):\n",
    "    print(\"Even\")\n",
    "else:\n",
    "    print(\"odd\")"
   ]
  },
  {
   "cell_type": "markdown",
   "id": "85a50784",
   "metadata": {},
   "source": [
    "####  ____________________________________________________________________________________________________________"
   ]
  },
  {
   "cell_type": "markdown",
   "id": "d0c3bfbf",
   "metadata": {},
   "source": [
    "## Loops in Python:\n",
    "### Used for iteration (to perform repetitive tasks)\n",
    "\n",
    "1. for Loop\n",
    "2. while Loop\n",
    "\n",
    "### Loop Control statements\n",
    "\n",
    "- break\n",
    "- continue"
   ]
  },
  {
   "cell_type": "raw",
   "id": "2db0b1d1",
   "metadata": {},
   "source": [
    " ____________________ ____________________ ____________________ ____________________ ____________________ ____________________"
   ]
  },
  {
   "cell_type": "raw",
   "id": "d430ec73",
   "metadata": {},
   "source": [
    "for loops"
   ]
  },
  {
   "cell_type": "code",
   "execution_count": 42,
   "id": "5198b914",
   "metadata": {},
   "outputs": [
    {
     "name": "stdout",
     "output_type": "stream",
     "text": [
      "1-2-3-4-5-"
     ]
    }
   ],
   "source": [
    "a = [1,2,3,4,5]\n",
    "for i in a:\n",
    "    print(i,end='-')"
   ]
  },
  {
   "cell_type": "code",
   "execution_count": 43,
   "id": "523c2dcd",
   "metadata": {},
   "outputs": [
    {
     "name": "stdout",
     "output_type": "stream",
     "text": [
      "1 2 3 4 5 6 7 8 9 "
     ]
    }
   ],
   "source": [
    "# range function\n",
    "for i in range(1,10): # Used to assign range of values to i\n",
    "    print(i,end=' ')"
   ]
  },
  {
   "cell_type": "code",
   "execution_count": 44,
   "id": "65263ac8",
   "metadata": {},
   "outputs": [
    {
     "name": "stdout",
     "output_type": "stream",
     "text": [
      "20 30 40 50 60 70 80 90 100 "
     ]
    }
   ],
   "source": [
    "# hidden parameters in range\n",
    "for j in range(20,101,10):\n",
    "    print(j,end=' ')"
   ]
  },
  {
   "cell_type": "code",
   "execution_count": 47,
   "id": "cca74471",
   "metadata": {},
   "outputs": [
    {
     "name": "stdout",
     "output_type": "stream",
     "text": [
      "0 1 2 3 4 5 6 7 8 9 10 11 12 13 14 "
     ]
    }
   ],
   "source": [
    "for i in range(21):\n",
    "    if(i == 15):\n",
    "        break\n",
    "    else:\n",
    "        print(i,end=' ')"
   ]
  },
  {
   "cell_type": "code",
   "execution_count": 49,
   "id": "13346e78",
   "metadata": {},
   "outputs": [
    {
     "name": "stdout",
     "output_type": "stream",
     "text": [
      "1 2 3 4 5 6 8 9 "
     ]
    }
   ],
   "source": [
    "for i in range(1,15):\n",
    "    if(i == 10):\n",
    "        break\n",
    "    elif (i == 7):\n",
    "        continue\n",
    "    else :\n",
    "        print(i,end=' ')"
   ]
  },
  {
   "cell_type": "code",
   "execution_count": 51,
   "id": "6714b3a3",
   "metadata": {},
   "outputs": [
    {
     "name": "stdout",
     "output_type": "stream",
     "text": [
      "1 2 3 4 6 7 8 9 "
     ]
    }
   ],
   "source": [
    "for i in range(1,15):\n",
    "    if(i == 10):\n",
    "        break\n",
    "    elif (i == 5):\n",
    "        continue\n",
    "    else :\n",
    "        print(i,end=' ')"
   ]
  },
  {
   "cell_type": "raw",
   "id": "26711a27",
   "metadata": {},
   "source": [
    "while loop"
   ]
  },
  {
   "cell_type": "code",
   "execution_count": 53,
   "id": "2e62b079",
   "metadata": {},
   "outputs": [
    {
     "name": "stdout",
     "output_type": "stream",
     "text": [
      "1 2 3 4 5 "
     ]
    }
   ],
   "source": [
    "x = 1\n",
    "while(x<6):\n",
    "    print(x,end=' ')\n",
    "    x += 1"
   ]
  },
  {
   "cell_type": "code",
   "execution_count": 55,
   "id": "763b3b37",
   "metadata": {},
   "outputs": [
    {
     "name": "stdout",
     "output_type": "stream",
     "text": [
      "Enter the number you want to print the table of :4\n",
      "4 * 1 = 4\n",
      "4 * 2 = 8\n",
      "4 * 3 = 12\n",
      "4 * 4 = 16\n",
      "4 * 5 = 20\n",
      "4 * 6 = 24\n",
      "4 * 7 = 28\n",
      "4 * 8 = 32\n",
      "4 * 9 = 36\n",
      "4 * 10 = 40\n",
      "4 * 11 = 44\n",
      "4 * 12 = 48\n",
      "4 * 13 = 52\n",
      "4 * 14 = 56\n",
      "4 * 15 = 60\n",
      "4 * 16 = 64\n",
      "4 * 17 = 68\n",
      "4 * 18 = 72\n",
      "4 * 19 = 76\n",
      "4 * 20 = 80\n"
     ]
    }
   ],
   "source": [
    "i = 1\n",
    "x = int(input('Enter the number you want to print the table of :'))\n",
    "while(True):\n",
    "    print(x,\"*\",i,\"=\",x*i)\n",
    "    i += 1\n",
    "    \n",
    "    if(i == 21):\n",
    "        break\n",
    "    "
   ]
  }
 ],
 "metadata": {
  "kernelspec": {
   "display_name": "Python 3 (ipykernel)",
   "language": "python",
   "name": "python3"
  },
  "language_info": {
   "codemirror_mode": {
    "name": "ipython",
    "version": 3
   },
   "file_extension": ".py",
   "mimetype": "text/x-python",
   "name": "python",
   "nbconvert_exporter": "python",
   "pygments_lexer": "ipython3",
   "version": "3.11.5"
  }
 },
 "nbformat": 4,
 "nbformat_minor": 5
}
