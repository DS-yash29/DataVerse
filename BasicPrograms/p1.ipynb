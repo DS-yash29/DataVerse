{
 "cells": [
  {
   "cell_type": "markdown",
   "id": "fe7205bd",
   "metadata": {},
   "source": [
    "# Python is a very popular Programming Language used in Data Science, Machine Learning & AI\n"
   ]
  },
  {
   "cell_type": "markdown",
   "id": "433bff16",
   "metadata": {},
   "source": [
    "## This Notebook Contains\n",
    "- 1. print Function \n",
    "- 2. data types\n",
    "\n",
    "### In Python"
   ]
  },
  {
   "cell_type": "markdown",
   "id": "91029977",
   "metadata": {},
   "source": [
    "#### Using Print function with passing hiddden parameters.\n",
    "- end\n",
    "- sep"
   ]
  },
  {
   "cell_type": "code",
   "execution_count": 15,
   "id": "b327ff01",
   "metadata": {},
   "outputs": [
    {
     "name": "stdout",
     "output_type": "stream",
     "text": [
      "Hello\n",
      "World\n"
     ]
    }
   ],
   "source": [
    "print(\"Hello\",end=\"\\n\")\n",
    "print(\"World\")"
   ]
  },
  {
   "cell_type": "code",
   "execution_count": 14,
   "id": "7a3b401e",
   "metadata": {},
   "outputs": [
    {
     "name": "stdout",
     "output_type": "stream",
     "text": [
      "Hi- My - Name - is - Yash Matlani\n"
     ]
    }
   ],
   "source": [
    "print(\"Hi\",\" My \",\" Name - is \",\" Yash Matlani\",sep='-')"
   ]
  },
  {
   "cell_type": "markdown",
   "id": "f88e3ced",
   "metadata": {},
   "source": [
    "### Data Types  & Variables"
   ]
  },
  {
   "cell_type": "markdown",
   "id": "e1a2f54e",
   "metadata": {},
   "source": [
    "### Data of different types/classes : Data Types \n",
    "\n",
    "- int \n",
    "- float\n",
    "- boolean\n",
    "- string/characters\n",
    "\n",
    "### Containers that holds the value of any data type are known as : Variables\n",
    "###### Ex -> a = 5,b = true , c = 4.89 \n",
    "- a,b & c here are variables"
   ]
  },
  {
   "cell_type": "code",
   "execution_count": 20,
   "id": "3388cbbe",
   "metadata": {},
   "outputs": [
    {
     "name": "stdout",
     "output_type": "stream",
     "text": [
      "29 - <class 'int'>\n"
     ]
    }
   ],
   "source": [
    "a = 29\n",
    "print(a,\"-\",type(a))"
   ]
  },
  {
   "cell_type": "code",
   "execution_count": 21,
   "id": "b911e881",
   "metadata": {},
   "outputs": [
    {
     "name": "stdout",
     "output_type": "stream",
     "text": [
      "4.98\n",
      "<class 'float'>\n"
     ]
    }
   ],
   "source": [
    "b = 4.98\n",
    "print(b)\n",
    "print(type(b))"
   ]
  },
  {
   "cell_type": "code",
   "execution_count": 23,
   "id": "cc2d70ed",
   "metadata": {},
   "outputs": [
    {
     "name": "stdout",
     "output_type": "stream",
     "text": [
      "True\n",
      "<class 'bool'>\n"
     ]
    }
   ],
   "source": [
    "c = True\n",
    "print(c)\n",
    "print(type(c))"
   ]
  },
  {
   "cell_type": "code",
   "execution_count": 24,
   "id": "43d94b83",
   "metadata": {},
   "outputs": [
    {
     "name": "stdout",
     "output_type": "stream",
     "text": [
      "d\n",
      "<class 'str'>\n"
     ]
    }
   ],
   "source": [
    "d = 'd'\n",
    "print(d)\n",
    "print(type(d))"
   ]
  },
  {
   "cell_type": "code",
   "execution_count": 26,
   "id": "f45d37a2",
   "metadata": {},
   "outputs": [
    {
     "name": "stdout",
     "output_type": "stream",
     "text": [
      "Hi i am yash\n",
      "<class 'str'>\n"
     ]
    }
   ],
   "source": [
    "e = 'Hi i am yash'\n",
    "print(e)\n",
    "print(type(e))"
   ]
  },
  {
   "cell_type": "code",
   "execution_count": null,
   "id": "4c55f6f2",
   "metadata": {},
   "outputs": [],
   "source": []
  }
 ],
 "metadata": {
  "kernelspec": {
   "display_name": "Python 3 (ipykernel)",
   "language": "python",
   "name": "python3"
  },
  "language_info": {
   "codemirror_mode": {
    "name": "ipython",
    "version": 3
   },
   "file_extension": ".py",
   "mimetype": "text/x-python",
   "name": "python",
   "nbconvert_exporter": "python",
   "pygments_lexer": "ipython3",
   "version": "3.11.5"
  }
 },
 "nbformat": 4,
 "nbformat_minor": 5
}
