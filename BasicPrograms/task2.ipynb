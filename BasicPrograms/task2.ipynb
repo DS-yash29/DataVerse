{
  "nbformat": 4,
  "nbformat_minor": 0,
  "metadata": {
    "colab": {
      "provenance": []
    },
    "kernelspec": {
      "name": "python3",
      "display_name": "Python 3"
    },
    "language_info": {
      "name": "python"
    }
  },
  "cells": [
    {
      "cell_type": "markdown",
      "source": [
        "### `Problem 1`: Write a program that will give you in hand monthly salary after deduction on CTC - HRA(10%), DA(5%), PF(3%) and taxes deduction as below:\n",
        "\n",
        "> Salary(Lakhs) : Tax(%)\n",
        "\n",
        "*   Below 5 : 0%\n",
        "*   5-10 : 10%\n",
        "*   10-20 : 20%\n",
        "*   aboove 20 : 30%"
      ],
      "metadata": {
        "id": "w6RlOAXV2PWh"
      }
    },
    {
      "cell_type": "code",
      "source": [
        "sal = float(input(\"Enter The Salary \"))\n",
        "ctc = sal\n",
        "sal = 0.9*0.95*0.97*sal # HRA , DA & PF deduction\n",
        "if((sal >= 500000.0) & (sal<1000000.0)):\n",
        "  sal *= 0.9\n",
        "elif ((sal>=1000000.0) & (sal < 2000000.0)):\n",
        "  sal *= 0.8\n",
        "elif (sal>=2000000.0):\n",
        "  sal *= 0.7\n",
        "else:\n",
        "  sal = sal\n",
        "print(\"Monthly Salary of an employee with ctc of\",ctc,\"& yearly salary of\",sal,\"is \",sal//12)"
      ],
      "metadata": {
        "id": "7tMHvKYO2etI",
        "outputId": "ad0e1525-3581-4bcf-aa82-b9788b2bd27b",
        "colab": {
          "base_uri": "https://localhost:8080/"
        }
      },
      "execution_count": null,
      "outputs": [
        {
          "output_type": "stream",
          "name": "stdout",
          "text": [
            "Enter The Salary 3000000\n",
            "Monthly Salary of an employee with ctc of 3000000.0 & yearly salary of 1741634.9999999995 is  145136.0\n"
          ]
        }
      ]
    },
    {
      "cell_type": "markdown",
      "source": [
        "### `Problem 2`: Write a program that take a user input of three angles and will find out whether it can form a triangle or not."
      ],
      "metadata": {
        "id": "tYzCGqwl2hfN"
      }
    },
    {
      "cell_type": "code",
      "source": [
        "a = int(input('Enter The First Angle'))\n",
        "b = int(input('Enter The Second Angle'))\n",
        "c = int(input('Enter The Third Angle'))\n",
        "\n",
        "if(a+b+c == 180):\n",
        "  if((a+b > c) & (b+c > a) & (a+c > b)):\n",
        "    print(\"Yes\")\n",
        "  else:\n",
        "    print(\"Enter Valid Angles\")\n",
        "else:\n",
        "  print(\"Cannot form a triangle\")"
      ],
      "metadata": {
        "id": "FYEqln-I2kxV",
        "outputId": "511382d8-85a3-4a74-a808-84e3d81eaeb3",
        "colab": {
          "base_uri": "https://localhost:8080/"
        }
      },
      "execution_count": null,
      "outputs": [
        {
          "output_type": "stream",
          "name": "stdout",
          "text": [
            "Enter The First Angle90\n",
            "Enter The Second Angle90\n",
            "Enter The Third Angle0\n",
            "Enter Valid Angles\n"
          ]
        }
      ]
    },
    {
      "cell_type": "markdown",
      "source": [
        "### `Problem 3`: Write a program that will take user input of cost price and selling price and determines whether its a loss or a profit."
      ],
      "metadata": {
        "id": "5vEpPh8C2pE4"
      }
    },
    {
      "cell_type": "code",
      "source": [
        "cp = int(input(\"Enter Cost Price\"))\n",
        "sp = int(input(\"Enter Selling Price\"))\n",
        "pr = sp-cp\n",
        "if(pr>0):\n",
        "  print(\"Profit\")\n",
        "elif (pr<0):\n",
        "  print(\"Loss\")\n",
        "else:\n",
        " print(\"No Profit No Loss\")"
      ],
      "metadata": {
        "id": "jDwBXlkO2sfl",
        "outputId": "bfe01fba-e54b-4bb7-e2eb-c76977ff0484",
        "colab": {
          "base_uri": "https://localhost:8080/"
        }
      },
      "execution_count": null,
      "outputs": [
        {
          "output_type": "stream",
          "name": "stdout",
          "text": [
            "Enter Cost Price20\n",
            "Enter Selling Price20\n",
            "No Profit No Loss\n"
          ]
        }
      ]
    },
    {
      "cell_type": "markdown",
      "source": [
        "### `Problem 4`: Write a menu-driven program -\n",
        "1. cm to ft\n",
        "2. km to miles\n",
        "3. USD to INR\n",
        "4. exit"
      ],
      "metadata": {
        "id": "J_FG_cJW2ugT"
      }
    },
    {
      "cell_type": "code",
      "source": [
        "print('''Menu Driven Progem :\n",
        "Press 1 to Proceed Further.\n",
        "Press 0 to terminate.''')\n",
        "x = int(input())\n",
        "if(x == 1):\n",
        "  while(True):\n",
        "    print(\"What Unit Conversion Do you want\")\n",
        "    x = int(input(''' Press 1 For Cm to ft Conversion.\n",
        "Press 2 For km to miles\n",
        "Press 3 For USD to INR\n",
        "Press 4 to Exit.'''))\n",
        "    if(x == 1):\n",
        "      y = float(input(\"Enter The Unit in cm\"))\n",
        "      print(y,\"cm in feet =\",0.0328*y)\n",
        "    elif (x == 2):\n",
        "      y = float(input(\"Enter The Unit in Km\"))\n",
        "      print(y,\"km in miles = \",0.621*y)\n",
        "    elif (x == 3):\n",
        "      y = float(input(\"Enter USD\"))\n",
        "      print(y,\"USD is equal to Rs\",82.95**y)\n",
        "    else:\n",
        "      print(\"Thankyou\")\n",
        "      break\n",
        "else :\n",
        "  print(\"Terminated\")\n"
      ],
      "metadata": {
        "id": "yBHhaCGQ2zpD",
        "outputId": "0dbf5c65-669a-452a-fe4e-1f4d4a847cec",
        "colab": {
          "base_uri": "https://localhost:8080/"
        }
      },
      "execution_count": null,
      "outputs": [
        {
          "output_type": "stream",
          "name": "stdout",
          "text": [
            "Menu Driven Progem : \n",
            "Press 1 to Proceed Further.\n",
            "Press 0 to terminate.\n",
            "1\n",
            "What Unit Conversion Do you want\n",
            " Press 1 For Cm to ft Conversion.\n",
            "Press 2 For km to miles\n",
            "Press 3 For USD to INR\n",
            "Press 4 to Exit.3\n",
            "Enter USD1\n",
            "1.0 USD is equal to Rs 82.95\n",
            "What Unit Conversion Do you want\n",
            " Press 1 For Cm to ft Conversion.\n",
            "Press 2 For km to miles\n",
            "Press 3 For USD to INR\n",
            "Press 4 to Exit.4\n",
            "Thankyou\n"
          ]
        }
      ]
    },
    {
      "cell_type": "markdown",
      "source": [
        "### `Problem 5` - Exercise 12: Display Fibonacci series up to 10 terms.\n",
        "\n",
        "*Note: The Fibonacci Sequence is a series of numbers. The next number is found by adding up the two numbers before it. The first two numbers are 0 and 1. For example, 0, 1, 1, 2, 3, 5, 8, 13, 21. The next number in this series above is 13+21 = 34*"
      ],
      "metadata": {
        "id": "LJJ30_Yw27ZU"
      }
    },
    {
      "cell_type": "code",
      "source": [
        "f1 = 0\n",
        "f2 = 1\n",
        "i = 0\n",
        "print(f1,\"\",f2,end=' ')\n",
        "while(i<8):\n",
        "  temp = f1+f2\n",
        "  f1 = f2\n",
        "  f2 = temp\n",
        "  print(temp,end=' ')\n",
        "  i +=1"
      ],
      "metadata": {
        "id": "ae_1rpe52-5R",
        "outputId": "6e3b52a8-f92a-4ab4-c0b5-5f9cc8c1f175",
        "colab": {
          "base_uri": "https://localhost:8080/"
        }
      },
      "execution_count": null,
      "outputs": [
        {
          "output_type": "stream",
          "name": "stdout",
          "text": [
            "0  1 1 2 3 5 8 13 21 34 "
          ]
        }
      ]
    },
    {
      "cell_type": "markdown",
      "source": [
        "### `Problem 6` - Find the factorial of a given number.\n",
        "\n",
        "Write a program to use the loop to find the factorial of a given number.\n",
        "\n",
        "The factorial (symbol: `!`) means to multiply all whole numbers from the chosen number down to 1.\n",
        "\n",
        "For example: calculate the factorial of 5\n",
        "\n",
        "```bash\n",
        "5! = 5 × 4 × 3 × 2 × 1 = 120\n",
        "```\n",
        "\n",
        "Output:\n",
        "\n",
        "```bash\n",
        "120\n",
        "```"
      ],
      "metadata": {
        "id": "pk_I_S4m3PT5"
      }
    },
    {
      "cell_type": "code",
      "source": [
        "n = int(input(\"Enter The Number \"))\n",
        "prod = 1\n",
        "for i in range(1,n+1):\n",
        "  prod  *= i\n",
        "print(\"Factorial of\",n,\"is equal to\",prod)\n"
      ],
      "metadata": {
        "id": "lzXxHegx3Rkc",
        "outputId": "1a53d17f-dfae-4262-c1b2-08d3f32c3253",
        "colab": {
          "base_uri": "https://localhost:8080/"
        }
      },
      "execution_count": null,
      "outputs": [
        {
          "output_type": "stream",
          "name": "stdout",
          "text": [
            "Enter The Number 6\n",
            "Factorial of 6 is equal to 720\n"
          ]
        }
      ]
    },
    {
      "cell_type": "markdown",
      "source": [
        "### `Problem 7` - Reverse a given integer number.\n",
        "\n",
        "Example:\n",
        "\n",
        "`Input:`\n",
        "\n",
        "```bash\n",
        "76542\n",
        "```\n",
        "\n",
        "`Output:`\n",
        "\n",
        "```bash\n",
        "24567\n",
        "```"
      ],
      "metadata": {
        "id": "-17IOi-g3UpU"
      }
    },
    {
      "cell_type": "code",
      "source": [
        "n = int(input(\"Enter The Given Number\"))\n",
        "temp = n\n",
        "sum = 0\n",
        "while(temp!=0):\n",
        "  x = temp%10\n",
        "  sum = sum*10 + x\n",
        "  temp = temp//10\n",
        "print(\"Reverse of\",n,\"is\",sum)"
      ],
      "metadata": {
        "id": "wJwLpKCr3aVA",
        "outputId": "88e5f47c-8982-4fca-c441-c3c0a12254e5",
        "colab": {
          "base_uri": "https://localhost:8080/"
        }
      },
      "execution_count": null,
      "outputs": [
        {
          "output_type": "stream",
          "name": "stdout",
          "text": [
            "Enter The Given Number654\n",
            "Reverse of 654 is 456\n"
          ]
        }
      ]
    },
    {
      "cell_type": "markdown",
      "source": [
        "### `Problem 8`: Take a user input as integer N. Find out the sum from 1 to N. If any number if divisible by 5, then skip that number. And if the sum is greater than 300, don't need to calculate the sum further more. Print the final result. And don't use for loop to solve this problem.\n",
        "\n",
        "**Example 1:**\n",
        "\n",
        "`Input:`\n",
        "\n",
        "```bash\n",
        "30\n",
        "```\n",
        "\n",
        "`Output:`\n",
        "\n",
        "```bash\n",
        "276\n",
        "```"
      ],
      "metadata": {
        "id": "-t8PJQaY3sHf"
      }
    },
    {
      "cell_type": "code",
      "source": [
        "a = int(input('Enter The Number: '))\n",
        "b = 1\n",
        "sum = 0\n",
        "while(b<a):\n",
        "  if(b%5 == 0):\n",
        "    pass\n",
        "  else:\n",
        "    sum += b\n",
        "  if(sum>300):\n",
        "    sum = sum-b\n",
        "    break\n",
        "  b += 1\n",
        "print(\"Sum of\",a,\"natural numbers after skipping 5 is\",sum)"
      ],
      "metadata": {
        "id": "GZB6mGMP3ujT",
        "outputId": "0f874136-9547-4af9-ed60-67b1c70415ce",
        "colab": {
          "base_uri": "https://localhost:8080/"
        }
      },
      "execution_count": null,
      "outputs": [
        {
          "output_type": "stream",
          "name": "stdout",
          "text": [
            "Enter The Number: 30\n",
            "Sum of 30 natural numbers after skipping 5 is 276\n"
          ]
        }
      ]
    },
    {
      "cell_type": "markdown",
      "source": [
        "### `Problem 9`: Write a program that keeps on accepting a number from the user until the user enters Zero. Display the sum and average of all the numbers."
      ],
      "metadata": {
        "id": "Q7ggImeA3xm4"
      }
    },
    {
      "cell_type": "code",
      "source": [
        "x = int(input(\"Enter The Number\"))\n",
        "cnt = 1\n",
        "sum = x\n",
        "avg = x\n",
        "while(True):\n",
        "  x = int(input(\"Keep Entering\"))\n",
        "  if(x == 0):\n",
        "    break\n",
        "  else:\n",
        "    sum += x\n",
        "    cnt += 1\n",
        "\n",
        "avg = sum/cnt\n",
        "print(\"Sum:\",sum,\"Average\",avg)\n",
        "\n"
      ],
      "metadata": {
        "id": "t_YDSZDe4Kdo",
        "outputId": "8f313679-406f-4700-aa18-6a27f8222e72",
        "colab": {
          "base_uri": "https://localhost:8080/"
        }
      },
      "execution_count": 1,
      "outputs": [
        {
          "output_type": "stream",
          "name": "stdout",
          "text": [
            "Enter The Number5\n",
            "Keep Entering3\n",
            "Keep Entering0\n",
            "Sum:  8 Average 4.0\n"
          ]
        }
      ]
    },
    {
      "cell_type": "markdown",
      "source": [
        "###`Problem 9`: Write a program which will find all such numbers which are divisible by 7 but are not a multiple of 5, between 2000 and 3200 (both included). The numbers obtained should be printed in a comma-separated sequence on a single line."
      ],
      "metadata": {
        "id": "6EhvEMvm4R7s"
      }
    },
    {
      "cell_type": "code",
      "source": [
        "for i in range(2000,3001):\n",
        "  if(i%7 == 0 and i%5 != 0):\n",
        "    print(i,end=',')\n"
      ],
      "metadata": {
        "id": "d6RgP1B34T6c",
        "colab": {
          "base_uri": "https://localhost:8080/"
        },
        "outputId": "ed82aa25-3461-456a-e5df-339222d77f1c"
      },
      "execution_count": 2,
      "outputs": [
        {
          "output_type": "stream",
          "name": "stdout",
          "text": [
            "2002,2009,2016,2023,2037,2044,2051,2058,2072,2079,2086,2093,2107,2114,2121,2128,2142,2149,2156,2163,2177,2184,2191,2198,2212,2219,2226,2233,2247,2254,2261,2268,2282,2289,2296,2303,2317,2324,2331,2338,2352,2359,2366,2373,2387,2394,2401,2408,2422,2429,2436,2443,2457,2464,2471,2478,2492,2499,2506,2513,2527,2534,2541,2548,2562,2569,2576,2583,2597,2604,2611,2618,2632,2639,2646,2653,2667,2674,2681,2688,2702,2709,2716,2723,2737,2744,2751,2758,2772,2779,2786,2793,2807,2814,2821,2828,2842,2849,2856,2863,2877,2884,2891,2898,2912,2919,2926,2933,2947,2954,2961,2968,2982,2989,2996,"
          ]
        }
      ]
    },
    {
      "cell_type": "markdown",
      "source": [
        "###`Problem 10`: Write a program, which will find all such numbers between 1000 and 3000 (both included) such that each digit of the number is an even number. The numbers obtained should be printed in a space-separated sequence on a single line.\n",
        "\n"
      ],
      "metadata": {
        "id": "tYvmRR-G4Vp4"
      }
    },
    {
      "cell_type": "code",
      "source": [
        "for i in range(1000,3000):\n",
        "  temp = i\n",
        "  is_even = True\n",
        "  while(temp!=0):\n",
        "    if(temp%10)%2 != 0:\n",
        "      is_even = False\n",
        "    temp = temp//10\n",
        "  if(is_even):\n",
        "    print(i,end=' ')\n",
        "\n"
      ],
      "metadata": {
        "id": "k6Gs1kIf4k19",
        "colab": {
          "base_uri": "https://localhost:8080/"
        },
        "outputId": "27ea2cd4-71ce-434e-d7da-8b4241448213"
      },
      "execution_count": 7,
      "outputs": [
        {
          "output_type": "stream",
          "name": "stdout",
          "text": [
            "2000 2002 2004 2006 2008 2020 2022 2024 2026 2028 2040 2042 2044 2046 2048 2060 2062 2064 2066 2068 2080 2082 2084 2086 2088 2200 2202 2204 2206 2208 2220 2222 2224 2226 2228 2240 2242 2244 2246 2248 2260 2262 2264 2266 2268 2280 2282 2284 2286 2288 2400 2402 2404 2406 2408 2420 2422 2424 2426 2428 2440 2442 2444 2446 2448 2460 2462 2464 2466 2468 2480 2482 2484 2486 2488 2600 2602 2604 2606 2608 2620 2622 2624 2626 2628 2640 2642 2644 2646 2648 2660 2662 2664 2666 2668 2680 2682 2684 2686 2688 2800 2802 2804 2806 2808 2820 2822 2824 2826 2828 2840 2842 2844 2846 2848 2860 2862 2864 2866 2868 2880 2882 2884 2886 2888 "
          ]
        }
      ]
    },
    {
      "cell_type": "markdown",
      "source": [
        "###`Problem 11`: A robot moves in a plane starting from the original point (0,0). The robot can move toward UP, DOWN, LEFT and RIGHT with a given steps.\n",
        "The trace of robot movement is shown as the following:\n",
        "```\n",
        "UP 5\n",
        "DOWN 3\n",
        "LEFT 3\n",
        "RIGHT 2\n",
        "!\n",
        "```\n",
        "> The numbers after the direction are steps.\n",
        "\n",
        "> `!` means robot stop there.\n",
        "\n",
        "**Please write a program to compute the distance from current position after a sequence of movement and original point.**\n",
        "\n",
        "*If the distance is a float, then just print the nearest integer.*\n",
        "\n",
        "Example:\n",
        "\n",
        "`Input`:\n",
        "```\n",
        "UP 5\n",
        "DOWN 3\n",
        "LEFT 3\n",
        "RIGHT 2\n",
        "!\n",
        "```\n",
        "`Output`:\n",
        "```\n",
        "2\n",
        "```"
      ],
      "metadata": {
        "id": "GV18IINT4mf5"
      }
    },
    {
      "cell_type": "code",
      "source": [
        "# Write code here"
      ],
      "metadata": {
        "id": "6UNMC2aR4w5x"
      },
      "execution_count": null,
      "outputs": []
    },
    {
      "cell_type": "markdown",
      "source": [
        "###`Problem 12`:Write a program to print whether a given number is a prime number or not"
      ],
      "metadata": {
        "id": "3fsAIAhK5GYY"
      }
    },
    {
      "cell_type": "code",
      "source": [
        "n = int(input(\"Enter The Number\"))\n",
        "is_prime = True\n",
        "if(n>=0 and n<2):\n",
        "  print(\"Not a Prime Number\")\n",
        "if(n == 2):\n",
        "  print(\"Prime Number\")\n",
        "for i in range(2,n):\n",
        "  if(n%i == 0):\n",
        "    is_prime = False\n",
        "    break\n",
        "\n",
        "if(is_prime):\n",
        "  print(\"Prime Number\")\n",
        "else:\n",
        "  print(\"Not a Prime Number\")\n"
      ],
      "metadata": {
        "id": "j6y91lxy5LZs",
        "colab": {
          "base_uri": "https://localhost:8080/"
        },
        "outputId": "48280299-e1cc-493d-8263-7df65b25d9be"
      },
      "execution_count": 12,
      "outputs": [
        {
          "output_type": "stream",
          "name": "stdout",
          "text": [
            "Enter The Number113\n",
            "Prime Number\n"
          ]
        }
      ]
    },
    {
      "cell_type": "markdown",
      "source": [
        "###`Problem 13`:Print all the Armstrong numbers in a given range.\n",
        "Range will be provided by the user<br>\n",
        "Armstrong number is a number that is equal to the sum of cubes of its digits. For example 0, 1, 153, 370, 371 and 407 are the Armstrong numbers."
      ],
      "metadata": {
        "id": "asAbmbK-5NHv"
      }
    },
    {
      "cell_type": "code",
      "source": [
        "def is_armstrong(n):\n",
        "  temp = n\n",
        "  sum = 0\n",
        "  while(temp !=0):\n",
        "    x = (temp%10)**3\n",
        "    sum += x\n",
        "    temp = temp // 10\n",
        "  if(sum == n):\n",
        "    return True\n",
        "  return False\n",
        "\n",
        "n = int(input(\"Enter The Lower Limit of the Range\"))\n",
        "m = int(input(\"Enter The Upper  Limit of the Range\"))\n",
        "for i in range(n,m+1):\n",
        "  if(is_armstrong(i)):\n",
        "    print(i,end=' ')"
      ],
      "metadata": {
        "id": "PZuI67pm5jCT",
        "colab": {
          "base_uri": "https://localhost:8080/"
        },
        "outputId": "2a0d43b5-6452-4245-b7b3-f7983c02e43a"
      },
      "execution_count": 15,
      "outputs": [
        {
          "output_type": "stream",
          "name": "stdout",
          "text": [
            "Enter The Lower Limit of the Range0\n",
            "Enter The Upper  Limit of the Range1000\n",
            "0 1 153 370 371 407 "
          ]
        }
      ]
    }
  ]
}