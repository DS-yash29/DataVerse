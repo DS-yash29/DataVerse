{
  "nbformat": 4,
  "nbformat_minor": 0,
  "metadata": {
    "colab": {
      "provenance": []
    },
    "kernelspec": {
      "name": "python3",
      "display_name": "Python 3"
    },
    "language_info": {
      "name": "python"
    }
  },
  "cells": [
    {
      "cell_type": "markdown",
      "source": [
        "# Task : Session 1\n",
        "Solve these questions own your own and try to test yourself what you have learned in the session.\n",
        "\n",
        "Happy Learning!"
      ],
      "metadata": {
        "id": "A05OG15VqOPF"
      }
    },
    {
      "cell_type": "markdown",
      "source": [
        "### Q1 :- Print the given strings as per stated format.\n",
        "\n",
        "**Given strings**:\n",
        "```\n",
        "\"Data\" \"Science\" \"Mentorship\" \"Program\"\n",
        "\"By\" \"CampusX\"\n",
        "```\n",
        "**Output**:\n",
        "```\n",
        "Data-Science-Mentorship-Program-started-By-CampusX\n",
        "```\n",
        "\n",
        "Concept- [Seperator and End]"
      ],
      "metadata": {
        "id": "2doIXf8bqe9_"
      }
    },
    {
      "cell_type": "code",
      "source": [
        "print(\"Data\",\"Science\",\"Mentorship\",\"Program\",sep=\"-\",end=\"-\")\n",
        "print(\"Started \",\"By\",\"CampusX\",sep=\"-\")"
      ],
      "metadata": {
        "id": "-em6d3KErDtp",
        "colab": {
          "base_uri": "https://localhost:8080/"
        },
        "outputId": "86cad4e5-0535-41ee-952d-30e0887b0207"
      },
      "execution_count": 1,
      "outputs": [
        {
          "output_type": "stream",
          "name": "stdout",
          "text": [
            "Data-Science-Mentorship-Program-Started -By-CampusX\n"
          ]
        }
      ]
    },
    {
      "cell_type": "markdown",
      "source": [
        "### Q2:- Write a program that will convert celsius value to fahrenheit."
      ],
      "metadata": {
        "id": "1KUpN7ZTrC3_"
      }
    },
    {
      "cell_type": "code",
      "source": [
        "c = 27\n",
        "print(\"Converting Celsuis into fahrenheit \")\n",
        "f = (9/5)*c + 32\n",
        "print(\"Celcius -> \",c,\" Fahrenheit -> \",f)"
      ],
      "metadata": {
        "id": "yxKYhYQiqWfj",
        "colab": {
          "base_uri": "https://localhost:8080/"
        },
        "outputId": "1c0a713a-50cd-4be2-e760-eb4ada51ea95"
      },
      "execution_count": 2,
      "outputs": [
        {
          "output_type": "stream",
          "name": "stdout",
          "text": [
            "Converting Celsuis into fahrenheit \n",
            "Celcius ->  27  Fahrenheit ->  80.6\n"
          ]
        }
      ]
    },
    {
      "cell_type": "markdown",
      "source": [
        "### Q3:- Take 2 numbers as input from the user.Write a program to swap the numbers without using any special python syntax."
      ],
      "metadata": {
        "id": "RLrOBBJurLB2"
      }
    },
    {
      "cell_type": "code",
      "source": [
        "a = 5\n",
        "b = 2\n",
        "print(\"Before Swapping\")\n",
        "print(\"a:\",a,\" b:\",b)\n",
        "t = a\n",
        "a = b\n",
        "b = t\n",
        "print(\"After Swapping\")\n",
        "print(\"a:\",a,\" b:\",b)"
      ],
      "metadata": {
        "id": "yPn7if0TrJ4F",
        "colab": {
          "base_uri": "https://localhost:8080/"
        },
        "outputId": "8502fd29-3f7b-49ad-dcec-2a3862d16e43"
      },
      "execution_count": 5,
      "outputs": [
        {
          "output_type": "stream",
          "name": "stdout",
          "text": [
            "Before Swapping\n",
            "a: 5  b: 2\n",
            "After Swapping\n",
            "a: 2  b: 5\n"
          ]
        }
      ]
    },
    {
      "cell_type": "markdown",
      "source": [
        "### Q4:- Write a program to find the euclidean distance between two coordinates.Take both the coordinates from the user as input."
      ],
      "metadata": {
        "id": "waLCP1bjr7ML"
      }
    },
    {
      "cell_type": "code",
      "source": [
        "import math\n",
        "print(\"Enter The Coordinates: \")\n",
        "x1 = int(input(\"Enter X-Coordinate 1 \"))\n",
        "y1 = int(input(\"Enter Y-Coordinate 1 \"))\n",
        "x2 = int(input(\"Enter X-Coordinate 2 \"))\n",
        "y2 = int(input(\"Enter X-Coordinate 2 \"))\n",
        "\n",
        "euc = math.pow((y2-y1),2) + math.pow((x2-x1),2)\n",
        "print(\"Distance = \",math.sqrt(euc))"
      ],
      "metadata": {
        "id": "Pl1Sv-xnrxnH",
        "colab": {
          "base_uri": "https://localhost:8080/"
        },
        "outputId": "efd70b3b-9618-4196-ead3-a6c92ca332c9"
      },
      "execution_count": 7,
      "outputs": [
        {
          "output_type": "stream",
          "name": "stdout",
          "text": [
            "Enter The Coordinates: \n",
            "Enter X-Coordinate 1 5\n",
            "Enter Y-Coordinate 1 2\n",
            "Enter X-Coordinate 2 9\n",
            "Enter X-Coordinate 2 5\n",
            "Distance =  5.0\n"
          ]
        }
      ]
    },
    {
      "cell_type": "markdown",
      "source": [
        "### Q5:- Write a program to find the simple interest when the value of principle,rate of interest and time period is provided by the user.\n"
      ],
      "metadata": {
        "id": "VLrhg-FRsHjR"
      }
    },
    {
      "cell_type": "code",
      "source": [
        "## Principal amount : p , rate : r, time : t\n",
        "p = 10000\n",
        "r = 5 # 5%\n",
        "t = 2   # 2 years\n",
        "\n",
        "SI = p*r*t/100\n",
        "print(\"Simple Interest Earned on Principle Amount of Rs\",p,\"@\",r,\"% for a time period of\",t,\"years is Rs\",SI)"
      ],
      "metadata": {
        "id": "s40DlReZsTmY",
        "colab": {
          "base_uri": "https://localhost:8080/"
        },
        "outputId": "c39d0d86-8861-40c0-fb10-72ffc12e3a04"
      },
      "execution_count": 12,
      "outputs": [
        {
          "output_type": "stream",
          "name": "stdout",
          "text": [
            "Simple Interest Earned on Principle Amount of Rs 10000 @ 5 % for a time period of 2 years is Rs 1000.0\n"
          ]
        }
      ]
    },
    {
      "cell_type": "markdown",
      "source": [
        "### Q6:- Write a program that will tell the number of dogs and chicken are there when the user will provide the value of total heads and legs.\n",
        "\n",
        "For example:\n",
        "Input:\n",
        "heads -> 4\n",
        "legs -> 12\n",
        "<br>\n",
        "Output:\n",
        "dogs -> 2\n",
        "chicken -> 2\n",
        "\n",
        "\n",
        "\n"
      ],
      "metadata": {
        "id": "LMy0BTUktYKa"
      }
    },
    {
      "cell_type": "code",
      "source": [
        "heads = int(input(\"Enter Total Heads\"))\n",
        "legs = int(input(\"Enter Total Legs\"))\n",
        "\n",
        "dog = legs/2 - heads\n",
        "print(\"Total Number of Dogs: \",int(dog),\"\\n\",\"Total Number of Chicken :\",int(heads-dog))\n"
      ],
      "metadata": {
        "id": "XSBvJoA4tXaG",
        "colab": {
          "base_uri": "https://localhost:8080/"
        },
        "outputId": "da243739-0a0c-468e-b54a-9e38685a431a"
      },
      "execution_count": 16,
      "outputs": [
        {
          "output_type": "stream",
          "name": "stdout",
          "text": [
            "Enter Total Heads20\n",
            "Enter Total Legs68\n",
            "Total Number of Dogs:  14 \n",
            " Total Number of Chicken : 6\n"
          ]
        }
      ]
    },
    {
      "cell_type": "markdown",
      "source": [
        "### Q7:- Write a program to find the sum of squares of first n natural numbers where n will be provided by the user."
      ],
      "metadata": {
        "id": "gJ7C5kZYt4BP"
      }
    },
    {
      "cell_type": "code",
      "source": [
        "n = int(input(\"Enter The Number: \"))\n",
        "print(\"Sum of \",n,\"Natural Numbers is \",n*(n+1)/2)"
      ],
      "metadata": {
        "id": "_tHsmEHzt2nX",
        "colab": {
          "base_uri": "https://localhost:8080/"
        },
        "outputId": "b41d8270-2c83-44fc-d325-a1db8df54237"
      },
      "execution_count": 17,
      "outputs": [
        {
          "output_type": "stream",
          "name": "stdout",
          "text": [
            "Enter The Number: 5\n",
            "Sum of  5 Natural Numbers is  15.0\n"
          ]
        }
      ]
    },
    {
      "cell_type": "markdown",
      "source": [
        "### Q8:- Given the first 2 terms of an Arithmetic Series.Find the Nth term of the series. Assume all inputs are provided by the user."
      ],
      "metadata": {
        "id": "FHrMM7g-yG1h"
      }
    },
    {
      "cell_type": "code",
      "source": [
        "a1 = int(input(\"Enter The First Term\"))\n",
        "a2 = int(input(\"Enter The Second Term\"))\n",
        "d = a2-a1\n",
        "n = int(input(\"Enter The Value of n\"))\n",
        "print(n,\"th term of the series is \",a1+(n-1)*d)"
      ],
      "metadata": {
        "id": "go4_kmZmyVSx",
        "colab": {
          "base_uri": "https://localhost:8080/"
        },
        "outputId": "972f73b9-164c-49cf-aa20-d501438aede1"
      },
      "execution_count": 18,
      "outputs": [
        {
          "output_type": "stream",
          "name": "stdout",
          "text": [
            "Enter The First Term5\n",
            "Enter The Second Term8\n",
            "Enter The Value of n6\n",
            "6 th term of the series is  20\n"
          ]
        }
      ]
    },
    {
      "cell_type": "markdown",
      "source": [
        "### Q9:- Given 2 fractions, find the sum of those 2 fractions.Take the numerator and denominator values of the fractions from the user."
      ],
      "metadata": {
        "id": "QgyRX_es1oum"
      }
    },
    {
      "cell_type": "code",
      "source": [
        "n1 = int(input(\"Enter Numerator of Fraction 1 \"))\n",
        "d1 = int(input(\"Enter Denominator of Fraction 1 \"))\n",
        "n2 = int(input(\"Enter Numerator of Fraction 2 \"))\n",
        "d2 = int(input(\"Enter Denominator of Fraction 2 \"))\n",
        "\n",
        "sum = (n1*d2 + d1*n2) / (d1*d2)\n",
        "print(\"Sum of the fractions is: \",sum)"
      ],
      "metadata": {
        "id": "X05xqFS1yW16",
        "colab": {
          "base_uri": "https://localhost:8080/"
        },
        "outputId": "ea8cab88-2caa-422f-aa80-27acae7042c3"
      },
      "execution_count": 21,
      "outputs": [
        {
          "output_type": "stream",
          "name": "stdout",
          "text": [
            "Enter Numerator of Fraction 1 3\n",
            "Enter Denominator of Fraction 1 5\n",
            "Enter Numerator of Fraction 2 2\n",
            "Enter Denominator of Fraction 2 5\n",
            "Sum of the fractions is:  1.0\n"
          ]
        }
      ]
    },
    {
      "cell_type": "markdown",
      "source": [
        "### Q10:- Given the height, width and breadth of a milk tank, you have to find out how many glasses of milk can be obtained? Assume all the inputs are provided by the user.\n",
        "\n",
        "\n",
        "\n",
        "Input:<br>\n",
        "Dimensions of the milk tank<br>\n",
        "H = 20cm, L = 20cm, B = 20cm\n",
        "<br><br>\n",
        "Dimensions of the glass<br>\n",
        "h = 3cm, r = 1cm"
      ],
      "metadata": {
        "id": "eaql38ln13u7"
      }
    },
    {
      "cell_type": "code",
      "source": [
        "H = int(input(\"Enter Height of the Tank\"))\n",
        "L = int(input(\"Enter Length of the Tank\"))\n",
        "B = int(input(\"Enter Breadth of the Tank\"))\n",
        "\n",
        "h = int(input(\"Enter Glass Height\"))\n",
        "r = int(input(\"Enter Glass Raduis\"))\n",
        "\n",
        "print(\"Total Number of Glasses : \",int((H*L*B)/(h*r)))"
      ],
      "metadata": {
        "id": "FePZqno74eWv",
        "colab": {
          "base_uri": "https://localhost:8080/"
        },
        "outputId": "217298d8-29fc-4fb2-9137-efb3299c5730"
      },
      "execution_count": 23,
      "outputs": [
        {
          "output_type": "stream",
          "name": "stdout",
          "text": [
            "Enter Height of the Tank20\n",
            "Enter Length of the Tank20\n",
            "Enter Breadth of the Tank20\n",
            "Enter Glass Height5\n",
            "Enter Glass Raduis3\n",
            "Total Number of Glasses :  533\n"
          ]
        }
      ]
    }
  ]
}