{
 "cells": [
  {
   "cell_type": "markdown",
   "id": "0e243318",
   "metadata": {},
   "source": [
    "## Implementation of Simple Linear Regression From Scratch\n",
    "\n",
    "- With the Use of\n",
    "1. Python Lists\n",
    "2. Aggregate Functions\n",
    "\n",
    "- Comaprision \n",
    "1. Comparision with Sklearn implemented models\n",
    "2. Accauracy Comparision"
   ]
  },
  {
   "cell_type": "code",
   "execution_count": 1,
   "id": "6a5a3f90",
   "metadata": {},
   "outputs": [],
   "source": [
    "import numpy as np\n",
    "import pandas as pd\n",
    "from sklearn.linear_model import LinearRegression"
   ]
  },
  {
   "cell_type": "code",
   "execution_count": 2,
   "id": "cb7d8680",
   "metadata": {},
   "outputs": [],
   "source": [
    "df = pd.read_csv('Sample_Data.csv')"
   ]
  },
  {
   "cell_type": "code",
   "execution_count": 3,
   "id": "e67446e4",
   "metadata": {},
   "outputs": [
    {
     "data": {
      "text/html": [
       "<div>\n",
       "<style scoped>\n",
       "    .dataframe tbody tr th:only-of-type {\n",
       "        vertical-align: middle;\n",
       "    }\n",
       "\n",
       "    .dataframe tbody tr th {\n",
       "        vertical-align: top;\n",
       "    }\n",
       "\n",
       "    .dataframe thead th {\n",
       "        text-align: right;\n",
       "    }\n",
       "</style>\n",
       "<table border=\"1\" class=\"dataframe\">\n",
       "  <thead>\n",
       "    <tr style=\"text-align: right;\">\n",
       "      <th></th>\n",
       "      <th>CGPA</th>\n",
       "      <th>LPA</th>\n",
       "    </tr>\n",
       "  </thead>\n",
       "  <tbody>\n",
       "    <tr>\n",
       "      <th>0</th>\n",
       "      <td>8.5</td>\n",
       "      <td>9.2</td>\n",
       "    </tr>\n",
       "    <tr>\n",
       "      <th>1</th>\n",
       "      <td>8.1</td>\n",
       "      <td>8.7</td>\n",
       "    </tr>\n",
       "    <tr>\n",
       "      <th>2</th>\n",
       "      <td>7.9</td>\n",
       "      <td>7.5</td>\n",
       "    </tr>\n",
       "    <tr>\n",
       "      <th>3</th>\n",
       "      <td>8.3</td>\n",
       "      <td>8.9</td>\n",
       "    </tr>\n",
       "    <tr>\n",
       "      <th>4</th>\n",
       "      <td>9.2</td>\n",
       "      <td>10.5</td>\n",
       "    </tr>\n",
       "  </tbody>\n",
       "</table>\n",
       "</div>"
      ],
      "text/plain": [
       "   CGPA   LPA\n",
       "0   8.5   9.2\n",
       "1   8.1   8.7\n",
       "2   7.9   7.5\n",
       "3   8.3   8.9\n",
       "4   9.2  10.5"
      ]
     },
     "execution_count": 3,
     "metadata": {},
     "output_type": "execute_result"
    }
   ],
   "source": [
    "df.head()"
   ]
  },
  {
   "cell_type": "code",
   "execution_count": 4,
   "id": "6e101215",
   "metadata": {},
   "outputs": [
    {
     "name": "stdout",
     "output_type": "stream",
     "text": [
      "<class 'pandas.core.frame.DataFrame'>\n",
      "RangeIndex: 120 entries, 0 to 119\n",
      "Data columns (total 2 columns):\n",
      " #   Column  Non-Null Count  Dtype  \n",
      "---  ------  --------------  -----  \n",
      " 0   CGPA    120 non-null    float64\n",
      " 1   LPA     120 non-null    float64\n",
      "dtypes: float64(2)\n",
      "memory usage: 2.0 KB\n"
     ]
    }
   ],
   "source": [
    "df.info()"
   ]
  },
  {
   "cell_type": "code",
   "execution_count": 5,
   "id": "086e480f",
   "metadata": {},
   "outputs": [],
   "source": [
    "output = [df.LPA.values][0]"
   ]
  },
  {
   "cell_type": "code",
   "execution_count": 6,
   "id": "9ad05994",
   "metadata": {},
   "outputs": [
    {
     "name": "stdout",
     "output_type": "stream",
     "text": [
      "[ 9.2  8.7  7.5  8.9 10.5  7.2  9.5 10.   8.8  9.6 11.2  7.   8.4 10.2\n",
      "  9.3  7.3  9.8 10.8  6.8  8.   9.2  8.7  7.5  8.9 10.5  7.2  9.5 10.\n",
      "  8.8  9.6 11.2  7.   8.4 10.2  9.3  7.3  9.8 10.8  6.8  8.   9.2  8.7\n",
      "  7.5  8.9 10.5  7.2  9.5 10.   8.8  9.6 11.2  7.   8.4 10.2  9.3  7.3\n",
      "  9.8 10.8  6.8  8.   9.2  8.7  7.5  8.9 10.5  7.2  9.5 10.   8.8  9.6\n",
      " 11.2  7.   8.4 10.2  9.3  7.3  9.8 10.8  6.8  8.   9.2  8.7  7.5  8.9\n",
      " 10.5  7.2  9.5 10.   8.8  9.6 11.2  7.   8.4 10.2  9.3  7.3  9.8 10.8\n",
      "  6.8  8.   9.2  8.7  7.5  8.9 10.5  7.2  9.5 10.   8.8  9.6 11.2  7.\n",
      "  8.4 10.2  9.3  7.3  9.8 10.8  6.8  8. ]\n"
     ]
    }
   ],
   "source": [
    "print(output)"
   ]
  },
  {
   "cell_type": "code",
   "execution_count": 7,
   "id": "5b7f0a8a",
   "metadata": {},
   "outputs": [],
   "source": [
    "input_ = [df.CGPA.values][0]"
   ]
  },
  {
   "cell_type": "code",
   "execution_count": 8,
   "id": "4dd2cacf",
   "metadata": {},
   "outputs": [
    {
     "data": {
      "text/plain": [
       "array([8.5, 8.1, 7.9, 8.3, 9.2, 7.8, 8.7, 9. , 8.4, 8.8, 9.5, 7.6, 8.2,\n",
       "       9.1, 8.6, 7.7, 8.9, 9.3, 7.5, 8. , 8.5, 8.1, 7.9, 8.3, 9.2, 7.8,\n",
       "       8.7, 9. , 8.4, 8.8, 9.5, 7.6, 8.2, 9.1, 8.6, 7.7, 8.9, 9.3, 7.5,\n",
       "       8. , 8.5, 8.1, 7.9, 8.3, 9.2, 7.8, 8.7, 9. , 8.4, 8.8, 9.5, 7.6,\n",
       "       8.2, 9.1, 8.6, 7.7, 8.9, 9.3, 7.5, 8. , 8.5, 8.1, 7.9, 8.3, 9.2,\n",
       "       7.8, 8.7, 9. , 8.4, 8.8, 9.5, 7.6, 8.2, 9.1, 8.6, 7.7, 8.9, 9.3,\n",
       "       7.5, 8. , 8.5, 8.1, 7.9, 8.3, 9.2, 7.8, 8.7, 9. , 8.4, 8.8, 9.5,\n",
       "       7.6, 8.2, 9.1, 8.6, 7.7, 8.9, 9.3, 7.5, 8. , 8.5, 8.1, 7.9, 8.3,\n",
       "       9.2, 7.8, 8.7, 9. , 8.4, 8.8, 9.5, 7.6, 8.2, 9.1, 8.6, 7.7, 8.9,\n",
       "       9.3, 7.5, 8. ])"
      ]
     },
     "execution_count": 8,
     "metadata": {},
     "output_type": "execute_result"
    }
   ],
   "source": [
    "input_"
   ]
  },
  {
   "cell_type": "code",
   "execution_count": 9,
   "id": "0b315762",
   "metadata": {},
   "outputs": [],
   "source": [
    "output_mean = 0\n",
    "for  i in range(len(output)):\n",
    "    output_mean = output_mean + output[i]\n",
    "output_mean = output_mean / len(output)"
   ]
  },
  {
   "cell_type": "code",
   "execution_count": 10,
   "id": "e3a03a6e",
   "metadata": {},
   "outputs": [
    {
     "data": {
      "text/plain": [
       "8.934999999999999"
      ]
     },
     "execution_count": 10,
     "metadata": {},
     "output_type": "execute_result"
    }
   ],
   "source": [
    "output_mean"
   ]
  },
  {
   "cell_type": "code",
   "execution_count": 11,
   "id": "56ad036e",
   "metadata": {},
   "outputs": [],
   "source": [
    "input_mean = 0\n",
    "for  i in input_:\n",
    "    input_mean += i\n",
    "input_mean = input_mean/len(input_)"
   ]
  },
  {
   "cell_type": "code",
   "execution_count": 12,
   "id": "d4f57de7",
   "metadata": {},
   "outputs": [],
   "source": [
    "y_error = []\n",
    "x_error = []\n",
    "for i in range(len(output)):\n",
    "    y_error.append(round((output[i]-output_mean),2))\n",
    "    x_error.append(round((input_[i]-input_mean),2))\n"
   ]
  },
  {
   "cell_type": "code",
   "execution_count": 13,
   "id": "331b5fae",
   "metadata": {},
   "outputs": [
    {
     "name": "stdout",
     "output_type": "stream",
     "text": [
      "[0.27, -0.23, -1.43, -0.03, 1.57, -1.73, 0.57, 1.07, -0.13, 0.67, 2.27, -1.93, -0.53, 1.27, 0.37, -1.63, 0.87, 1.87, -2.13, -0.93, 0.27, -0.23, -1.43, -0.03, 1.57, -1.73, 0.57, 1.07, -0.13, 0.67, 2.27, -1.93, -0.53, 1.27, 0.37, -1.63, 0.87, 1.87, -2.13, -0.93, 0.27, -0.23, -1.43, -0.03, 1.57, -1.73, 0.57, 1.07, -0.13, 0.67, 2.27, -1.93, -0.53, 1.27, 0.37, -1.63, 0.87, 1.87, -2.13, -0.93, 0.27, -0.23, -1.43, -0.03, 1.57, -1.73, 0.57, 1.07, -0.13, 0.67, 2.27, -1.93, -0.53, 1.27, 0.37, -1.63, 0.87, 1.87, -2.13, -0.93, 0.27, -0.23, -1.43, -0.03, 1.57, -1.73, 0.57, 1.07, -0.13, 0.67, 2.27, -1.93, -0.53, 1.27, 0.37, -1.63, 0.87, 1.87, -2.13, -0.93, 0.27, -0.23, -1.43, -0.03, 1.57, -1.73, 0.57, 1.07, -0.13, 0.67, 2.27, -1.93, -0.53, 1.27, 0.37, -1.63, 0.87, 1.87, -2.13, -0.93]\n"
     ]
    }
   ],
   "source": [
    "print(y_error)"
   ]
  },
  {
   "cell_type": "code",
   "execution_count": 14,
   "id": "f25a4fa1",
   "metadata": {},
   "outputs": [
    {
     "name": "stdout",
     "output_type": "stream",
     "text": [
      "[0.04, -0.36, -0.56, -0.16, 0.74, -0.66, 0.24, 0.54, -0.06, 0.34, 1.04, -0.86, -0.26, 0.64, 0.14, -0.76, 0.44, 0.84, -0.96, -0.46, 0.04, -0.36, -0.56, -0.16, 0.74, -0.66, 0.24, 0.54, -0.06, 0.34, 1.04, -0.86, -0.26, 0.64, 0.14, -0.76, 0.44, 0.84, -0.96, -0.46, 0.04, -0.36, -0.56, -0.16, 0.74, -0.66, 0.24, 0.54, -0.06, 0.34, 1.04, -0.86, -0.26, 0.64, 0.14, -0.76, 0.44, 0.84, -0.96, -0.46, 0.04, -0.36, -0.56, -0.16, 0.74, -0.66, 0.24, 0.54, -0.06, 0.34, 1.04, -0.86, -0.26, 0.64, 0.14, -0.76, 0.44, 0.84, -0.96, -0.46, 0.04, -0.36, -0.56, -0.16, 0.74, -0.66, 0.24, 0.54, -0.06, 0.34, 1.04, -0.86, -0.26, 0.64, 0.14, -0.76, 0.44, 0.84, -0.96, -0.46, 0.04, -0.36, -0.56, -0.16, 0.74, -0.66, 0.24, 0.54, -0.06, 0.34, 1.04, -0.86, -0.26, 0.64, 0.14, -0.76, 0.44, 0.84, -0.96, -0.46]\n"
     ]
    }
   ],
   "source": [
    "print(x_error)"
   ]
  },
  {
   "cell_type": "code",
   "execution_count": 15,
   "id": "885d34f8",
   "metadata": {},
   "outputs": [],
   "source": [
    "cov_xy = 0\n",
    "var_x = 0"
   ]
  },
  {
   "cell_type": "code",
   "execution_count": 16,
   "id": "9fc07b24",
   "metadata": {},
   "outputs": [],
   "source": [
    "for i in range(len(y_error)):\n",
    "    cov_xy +=  y_error[i]*x_error[i]\n",
    "    var_x += x_error[i]*x_error[i]"
   ]
  },
  {
   "cell_type": "code",
   "execution_count": 17,
   "id": "1df42146",
   "metadata": {},
   "outputs": [
    {
     "name": "stdout",
     "output_type": "stream",
     "text": [
      "89.04600000000005\n",
      "41.099999999999994\n"
     ]
    }
   ],
   "source": [
    "print(cov_xy,var_x,sep='\\n')"
   ]
  },
  {
   "cell_type": "code",
   "execution_count": 18,
   "id": "ffe1825b",
   "metadata": {},
   "outputs": [],
   "source": [
    "m = cov_xy/var_x"
   ]
  },
  {
   "cell_type": "code",
   "execution_count": 19,
   "id": "4af34785",
   "metadata": {},
   "outputs": [
    {
     "name": "stdout",
     "output_type": "stream",
     "text": [
      "2.166569343065695\n"
     ]
    }
   ],
   "source": [
    "print(m)"
   ]
  },
  {
   "cell_type": "code",
   "execution_count": 20,
   "id": "d30a9b48",
   "metadata": {},
   "outputs": [],
   "source": [
    "b = output_mean - m*input_mean"
   ]
  },
  {
   "cell_type": "code",
   "execution_count": 21,
   "id": "81ecadc0",
   "metadata": {},
   "outputs": [
    {
     "data": {
      "text/plain": [
       "-9.383343795620455"
      ]
     },
     "execution_count": 21,
     "metadata": {},
     "output_type": "execute_result"
    }
   ],
   "source": [
    "b"
   ]
  },
  {
   "cell_type": "markdown",
   "id": "79132d3c",
   "metadata": {},
   "source": [
    "### According to our Calculations :\n",
    "- The Values of m(Wieghtage of input parameter / slope m) = 2.16\n",
    "- The value of offset / intercept b = -9.38\n",
    "- Equation nieng -> y = m*x + b"
   ]
  },
  {
   "cell_type": "markdown",
   "id": "3bcdcf84",
   "metadata": {},
   "source": [
    "### Calculating parametres  with sklearn model"
   ]
  },
  {
   "cell_type": "code",
   "execution_count": 22,
   "id": "a8d7f467",
   "metadata": {},
   "outputs": [],
   "source": [
    "lr = LinearRegression()"
   ]
  },
  {
   "cell_type": "code",
   "execution_count": 23,
   "id": "2046d1c8",
   "metadata": {},
   "outputs": [
    {
     "data": {
      "text/html": [
       "<style>#sk-container-id-1 {color: black;}#sk-container-id-1 pre{padding: 0;}#sk-container-id-1 div.sk-toggleable {background-color: white;}#sk-container-id-1 label.sk-toggleable__label {cursor: pointer;display: block;width: 100%;margin-bottom: 0;padding: 0.3em;box-sizing: border-box;text-align: center;}#sk-container-id-1 label.sk-toggleable__label-arrow:before {content: \"▸\";float: left;margin-right: 0.25em;color: #696969;}#sk-container-id-1 label.sk-toggleable__label-arrow:hover:before {color: black;}#sk-container-id-1 div.sk-estimator:hover label.sk-toggleable__label-arrow:before {color: black;}#sk-container-id-1 div.sk-toggleable__content {max-height: 0;max-width: 0;overflow: hidden;text-align: left;background-color: #f0f8ff;}#sk-container-id-1 div.sk-toggleable__content pre {margin: 0.2em;color: black;border-radius: 0.25em;background-color: #f0f8ff;}#sk-container-id-1 input.sk-toggleable__control:checked~div.sk-toggleable__content {max-height: 200px;max-width: 100%;overflow: auto;}#sk-container-id-1 input.sk-toggleable__control:checked~label.sk-toggleable__label-arrow:before {content: \"▾\";}#sk-container-id-1 div.sk-estimator input.sk-toggleable__control:checked~label.sk-toggleable__label {background-color: #d4ebff;}#sk-container-id-1 div.sk-label input.sk-toggleable__control:checked~label.sk-toggleable__label {background-color: #d4ebff;}#sk-container-id-1 input.sk-hidden--visually {border: 0;clip: rect(1px 1px 1px 1px);clip: rect(1px, 1px, 1px, 1px);height: 1px;margin: -1px;overflow: hidden;padding: 0;position: absolute;width: 1px;}#sk-container-id-1 div.sk-estimator {font-family: monospace;background-color: #f0f8ff;border: 1px dotted black;border-radius: 0.25em;box-sizing: border-box;margin-bottom: 0.5em;}#sk-container-id-1 div.sk-estimator:hover {background-color: #d4ebff;}#sk-container-id-1 div.sk-parallel-item::after {content: \"\";width: 100%;border-bottom: 1px solid gray;flex-grow: 1;}#sk-container-id-1 div.sk-label:hover label.sk-toggleable__label {background-color: #d4ebff;}#sk-container-id-1 div.sk-serial::before {content: \"\";position: absolute;border-left: 1px solid gray;box-sizing: border-box;top: 0;bottom: 0;left: 50%;z-index: 0;}#sk-container-id-1 div.sk-serial {display: flex;flex-direction: column;align-items: center;background-color: white;padding-right: 0.2em;padding-left: 0.2em;position: relative;}#sk-container-id-1 div.sk-item {position: relative;z-index: 1;}#sk-container-id-1 div.sk-parallel {display: flex;align-items: stretch;justify-content: center;background-color: white;position: relative;}#sk-container-id-1 div.sk-item::before, #sk-container-id-1 div.sk-parallel-item::before {content: \"\";position: absolute;border-left: 1px solid gray;box-sizing: border-box;top: 0;bottom: 0;left: 50%;z-index: -1;}#sk-container-id-1 div.sk-parallel-item {display: flex;flex-direction: column;z-index: 1;position: relative;background-color: white;}#sk-container-id-1 div.sk-parallel-item:first-child::after {align-self: flex-end;width: 50%;}#sk-container-id-1 div.sk-parallel-item:last-child::after {align-self: flex-start;width: 50%;}#sk-container-id-1 div.sk-parallel-item:only-child::after {width: 0;}#sk-container-id-1 div.sk-dashed-wrapped {border: 1px dashed gray;margin: 0 0.4em 0.5em 0.4em;box-sizing: border-box;padding-bottom: 0.4em;background-color: white;}#sk-container-id-1 div.sk-label label {font-family: monospace;font-weight: bold;display: inline-block;line-height: 1.2em;}#sk-container-id-1 div.sk-label-container {text-align: center;}#sk-container-id-1 div.sk-container {/* jupyter's `normalize.less` sets `[hidden] { display: none; }` but bootstrap.min.css set `[hidden] { display: none !important; }` so we also need the `!important` here to be able to override the default hidden behavior on the sphinx rendered scikit-learn.org. See: https://github.com/scikit-learn/scikit-learn/issues/21755 */display: inline-block !important;position: relative;}#sk-container-id-1 div.sk-text-repr-fallback {display: none;}</style><div id=\"sk-container-id-1\" class=\"sk-top-container\"><div class=\"sk-text-repr-fallback\"><pre>LinearRegression()</pre><b>In a Jupyter environment, please rerun this cell to show the HTML representation or trust the notebook. <br />On GitHub, the HTML representation is unable to render, please try loading this page with nbviewer.org.</b></div><div class=\"sk-container\" hidden><div class=\"sk-item\"><div class=\"sk-estimator sk-toggleable\"><input class=\"sk-toggleable__control sk-hidden--visually\" id=\"sk-estimator-id-1\" type=\"checkbox\" checked><label for=\"sk-estimator-id-1\" class=\"sk-toggleable__label sk-toggleable__label-arrow\">LinearRegression</label><div class=\"sk-toggleable__content\"><pre>LinearRegression()</pre></div></div></div></div></div>"
      ],
      "text/plain": [
       "LinearRegression()"
      ]
     },
     "execution_count": 23,
     "metadata": {},
     "output_type": "execute_result"
    }
   ],
   "source": [
    "lr.fit(df.CGPA.values.reshape(-1,1),df.LPA.values.reshape(-1,1))"
   ]
  },
  {
   "cell_type": "code",
   "execution_count": 24,
   "id": "e2a4844f",
   "metadata": {},
   "outputs": [
    {
     "data": {
      "text/plain": [
       "array([-9.3852982])"
      ]
     },
     "execution_count": 24,
     "metadata": {},
     "output_type": "execute_result"
    }
   ],
   "source": [
    "lr.intercept_"
   ]
  },
  {
   "cell_type": "code",
   "execution_count": 25,
   "id": "13058434",
   "metadata": {},
   "outputs": [
    {
     "data": {
      "text/plain": [
       "array([[2.1668005]])"
      ]
     },
     "execution_count": 25,
     "metadata": {},
     "output_type": "execute_result"
    }
   ],
   "source": [
    "lr.coef_"
   ]
  },
  {
   "cell_type": "markdown",
   "id": "342a65d6",
   "metadata": {},
   "source": [
    "#### Comparizion\n",
    "\n",
    "- Value of m calculated manually  2.166569343065695\n",
    "- Value of b calculate manually  -9.383343795620455 \n",
    "\n",
    "----\n",
    "\n",
    "- Value of m calculated by sklearn  2.1668005\n",
    "- Value of b calculated by sklearn -9.3852982"
   ]
  },
  {
   "cell_type": "code",
   "execution_count": 26,
   "id": "5671ae75",
   "metadata": {},
   "outputs": [],
   "source": [
    "test_input = np.array([7.93, 7.85, 6.23, 6.93, 6.72, 7.38, 8.69, 7.73, 8.05, 6.71, 7.59, 8.33, 9.03, 8.38, 8.22, 6.89, 9.44, 9.41, 6.56, 8.42, 8.47, 7.32, 7.77, 9.50, 7.05])\n",
    "test_output = np.array([8.34, 7.22, 14.87, 11.80, 11.10, 6.05, 8.83, 5.52, 12.95, 11.85, 8.13, 8.23, 9.17, 5.85, 10.67, 7.73, 5.87, 8.90, 10.58, 8.21, 7.90, 7.27, 9.67, 5.24, 11.37])"
   ]
  },
  {
   "cell_type": "code",
   "execution_count": 27,
   "id": "1b621898",
   "metadata": {},
   "outputs": [
    {
     "name": "stdout",
     "output_type": "stream",
     "text": [
      "25 25\n"
     ]
    }
   ],
   "source": [
    "print(len(test_input),len(test_output))"
   ]
  },
  {
   "cell_type": "code",
   "execution_count": 28,
   "id": "1fd137df",
   "metadata": {},
   "outputs": [
    {
     "data": {
      "text/plain": [
       "array([[7.79742974]])"
      ]
     },
     "execution_count": 28,
     "metadata": {},
     "output_type": "execute_result"
    }
   ],
   "source": [
    "lr.predict(test_input[0].reshape(-1,1))"
   ]
  },
  {
   "cell_type": "code",
   "execution_count": 29,
   "id": "2db19f67",
   "metadata": {},
   "outputs": [
    {
     "data": {
      "text/plain": [
       "8.34"
      ]
     },
     "execution_count": 29,
     "metadata": {},
     "output_type": "execute_result"
    }
   ],
   "source": [
    "test_output[0]"
   ]
  },
  {
   "cell_type": "code",
   "execution_count": 30,
   "id": "c8197c02",
   "metadata": {},
   "outputs": [],
   "source": [
    "y_output = m*test_input[0] + b"
   ]
  },
  {
   "cell_type": "code",
   "execution_count": 31,
   "id": "c0122385",
   "metadata": {},
   "outputs": [
    {
     "name": "stdout",
     "output_type": "stream",
     "text": [
      "7.797551094890505\n"
     ]
    }
   ],
   "source": [
    "print(y_output)"
   ]
  },
  {
   "cell_type": "code",
   "execution_count": 32,
   "id": "ffd09a24",
   "metadata": {},
   "outputs": [],
   "source": [
    "# Almost Same accuaracy"
   ]
  },
  {
   "cell_type": "code",
   "execution_count": 33,
   "id": "be521635",
   "metadata": {},
   "outputs": [],
   "source": [
    "import random"
   ]
  },
  {
   "cell_type": "code",
   "execution_count": 34,
   "id": "a812ad94",
   "metadata": {},
   "outputs": [],
   "source": [
    "from random import shuffle"
   ]
  },
  {
   "cell_type": "code",
   "execution_count": 35,
   "id": "b0330139",
   "metadata": {},
   "outputs": [
    {
     "data": {
      "text/plain": [
       "120"
      ]
     },
     "execution_count": 35,
     "metadata": {},
     "output_type": "execute_result"
    }
   ],
   "source": [
    "df.shape[0]"
   ]
  },
  {
   "cell_type": "code",
   "execution_count": 36,
   "id": "8b484546",
   "metadata": {},
   "outputs": [],
   "source": [
    "a = [i for i in range(df.shape[0])]"
   ]
  },
  {
   "cell_type": "code",
   "execution_count": 37,
   "id": "4ff24592",
   "metadata": {},
   "outputs": [],
   "source": [
    "random.shuffle(a)"
   ]
  },
  {
   "cell_type": "code",
   "execution_count": 38,
   "id": "aa0feaf9",
   "metadata": {},
   "outputs": [
    {
     "data": {
      "text/html": [
       "<div>\n",
       "<style scoped>\n",
       "    .dataframe tbody tr th:only-of-type {\n",
       "        vertical-align: middle;\n",
       "    }\n",
       "\n",
       "    .dataframe tbody tr th {\n",
       "        vertical-align: top;\n",
       "    }\n",
       "\n",
       "    .dataframe thead th {\n",
       "        text-align: right;\n",
       "    }\n",
       "</style>\n",
       "<table border=\"1\" class=\"dataframe\">\n",
       "  <thead>\n",
       "    <tr style=\"text-align: right;\">\n",
       "      <th></th>\n",
       "      <th>CGPA</th>\n",
       "    </tr>\n",
       "  </thead>\n",
       "  <tbody>\n",
       "    <tr>\n",
       "      <th>78</th>\n",
       "      <td>7.5</td>\n",
       "    </tr>\n",
       "    <tr>\n",
       "      <th>8</th>\n",
       "      <td>8.4</td>\n",
       "    </tr>\n",
       "    <tr>\n",
       "      <th>28</th>\n",
       "      <td>8.4</td>\n",
       "    </tr>\n",
       "    <tr>\n",
       "      <th>83</th>\n",
       "      <td>8.3</td>\n",
       "    </tr>\n",
       "    <tr>\n",
       "      <th>29</th>\n",
       "      <td>8.8</td>\n",
       "    </tr>\n",
       "    <tr>\n",
       "      <th>91</th>\n",
       "      <td>7.6</td>\n",
       "    </tr>\n",
       "    <tr>\n",
       "      <th>0</th>\n",
       "      <td>8.5</td>\n",
       "    </tr>\n",
       "    <tr>\n",
       "      <th>2</th>\n",
       "      <td>7.9</td>\n",
       "    </tr>\n",
       "    <tr>\n",
       "      <th>68</th>\n",
       "      <td>8.4</td>\n",
       "    </tr>\n",
       "    <tr>\n",
       "      <th>67</th>\n",
       "      <td>9.0</td>\n",
       "    </tr>\n",
       "  </tbody>\n",
       "</table>\n",
       "</div>"
      ],
      "text/plain": [
       "    CGPA\n",
       "78   7.5\n",
       "8    8.4\n",
       "28   8.4\n",
       "83   8.3\n",
       "29   8.8\n",
       "91   7.6\n",
       "0    8.5\n",
       "2    7.9\n",
       "68   8.4\n",
       "67   9.0"
      ]
     },
     "execution_count": 38,
     "metadata": {},
     "output_type": "execute_result"
    }
   ],
   "source": [
    "df.iloc[a[0:10],:1]"
   ]
  },
  {
   "cell_type": "markdown",
   "id": "987ff807",
   "metadata": {},
   "source": [
    "# ________________________________________________________________"
   ]
  },
  {
   "cell_type": "markdown",
   "id": "b7017f89",
   "metadata": {},
   "source": [
    "## Creating Our Own Regression Class"
   ]
  },
  {
   "cell_type": "code",
   "execution_count": 39,
   "id": "c7ac42d8",
   "metadata": {},
   "outputs": [],
   "source": [
    "class SLR:   #Simple Linear Regression\n",
    "    def __init__(self):\n",
    "        self.m = 0\n",
    "        self.b = 0\n",
    "        self.params = None\n",
    "        self.predicted_output = None\n",
    "        self.train = None\n",
    "        self.test = None\n",
    "        \n",
    "    \n",
    "    def fit(self,dataset):\n",
    "        ## The Model is designed such that it takes a dataframe as input containg only 2 Columns input & output\n",
    "        \n",
    "        #train test split using random shuffle\n",
    "        \n",
    "        elem = [i for i in range(dataset.shape[0])]\n",
    "        random.shuffle(elem)\n",
    "        train_size = (dataset.shape[0]*8)//10\n",
    "        test_size = dataset.shape[0]-train_size\n",
    "        self.train = dataset.iloc[elem[0:train_size]]\n",
    "        self.test = dataset.iloc[elem[train_size:]]\n",
    "        params = [] # Params is a list which will contain the value of m & b respectively\n",
    "        output_train = [dataset.iloc[elem[0:90],1:].values][0]\n",
    "        input_train = [dataset.iloc[elem[90:],:1].values][0]\n",
    "        \n",
    "        output_mean = 0\n",
    "        input_mean = 0\n",
    "        \n",
    "        for  i in range(len(output)):\n",
    "            output_mean = output_mean + output[i]\n",
    "        output_mean = output_mean / len(output)\n",
    "                \n",
    "        for  i in input_:\n",
    "            input_mean += i\n",
    "        input_mean = input_mean/len(input_)\n",
    "        \n",
    "        y_error = []\n",
    "        x_error = []\n",
    "        \n",
    "        for i in range(len(output)):\n",
    "            y_error.append(np.round((output[i]-output_mean),2))\n",
    "            x_error.append(np.round((input_[i]-input_mean),2))\n",
    "        cov_xy = 0\n",
    "        var_x = 0\n",
    "        \n",
    "        for i in range(len(y_error)):\n",
    "            cov_xy +=  y_error[i]*x_error[i]\n",
    "            var_x += x_error[i]*x_error[i]\n",
    "        self.m = cov_xy/var_x\n",
    "        self.b = output_mean - self.m*input_mean\n",
    "        params.append(self.m)\n",
    "        params.append(self.b)\n",
    "        self.params = params\n",
    "               \n",
    "    def predict(self,test_input):\n",
    "        output_predicted = []\n",
    "        for i in range(len(test_input)):\n",
    "            output_predicted.append(round((m*test_input[i] + b)[0],2))\n",
    "        \n",
    "        self.predicted_output = output_predicted\n",
    "        return output_predicted\n",
    "    \n",
    "    def MSE(self,actul_input,input_predicted):\n",
    "        self.MSE = 0\n",
    "        for i in range(len(actul_input)):\n",
    "            self.MSE += (actul_input[i]-input_predicted[i])**2\n",
    "        self.MSE = self.MSE / len(actul_input)\n",
    "        return self.MSE\n",
    "        \n",
    "        "
   ]
  },
  {
   "cell_type": "code",
   "execution_count": 40,
   "id": "f1f06243",
   "metadata": {},
   "outputs": [],
   "source": [
    "a1 = SLR()"
   ]
  },
  {
   "cell_type": "code",
   "execution_count": 41,
   "id": "4f16dffd",
   "metadata": {},
   "outputs": [],
   "source": [
    "a1.fit(df)"
   ]
  },
  {
   "cell_type": "code",
   "execution_count": 42,
   "id": "1cd9d448",
   "metadata": {},
   "outputs": [
    {
     "name": "stdout",
     "output_type": "stream",
     "text": [
      "Intercept Computed By Our Model:  -9.38334\n",
      "Intercept Computed By Sklearn Model:  -9.3853\n",
      "\n",
      "\n",
      "Slope Computed by our Model:  2.16657\n",
      "Slope COmputed by Sklearn Model:  2.1668\n"
     ]
    }
   ],
   "source": [
    "print(\"Intercept Computed By Our Model: \",round(a1.params[1],5))\n",
    "print(\"Intercept Computed By Sklearn Model: \",round(lr.intercept_[0],5))\n",
    "print('\\n')\n",
    "print(\"Slope Computed by our Model: \",round(a1.params[0],5))\n",
    "print(\"Slope COmputed by Sklearn Model: \",round(lr.coef_[0][0],5))"
   ]
  },
  {
   "cell_type": "code",
   "execution_count": 43,
   "id": "919ae7e7",
   "metadata": {},
   "outputs": [],
   "source": [
    "test_data = a1.test"
   ]
  },
  {
   "cell_type": "code",
   "execution_count": 44,
   "id": "3e04dd11",
   "metadata": {},
   "outputs": [
    {
     "data": {
      "text/html": [
       "<div>\n",
       "<style scoped>\n",
       "    .dataframe tbody tr th:only-of-type {\n",
       "        vertical-align: middle;\n",
       "    }\n",
       "\n",
       "    .dataframe tbody tr th {\n",
       "        vertical-align: top;\n",
       "    }\n",
       "\n",
       "    .dataframe thead th {\n",
       "        text-align: right;\n",
       "    }\n",
       "</style>\n",
       "<table border=\"1\" class=\"dataframe\">\n",
       "  <thead>\n",
       "    <tr style=\"text-align: right;\">\n",
       "      <th></th>\n",
       "      <th>CGPA</th>\n",
       "      <th>LPA</th>\n",
       "    </tr>\n",
       "  </thead>\n",
       "  <tbody>\n",
       "    <tr>\n",
       "      <th>8</th>\n",
       "      <td>8.4</td>\n",
       "      <td>8.8</td>\n",
       "    </tr>\n",
       "    <tr>\n",
       "      <th>13</th>\n",
       "      <td>9.1</td>\n",
       "      <td>10.2</td>\n",
       "    </tr>\n",
       "    <tr>\n",
       "      <th>96</th>\n",
       "      <td>8.9</td>\n",
       "      <td>9.8</td>\n",
       "    </tr>\n",
       "    <tr>\n",
       "      <th>89</th>\n",
       "      <td>8.8</td>\n",
       "      <td>9.6</td>\n",
       "    </tr>\n",
       "    <tr>\n",
       "      <th>81</th>\n",
       "      <td>8.1</td>\n",
       "      <td>8.7</td>\n",
       "    </tr>\n",
       "    <tr>\n",
       "      <th>100</th>\n",
       "      <td>8.5</td>\n",
       "      <td>9.2</td>\n",
       "    </tr>\n",
       "    <tr>\n",
       "      <th>88</th>\n",
       "      <td>8.4</td>\n",
       "      <td>8.8</td>\n",
       "    </tr>\n",
       "    <tr>\n",
       "      <th>117</th>\n",
       "      <td>9.3</td>\n",
       "      <td>10.8</td>\n",
       "    </tr>\n",
       "    <tr>\n",
       "      <th>92</th>\n",
       "      <td>8.2</td>\n",
       "      <td>8.4</td>\n",
       "    </tr>\n",
       "    <tr>\n",
       "      <th>47</th>\n",
       "      <td>9.0</td>\n",
       "      <td>10.0</td>\n",
       "    </tr>\n",
       "    <tr>\n",
       "      <th>23</th>\n",
       "      <td>8.3</td>\n",
       "      <td>8.9</td>\n",
       "    </tr>\n",
       "    <tr>\n",
       "      <th>34</th>\n",
       "      <td>8.6</td>\n",
       "      <td>9.3</td>\n",
       "    </tr>\n",
       "    <tr>\n",
       "      <th>97</th>\n",
       "      <td>9.3</td>\n",
       "      <td>10.8</td>\n",
       "    </tr>\n",
       "    <tr>\n",
       "      <th>113</th>\n",
       "      <td>9.1</td>\n",
       "      <td>10.2</td>\n",
       "    </tr>\n",
       "    <tr>\n",
       "      <th>16</th>\n",
       "      <td>8.9</td>\n",
       "      <td>9.8</td>\n",
       "    </tr>\n",
       "    <tr>\n",
       "      <th>3</th>\n",
       "      <td>8.3</td>\n",
       "      <td>8.9</td>\n",
       "    </tr>\n",
       "    <tr>\n",
       "      <th>106</th>\n",
       "      <td>8.7</td>\n",
       "      <td>9.5</td>\n",
       "    </tr>\n",
       "    <tr>\n",
       "      <th>24</th>\n",
       "      <td>9.2</td>\n",
       "      <td>10.5</td>\n",
       "    </tr>\n",
       "    <tr>\n",
       "      <th>20</th>\n",
       "      <td>8.5</td>\n",
       "      <td>9.2</td>\n",
       "    </tr>\n",
       "    <tr>\n",
       "      <th>14</th>\n",
       "      <td>8.6</td>\n",
       "      <td>9.3</td>\n",
       "    </tr>\n",
       "    <tr>\n",
       "      <th>5</th>\n",
       "      <td>7.8</td>\n",
       "      <td>7.2</td>\n",
       "    </tr>\n",
       "    <tr>\n",
       "      <th>80</th>\n",
       "      <td>8.5</td>\n",
       "      <td>9.2</td>\n",
       "    </tr>\n",
       "    <tr>\n",
       "      <th>87</th>\n",
       "      <td>9.0</td>\n",
       "      <td>10.0</td>\n",
       "    </tr>\n",
       "    <tr>\n",
       "      <th>108</th>\n",
       "      <td>8.4</td>\n",
       "      <td>8.8</td>\n",
       "    </tr>\n",
       "  </tbody>\n",
       "</table>\n",
       "</div>"
      ],
      "text/plain": [
       "     CGPA   LPA\n",
       "8     8.4   8.8\n",
       "13    9.1  10.2\n",
       "96    8.9   9.8\n",
       "89    8.8   9.6\n",
       "81    8.1   8.7\n",
       "100   8.5   9.2\n",
       "88    8.4   8.8\n",
       "117   9.3  10.8\n",
       "92    8.2   8.4\n",
       "47    9.0  10.0\n",
       "23    8.3   8.9\n",
       "34    8.6   9.3\n",
       "97    9.3  10.8\n",
       "113   9.1  10.2\n",
       "16    8.9   9.8\n",
       "3     8.3   8.9\n",
       "106   8.7   9.5\n",
       "24    9.2  10.5\n",
       "20    8.5   9.2\n",
       "14    8.6   9.3\n",
       "5     7.8   7.2\n",
       "80    8.5   9.2\n",
       "87    9.0  10.0\n",
       "108   8.4   8.8"
      ]
     },
     "execution_count": 44,
     "metadata": {},
     "output_type": "execute_result"
    }
   ],
   "source": [
    "test_data"
   ]
  },
  {
   "cell_type": "code",
   "execution_count": 45,
   "id": "ab9d011b",
   "metadata": {},
   "outputs": [],
   "source": [
    "training_data = a1.train"
   ]
  },
  {
   "cell_type": "code",
   "execution_count": 46,
   "id": "56b09a78",
   "metadata": {},
   "outputs": [],
   "source": [
    "predictions = a1.predict(training_data.CGPA.values.reshape(-1,1))"
   ]
  },
  {
   "cell_type": "code",
   "execution_count": 47,
   "id": "74fa39ea",
   "metadata": {},
   "outputs": [],
   "source": [
    "actul_values = training_data.LPA.values"
   ]
  },
  {
   "cell_type": "code",
   "execution_count": 48,
   "id": "d1890954",
   "metadata": {},
   "outputs": [
    {
     "data": {
      "text/plain": [
       "0.031191666666666656"
      ]
     },
     "execution_count": 48,
     "metadata": {},
     "output_type": "execute_result"
    }
   ],
   "source": [
    "a1.MSE(actul_input=actul_values,input_predicted=predictions)"
   ]
  },
  {
   "cell_type": "code",
   "execution_count": 49,
   "id": "fda00702",
   "metadata": {},
   "outputs": [],
   "source": [
    "from sklearn.metrics import mean_absolute_error,mean_squared_error"
   ]
  },
  {
   "cell_type": "code",
   "execution_count": 50,
   "id": "829cf481",
   "metadata": {},
   "outputs": [
    {
     "data": {
      "text/plain": [
       "0.031191666666666645"
      ]
     },
     "execution_count": 50,
     "metadata": {},
     "output_type": "execute_result"
    }
   ],
   "source": [
    "mean_squared_error(actul_values,predictions)"
   ]
  },
  {
   "cell_type": "code",
   "execution_count": null,
   "id": "70877eaf",
   "metadata": {},
   "outputs": [],
   "source": []
  }
 ],
 "metadata": {
  "kernelspec": {
   "display_name": "Python 3 (ipykernel)",
   "language": "python",
   "name": "python3"
  },
  "language_info": {
   "codemirror_mode": {
    "name": "ipython",
    "version": 3
   },
   "file_extension": ".py",
   "mimetype": "text/x-python",
   "name": "python",
   "nbconvert_exporter": "python",
   "pygments_lexer": "ipython3",
   "version": "3.11.5"
  }
 },
 "nbformat": 4,
 "nbformat_minor": 5
}
