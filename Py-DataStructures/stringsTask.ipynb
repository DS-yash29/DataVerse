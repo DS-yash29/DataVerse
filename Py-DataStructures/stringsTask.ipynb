{
  "nbformat": 4,
  "nbformat_minor": 0,
  "metadata": {
    "colab": {
      "provenance": []
    },
    "kernelspec": {
      "name": "python3",
      "display_name": "Python 3"
    },
    "language_info": {
      "name": "python"
    }
  },
  "cells": [
    {
      "cell_type": "markdown",
      "source": [
        "### **Problem 11:** Create Short Form from initial character\n",
        "Given a string create short form ofthe string from Initial character. Short form should be capitalised.\n",
        "\n",
        "Example:\n",
        "\n",
        "`Input:`\n",
        "```\n",
        "Data science mentorship program\n",
        "```\n",
        "\n",
        "`Output:`\n",
        "```\n",
        "DSMP\n",
        "```"
      ],
      "metadata": {
        "id": "gY90o_oXKaZK"
      }
    },
    {
      "cell_type": "code",
      "source": [
        "s = str(input(\"Enter The String: \"))\n",
        "res = ''\n",
        "for i in s.split():\n",
        "  res += i[0].capitalize()\n",
        "print(res)"
      ],
      "metadata": {
        "id": "5rUZx7bILBzW",
        "outputId": "f4fded14-153a-41a6-d250-ac565219b340",
        "colab": {
          "base_uri": "https://localhost:8080/"
        }
      },
      "execution_count": 3,
      "outputs": [
        {
          "output_type": "stream",
          "name": "stdout",
          "text": [
            "Enter The StringData Science Mentorship Program\n",
            "DSMP\n"
          ]
        }
      ]
    },
    {
      "cell_type": "markdown",
      "source": [
        "###`Problem 12`: Append second string in the middle of first string\n",
        "\n",
        "`Input:`\n",
        "```\n",
        "campusx\n",
        "data\n",
        "```\n",
        "`Output`:\n",
        "\n",
        "```\n",
        "camdatapusx\n",
        "```"
      ],
      "metadata": {
        "id": "L8qKJ5xrLDat"
      }
    },
    {
      "cell_type": "code",
      "source": [
        "s = \"campusx\"\n",
        "s_ = \"data\"\n",
        "r = s[:int(len(s)/2)]\n",
        "r += s_\n",
        "r += s[int(len(s)/2):]\n",
        "print(r)\n"
      ],
      "metadata": {
        "id": "PIiCBJiYLINe",
        "outputId": "8ba5587c-0e85-4080-fb95-caed90e617f6",
        "colab": {
          "base_uri": "https://localhost:8080/"
        }
      },
      "execution_count": 15,
      "outputs": [
        {
          "output_type": "stream",
          "name": "stdout",
          "text": [
            "camdatapusx\n"
          ]
        }
      ]
    },
    {
      "cell_type": "markdown",
      "source": [
        "### ``Problem 13``:Given string contains a combination of the lower and upper case letters. Write a program to arrange the characters of a string so that all lowercase letters should come first.\n",
        "\n",
        "Given:\n",
        "\n",
        "`str1 = PyNaTive`\n",
        "\n",
        "Expected Output:\n",
        "\n",
        "`yaivePNT`"
      ],
      "metadata": {
        "id": "2aIi3ctTLJ-H"
      }
    },
    {
      "cell_type": "code",
      "source": [
        "str1 = \"PyNaTive\"\n",
        "r = \"\"\n",
        "for i in str1:\n",
        "  if(i.islower()):\n",
        "    r += i\n",
        "\n",
        "for i in str1:\n",
        "  if(i.isupper()):\n",
        "    r += i\n",
        "print(r)\n"
      ],
      "metadata": {
        "id": "-vV7FQUoLJNe",
        "outputId": "6cd669dc-f26b-48c6-846f-3e14722de013",
        "colab": {
          "base_uri": "https://localhost:8080/"
        }
      },
      "execution_count": 26,
      "outputs": [
        {
          "output_type": "stream",
          "name": "stdout",
          "text": [
            "yaivePNT\n"
          ]
        }
      ]
    },
    {
      "cell_type": "markdown",
      "source": [
        "### `Problem 14:`Take a alphanumeric string input and print the sum and average of the digits that appear in the string, ignoring all other characters.\n",
        "\n",
        "Input:\n",
        "\n",
        "`hel123O4every093`\n",
        "\n",
        "Output:\n",
        "\n",
        "```\n",
        "Sum: 22\n",
        "Avg: 2.75\n",
        "```"
      ],
      "metadata": {
        "id": "c5DhfvOOLQeI"
      }
    },
    {
      "cell_type": "code",
      "source": [
        "x = str(input(\"Enter The String: \"))\n",
        "sum = 0\n",
        "cnt = 0\n",
        "for i in x:\n",
        "  if(i.isnumeric()):\n",
        "    sum += int(i)\n",
        "    cnt += 1\n",
        "print(\"Sum:\",sum)\n",
        "print(\"Avg:\",sum/cnt)"
      ],
      "metadata": {
        "id": "cz69k9OELVa_",
        "outputId": "b98938d2-a8c0-4357-9943-a5d08b607442",
        "colab": {
          "base_uri": "https://localhost:8080/"
        }
      },
      "execution_count": 30,
      "outputs": [
        {
          "output_type": "stream",
          "name": "stdout",
          "text": [
            "Enter The String: hel123O4every093\n",
            "Sum: 22\n",
            "Avg: 3.142857142857143\n"
          ]
        }
      ]
    },
    {
      "cell_type": "markdown",
      "source": [
        "### `Problem 15:` Removal of all characters from a string except integers\n",
        "`Given:`\n",
        "\n",
        "```\n",
        "str1 = 'I am 25 years and 10 months old'\n",
        "```\n",
        "`Expected Output:`\n",
        "```\n",
        "2510\n",
        "```"
      ],
      "metadata": {
        "id": "hBnCuMkJLZjk"
      }
    },
    {
      "cell_type": "code",
      "source": [
        "s = \"\"\n",
        "st = str(input(\"Enter The String\"))\n",
        "for i in st:\n",
        "  if(i.isnumeric()):\n",
        "    s += i\n",
        "print(s)"
      ],
      "metadata": {
        "id": "-N1Kksv8La7u",
        "outputId": "6d19b179-316c-4cdc-9630-9748141ee1a1",
        "colab": {
          "base_uri": "https://localhost:8080/"
        }
      },
      "execution_count": 33,
      "outputs": [
        {
          "output_type": "stream",
          "name": "stdout",
          "text": [
            "Enter The String'I am 25 years and 10 months old'\n",
            "2510\n"
          ]
        }
      ]
    },
    {
      "cell_type": "markdown",
      "source": [
        "### `Problem 16`: Check whether the string is Symmetrical.\n",
        "\n",
        "**Statement:** Given a string. the task is to check if the string is symmetrical or not. A string is said to be symmetrical if both the halves of the string are the same.\n",
        "\n",
        "**Example 1:**\n",
        "\n",
        "`Input`\n",
        "\n",
        "```bash\n",
        "khokho\n",
        "```\n",
        "\n",
        "`Output`\n",
        "\n",
        "```bash\n",
        "The entered string is symmetrical\n",
        "```"
      ],
      "metadata": {
        "id": "MRzwngmkLhgb"
      }
    },
    {
      "cell_type": "code",
      "source": [
        "st = str(input(\"Enter The String: \"))\n",
        "r = \"\"\n",
        "s= \"\"\n",
        "for i in range(int(len(st)/2)):\n",
        "  r += st[i]\n",
        "for i in range(int(len(st)/2),len(st)):\n",
        "  s += st[i]\n",
        "if(r == s):\n",
        "  print(\"Symetrical\")"
      ],
      "metadata": {
        "id": "__M2HSNSLsG2",
        "outputId": "c513a2c5-1c54-4b9f-ac42-f86d46bf49da",
        "colab": {
          "base_uri": "https://localhost:8080/"
        }
      },
      "execution_count": 50,
      "outputs": [
        {
          "output_type": "stream",
          "name": "stdout",
          "text": [
            "Enter The String: khokho\n",
            "Symetrical\n"
          ]
        }
      ]
    },
    {
      "cell_type": "markdown",
      "source": [
        "### `Problem 17`: Reverse words in a given String\n",
        "\n",
        "**Statement:** We are given a string and we need to reverse words of a given string.\n",
        "\n",
        "**Example 1:**\n",
        "\n",
        "`Input:`\n",
        "\n",
        "```bash\n",
        "geeks quiz practice code\n",
        "```\n",
        "\n",
        "`Output:`\n",
        "\n",
        "```bash\n",
        "code practice quiz geeks\n",
        "```\n",
        "\n",
        "**Example 2:**\n",
        "\n",
        "`Input:`\n",
        "\n",
        "```bash\n",
        "my name is laxmi\n",
        "```\n",
        "\n",
        "`Output:`\n",
        "\n",
        "```bash\n",
        "laxmi is name my\n",
        "```"
      ],
      "metadata": {
        "id": "OqjigUPXLub0"
      }
    },
    {
      "cell_type": "code",
      "source": [
        "st = str(input(\"Enter The String: \"))\n",
        "x = st.split()\n",
        "r = \"\"\n",
        "for i in range(len(x)-1,-1,-1):\n",
        "  r += x[i] + \" \"\n",
        "print(r)\n"
      ],
      "metadata": {
        "id": "H3zHq-l_L1Vy",
        "outputId": "2787f6b7-864f-424c-b2d7-17b06810bce7",
        "colab": {
          "base_uri": "https://localhost:8080/"
        }
      },
      "execution_count": 54,
      "outputs": [
        {
          "output_type": "stream",
          "name": "stdout",
          "text": [
            "Enter The String: geeks quiz practice code\n",
            "code practice quiz geeks \n"
          ]
        }
      ]
    },
    {
      "cell_type": "markdown",
      "source": [
        "### `Problem 19`: Word location in String.\n",
        "\n",
        "**Statement:** Find a location of a word in a given sentence.\n",
        "\n",
        "**Example 1:**\n",
        "\n",
        "`Input:`\n",
        "\n",
        "```bash\n",
        "Sentence: We can learn data science through campusx mentorship program.\n",
        "\n",
        "word: campusx\n",
        "```\n",
        "\n",
        "`Output:`\n",
        "\n",
        "```bash\n",
        "Location of the word is 7.\n",
        "```\n",
        "\n",
        "Note- Don't use index/find functions"
      ],
      "metadata": {
        "id": "AkGYE68cMGXh"
      }
    },
    {
      "cell_type": "code",
      "source": [
        "word = str(input(\"Enter The Key: \"))\n",
        "st = str(input(\"Enter The String: \"))\n",
        "f = False\n",
        "for i in range(len(st.split())):\n",
        "    if(st.split()[i] == word):\n",
        "      print(\"Location of the word is\",i)\n",
        "      f = True\n",
        "      break\n",
        "if(f==False):\n",
        "  print(\"Not Present\")\n"
      ],
      "metadata": {
        "id": "tpgkz1rIMQP2",
        "outputId": "44d7dcc8-37c8-44f2-b0d5-781fd062dded",
        "colab": {
          "base_uri": "https://localhost:8080/"
        }
      },
      "execution_count": 78,
      "outputs": [
        {
          "output_type": "stream",
          "name": "stdout",
          "text": [
            "Enter The Key: Yash\n",
            "Enter The String: Mera Naam Yash Hai Babua\n",
            "Location of the word is 2\n"
          ]
        }
      ]
    }
  ]
}