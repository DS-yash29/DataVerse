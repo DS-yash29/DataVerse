{
 "cells": [
  {
   "cell_type": "markdown",
   "id": "969fea62",
   "metadata": {},
   "source": [
    "# Python Lists : \n",
    "\n",
    "### List in python is a collection of elements.\n",
    "### Python Lists are similar to arrays in c++ / Java. But differ in 2 ways\n",
    "1. Dynamic in size -> Size can be manipulated at runtime\n",
    "2. Referential -> can contain elements of different types\n",
    "\n",
    "### Subtopics covered in this notebook are \n",
    "- List Creation & Access\n",
    "- List Indexing / Slicing\n",
    "- List Mutability Nature / Editing / Deleting\n",
    "- Operations in List \n",
    "- List Functions"
   ]
  },
  {
   "cell_type": "markdown",
   "id": "0f68b16f",
   "metadata": {},
   "source": [
    "#### ___________________________________________________________________________________________________________________"
   ]
  },
  {
   "cell_type": "markdown",
   "id": "f6d12890",
   "metadata": {},
   "source": [
    "#### Creating & Accessing List\n"
   ]
  },
  {
   "cell_type": "code",
   "execution_count": 16,
   "id": "27da43a4",
   "metadata": {},
   "outputs": [
    {
     "name": "stdout",
     "output_type": "stream",
     "text": [
      "[1, 2, 3, 4, 5]\n",
      "<class 'list'>\n"
     ]
    }
   ],
   "source": [
    "# 1-D List\n",
    "l1 = [1,2,3,4,5]\n",
    "print(l1,type(l1),sep='\\n')"
   ]
  },
  {
   "cell_type": "code",
   "execution_count": 17,
   "id": "5f03dae6",
   "metadata": {},
   "outputs": [
    {
     "name": "stdout",
     "output_type": "stream",
     "text": [
      "[[1, 2, 3], [4, 5, 6]]\n",
      "<class 'list'>\n"
     ]
    }
   ],
   "source": [
    "# 2-D List\n",
    "l2 = [[1,2,3],[4,5,6]]\n",
    "print(l2,type(l2),sep='\\n')"
   ]
  },
  {
   "cell_type": "code",
   "execution_count": 18,
   "id": "0200b03f",
   "metadata": {},
   "outputs": [
    {
     "name": "stdout",
     "output_type": "stream",
     "text": [
      "['1', '2', '3', '4', '5']\n"
     ]
    }
   ],
   "source": [
    "print(list('12345'))"
   ]
  },
  {
   "cell_type": "code",
   "execution_count": 19,
   "id": "61d3343a",
   "metadata": {},
   "outputs": [],
   "source": [
    "# Hetrogenous List\n",
    "l3 = [1,'Bonjour',23.7,True,[1,2,3]]"
   ]
  },
  {
   "cell_type": "code",
   "execution_count": 20,
   "id": "d4a9860b",
   "metadata": {},
   "outputs": [
    {
     "name": "stdout",
     "output_type": "stream",
     "text": [
      "[1, 'Bonjour', 23.7, True, [1, 2, 3]]\n",
      "<class 'list'>\n"
     ]
    }
   ],
   "source": [
    "print(l3,type(l3),sep='\\n')"
   ]
  },
  {
   "cell_type": "code",
   "execution_count": 21,
   "id": "a1369a9e",
   "metadata": {},
   "outputs": [
    {
     "name": "stdout",
     "output_type": "stream",
     "text": [
      "1 <class 'int'>\n",
      "Bonjour <class 'str'>\n",
      "23.7 <class 'float'>\n",
      "True <class 'bool'>\n",
      "[1, 2, 3] <class 'list'>\n"
     ]
    }
   ],
   "source": [
    "for i in l3:\n",
    "    print(i,type(i),sep=' ',end='\\n')"
   ]
  },
  {
   "cell_type": "markdown",
   "id": "a66c4bbe",
   "metadata": {},
   "source": [
    "#### ___________________________________________________________________________________________________________________"
   ]
  },
  {
   "cell_type": "markdown",
   "id": "62ca3a5a",
   "metadata": {},
   "source": [
    "#### Indexing & Slicing"
   ]
  },
  {
   "cell_type": "code",
   "execution_count": 22,
   "id": "3c14b8e3",
   "metadata": {},
   "outputs": [
    {
     "name": "stdout",
     "output_type": "stream",
     "text": [
      "1\n",
      "[4, 5, 6]\n",
      "[1, 'Bonjour', 23.7, True, [1, 2, 3]]\n",
      "[1, 23.7, [1, 2, 3]]\n",
      "[5, 4, 3, 2, 1]\n",
      "[4, 3, 2, 1]\n"
     ]
    }
   ],
   "source": [
    "print(l1[0]) #Indexing\n",
    "print(l2[-1]) #NEgative Indexing\n",
    "print(l3[0:5]) #positive slicing\n",
    "print(l3[0:5:2]) # Positive slicing via skipping\n",
    "print(l1[::-1]) # Reversing List Elements\n",
    "print(l1[3::-1])"
   ]
  },
  {
   "cell_type": "markdown",
   "id": "db9ce0fe",
   "metadata": {},
   "source": [
    "#### ___________________________________________________________________________________________________________________"
   ]
  },
  {
   "cell_type": "markdown",
   "id": "857abf68",
   "metadata": {},
   "source": [
    "#### Mutability Nature\n",
    "- Editing List\n",
    "- Deleting List / Part of a List"
   ]
  },
  {
   "cell_type": "code",
   "execution_count": 23,
   "id": "b46ee2b1",
   "metadata": {},
   "outputs": [
    {
     "name": "stdout",
     "output_type": "stream",
     "text": [
      "[1, 2, 3, 'Changed', 5]\n"
     ]
    }
   ],
   "source": [
    "l1[3] = \"Changed\"\n",
    "print(l1)"
   ]
  },
  {
   "cell_type": "code",
   "execution_count": 24,
   "id": "1ee331f2",
   "metadata": {},
   "outputs": [],
   "source": [
    "del l1[0]"
   ]
  },
  {
   "cell_type": "code",
   "execution_count": 25,
   "id": "b9d29e5c",
   "metadata": {},
   "outputs": [
    {
     "name": "stdout",
     "output_type": "stream",
     "text": [
      "[2, 3, 'Changed', 5]\n"
     ]
    }
   ],
   "source": [
    "print(l1)"
   ]
  },
  {
   "cell_type": "code",
   "execution_count": 26,
   "id": "9a911a90",
   "metadata": {},
   "outputs": [
    {
     "name": "stdout",
     "output_type": "stream",
     "text": [
      "[[1, 2, 3]]\n"
     ]
    }
   ],
   "source": [
    "del l2[1]\n",
    "print(l2)"
   ]
  },
  {
   "cell_type": "code",
   "execution_count": 27,
   "id": "54199fbf",
   "metadata": {},
   "outputs": [
    {
     "name": "stdout",
     "output_type": "stream",
     "text": [
      "[[1, 2]]\n"
     ]
    }
   ],
   "source": [
    "del l2[0][2]\n",
    "print(l2)"
   ]
  },
  {
   "cell_type": "code",
   "execution_count": 28,
   "id": "068e543e",
   "metadata": {},
   "outputs": [
    {
     "ename": "NameError",
     "evalue": "name 'l3' is not defined",
     "output_type": "error",
     "traceback": [
      "\u001b[1;31m---------------------------------------------------------------------------\u001b[0m",
      "\u001b[1;31mNameError\u001b[0m                                 Traceback (most recent call last)",
      "Cell \u001b[1;32mIn[28], line 2\u001b[0m\n\u001b[0;32m      1\u001b[0m \u001b[38;5;28;01mdel\u001b[39;00m l3\n\u001b[1;32m----> 2\u001b[0m \u001b[38;5;28mprint\u001b[39m(l3)\n",
      "\u001b[1;31mNameError\u001b[0m: name 'l3' is not defined"
     ]
    }
   ],
   "source": [
    "del l3\n",
    "print(l3)"
   ]
  },
  {
   "cell_type": "code",
   "execution_count": 29,
   "id": "34461158",
   "metadata": {},
   "outputs": [],
   "source": [
    "l3 = [1,23.5,\"Bonjour\",True,[1,2,3,4]]\n"
   ]
  },
  {
   "cell_type": "code",
   "execution_count": 30,
   "id": "99f6806a",
   "metadata": {},
   "outputs": [
    {
     "name": "stdout",
     "output_type": "stream",
     "text": [
      "[1, 23.5, 'Bonjour', True, [1, 2, 3, 4]]\n",
      "[1, 'Bonjour', True, [1, 2, 3, 4]]\n",
      "[1, 'Bonjour', True]\n",
      "[]\n"
     ]
    }
   ],
   "source": [
    "# Manipulating Functions\n",
    "print(l3)\n",
    "l3.remove(23.5) # Removes the specified element from the list\n",
    "print(l3)\n",
    "l3.pop() # removes the lst element from the list\n",
    "print(l3)\n",
    "l3.clear() # Clears all the elements from the list\n",
    "print(l3)"
   ]
  },
  {
   "cell_type": "code",
   "execution_count": null,
   "id": "a3e39430",
   "metadata": {},
   "outputs": [],
   "source": []
  },
  {
   "cell_type": "code",
   "execution_count": null,
   "id": "857a52c6",
   "metadata": {},
   "outputs": [],
   "source": []
  },
  {
   "cell_type": "markdown",
   "id": "100fc7d9",
   "metadata": {},
   "source": [
    "#### ___________________________________________________________________________________________________________________"
   ]
  },
  {
   "cell_type": "markdown",
   "id": "75d36e4e",
   "metadata": {},
   "source": [
    "#### Operations in Lists\n",
    "\n",
    "1. Arithmetic Operations\n",
    "2. Membership\n",
    "3. Loops"
   ]
  },
  {
   "cell_type": "code",
   "execution_count": 31,
   "id": "c2d84bd8",
   "metadata": {},
   "outputs": [
    {
     "data": {
      "text/plain": [
       "[1, 2, 3, 4, 5]"
      ]
     },
     "execution_count": 31,
     "metadata": {},
     "output_type": "execute_result"
    }
   ],
   "source": [
    "l1 = [1,2,3,4,5]\n",
    "l1"
   ]
  },
  {
   "cell_type": "code",
   "execution_count": 32,
   "id": "17c2aefc",
   "metadata": {},
   "outputs": [
    {
     "name": "stdout",
     "output_type": "stream",
     "text": [
      "1 2 3 4 5 \n",
      "\n",
      "1 2 3 4 5 "
     ]
    }
   ],
   "source": [
    "# Ways of traversing\n",
    "\n",
    "for i in l1: # Through traversing list\n",
    "    print(i,end=' ')\n",
    "print('\\n')\n",
    "for i in range(len(l1)): #through list length function\n",
    "    print(l1[i],end=' ')\n"
   ]
  },
  {
   "cell_type": "code",
   "execution_count": 33,
   "id": "53c52dc5",
   "metadata": {},
   "outputs": [
    {
     "name": "stdout",
     "output_type": "stream",
     "text": [
      "[1, 2, 3, 4, 5, 1, 2, 3, 4, 5, 1, 2, 3, 4, 5]\n"
     ]
    }
   ],
   "source": [
    "# Multiplication \n",
    "print(l1*3)"
   ]
  },
  {
   "cell_type": "code",
   "execution_count": 34,
   "id": "3581bb24",
   "metadata": {},
   "outputs": [
    {
     "data": {
      "text/plain": [
       "True"
      ]
     },
     "execution_count": 34,
     "metadata": {},
     "output_type": "execute_result"
    }
   ],
   "source": [
    "#Membersship\n",
    "3 in l1"
   ]
  },
  {
   "cell_type": "markdown",
   "id": "d2e4ca59",
   "metadata": {},
   "source": [
    "#### ___________________________________________________________________________________________________________________"
   ]
  },
  {
   "cell_type": "markdown",
   "id": "913225db",
   "metadata": {},
   "source": [
    "### **List Functions**\n",
    "\n",
    "#####  Basic Functions\n",
    "- len/min/max/sorted\n",
    "\n",
    "##### Manipulation Related Functions\n",
    "- Append/clear/pop/extend/sort/reverse\n"
   ]
  },
  {
   "cell_type": "code",
   "execution_count": 35,
   "id": "66ab0f9a",
   "metadata": {},
   "outputs": [
    {
     "name": "stdout",
     "output_type": "stream",
     "text": [
      "6\n",
      "-1\n",
      "5\n",
      "[1, 4, 3, 2, -1, 5]\n",
      "[-1, 1, 2, 3, 4, 5]\n",
      "[1, 4, 3, 2, -1, 5]\n",
      "[-1, 1, 2, 3, 4, 5]\n"
     ]
    }
   ],
   "source": [
    "l1 = [1,4,3,2,-1,5]\n",
    "print(len(l1))\n",
    "print(min(l1))\n",
    "print(max(l1))\n",
    "print(l1)\n",
    "print(sorted(l1))\n",
    "print(l1)\n",
    "l1.sort()\n",
    "print(l1)"
   ]
  },
  {
   "cell_type": "code",
   "execution_count": 36,
   "id": "96e54384",
   "metadata": {},
   "outputs": [
    {
     "name": "stdout",
     "output_type": "stream",
     "text": [
      "[-1, 1, 2, 3, 4, 5]\n",
      "[-1, 1, 2, 3, 4, 5, 6, 7, 8, 9, 10]\n",
      "[-1, 1, 2, 3, 4, 5, 6, 7]\n",
      "[-1, 1, 2, 3, 4, 5, 6, 7, [1, 2]]\n",
      "[-1, 1, 2, 3, 4, 5, 6, 7, [1, 2], [1, 2]]\n",
      "[-1, 1, 2, 3, 4, 5, 6, 7]\n",
      "[7, 6, 5, 4, 3, 2, 1, -1]\n"
     ]
    }
   ],
   "source": [
    "print(l1)\n",
    "for i in range(6,11):\n",
    "    l1.append(i)\n",
    "print(l1)\n",
    "for i in range(3):\n",
    "    l1.pop()\n",
    "print(l1)\n",
    "l1.extend(l2)\n",
    "print(l1)\n",
    "print(l1+l2)\n",
    "l1.pop()\n",
    "print(l1)\n",
    "l1.reverse()\n",
    "print(l1)"
   ]
  },
  {
   "cell_type": "markdown",
   "id": "e979b9ba",
   "metadata": {},
   "source": [
    "### List Comprehension"
   ]
  },
  {
   "cell_type": "code",
   "execution_count": 37,
   "id": "24213543",
   "metadata": {},
   "outputs": [
    {
     "name": "stdout",
     "output_type": "stream",
     "text": [
      "[0, 1, 2, 3, 4, 5]\n"
     ]
    }
   ],
   "source": [
    "list1 = [i for i in range(6)]\n",
    "print(list1)"
   ]
  },
  {
   "cell_type": "code",
   "execution_count": 38,
   "id": "2fbbf381",
   "metadata": {},
   "outputs": [
    {
     "name": "stdout",
     "output_type": "stream",
     "text": [
      "['apple', 'anar', 'avacado']\n"
     ]
    }
   ],
   "source": [
    "l2 = [\"apple\",\"anar\",\"pineapple\",\"avacado\",\"banana\"]\n",
    "l3 = [i for i in l2 if i.startswith('a')]\n",
    "print(l3)"
   ]
  },
  {
   "cell_type": "code",
   "execution_count": null,
   "id": "5267f0be",
   "metadata": {},
   "outputs": [],
   "source": []
  }
 ],
 "metadata": {
  "kernelspec": {
   "display_name": "Python 3 (ipykernel)",
   "language": "python",
   "name": "python3"
  },
  "language_info": {
   "codemirror_mode": {
    "name": "ipython",
    "version": 3
   },
   "file_extension": ".py",
   "mimetype": "text/x-python",
   "name": "python",
   "nbconvert_exporter": "python",
   "pygments_lexer": "ipython3",
   "version": "3.11.5"
  }
 },
 "nbformat": 4,
 "nbformat_minor": 5
}
