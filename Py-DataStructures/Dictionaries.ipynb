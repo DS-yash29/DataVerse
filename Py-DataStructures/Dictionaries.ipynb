{
  "nbformat": 4,
  "nbformat_minor": 0,
  "metadata": {
    "colab": {
      "provenance": []
    },
    "kernelspec": {
      "name": "python3",
      "display_name": "Python 3"
    },
    "language_info": {
      "name": "python"
    }
  },
  "cells": [
    {
      "cell_type": "markdown",
      "source": [
        "# Dictionaries in Python\n",
        "\n",
        "## Collection of Data Items in key-value format\n",
        "\n",
        "*key -> Consists of immuatable - unique Data Items*\n",
        "\n",
        "This Notebook is a Guide to Dictionaries in Python :\n",
        "1. Creation of Dictionaries\n",
        "2. Accessing\n",
        "3. Mutability Nature\n",
        "4. Operations & Functions Corresponding to Dictionaries"
      ],
      "metadata": {
        "id": "gYgs0wtE-f6e"
      }
    },
    {
      "cell_type": "code",
      "source": [
        "# Creating 1-D / 2-D Dictionaries\n",
        "\n",
        "d = {}\n",
        "print(d,type(d))  # Empty Dictionary\n",
        "\n",
        "d1 = {1:2,3:4} #1-D Homogeneous Dict\n",
        "print(d1,type(d1))\n",
        "\n",
        "d2 = {'Name':\"Yash Matlani\",'Age':23,\"Aspiration\":\"To Be an Ammazing Data Scientist\",\"Dream\":\"To Make My Family Proud\",(29,11):2000} #1-D Heterogeneous Dict\n",
        "print(d2,type(d2))\n",
        "\n",
        "d3 = {'My_Marks':{'Dsa':70,'Data Mining':85,'Operating Systems':90},\"College\":\"Faculty of Mathematical Science\",\"University\":\"Delhi University\",\"UG_cgpa\":7.8}\n",
        "print(d3) #2-D Heterogeneous DIct\n",
        "\n",
        "d4 = dict([('Naam','bhupendar jogi'),('age',32)])\n",
        "print(d4)\n"
      ],
      "metadata": {
        "colab": {
          "base_uri": "https://localhost:8080/"
        },
        "id": "xE6XAdAm_E-b",
        "outputId": "25ac440b-3a61-489e-d759-b0edad1dcc58"
      },
      "execution_count": 16,
      "outputs": [
        {
          "output_type": "stream",
          "name": "stdout",
          "text": [
            "{} <class 'dict'>\n",
            "{1: 2, 3: 4} <class 'dict'>\n",
            "{'Name': 'Yash Matlani', 'Age': 23, 'Aspiration': 'To Be an Ammazing Data Scientist', 'Dream': 'To Make My Family Proud', (29, 11): 2000} <class 'dict'>\n",
            "{'My_Marks': {'Dsa': 70, 'Data Mining': 85, 'Operating Systems': 90}, 'College': 'Faculty of Mathematical Science', 'University': 'Delhi University', 'UG_cgpa': 7.8}\n",
            "{'Naam': 'bhupendar jogi', 'age': 32}\n"
          ]
        }
      ]
    },
    {
      "cell_type": "code",
      "source": [
        "# Accessing Dict\n",
        "## No Concept of Indexing\n",
        "# Items are fetched using keys\n",
        "print(d1[1])\n",
        "print(d2.get('Name'))\n",
        "print(d3.get('My_Marks')['Dsa'])"
      ],
      "metadata": {
        "colab": {
          "base_uri": "https://localhost:8080/"
        },
        "id": "7JeW14pc_LFf",
        "outputId": "6acd1616-11fa-4bf7-c7ff-c9d0dc6edf9a"
      },
      "execution_count": 12,
      "outputs": [
        {
          "output_type": "stream",
          "name": "stdout",
          "text": [
            "2\n",
            "Yash Matlani\n",
            "70\n"
          ]
        }
      ]
    },
    {
      "cell_type": "code",
      "source": [
        "# Editing Dictionaries\n",
        "print(d1)\n",
        "d1[1] = \"Hi\"\n",
        "print(d1)\n",
        "\n",
        "d1[5] = 25\n",
        "print(d1)\n"
      ],
      "metadata": {
        "colab": {
          "base_uri": "https://localhost:8080/"
        },
        "id": "3kbbTdxECiU6",
        "outputId": "7fd778b4-a7a7-4c49-a779-a3e94a840cab"
      },
      "execution_count": 14,
      "outputs": [
        {
          "output_type": "stream",
          "name": "stdout",
          "text": [
            "{1: 'Hi', 3: 4}\n",
            "{1: 'Hi', 3: 4}\n",
            "{1: 'Hi', 3: 4, 5: 25}\n"
          ]
        }
      ]
    },
    {
      "cell_type": "code",
      "source": [
        "# Deleting Items\n",
        "d2 = {'Name':\"Yash Matlani\",'Age':23,\"Aspiration\":\"To Be an Ammazing Data Scientist\",\"Dream\":\"To Make My Family Proud\",(29,11):2000} #1-D Heterogeneous Dict\n",
        "\n",
        "print(d2)\n",
        "d2.pop(\"Age\")\n",
        "print(d2)\n",
        "print(d2.popitem())\n",
        "print(d2)\n",
        "d2.clear()\n",
        "print(d2)\n",
        "\n",
        "d2 = {'Name':\"Yash Matlani\",'Age':23,\"Aspiration\":\"To Be an Ammazing Data Scientist\",\"Dream\":\"To Make My Family Proud\",(29,11):2000} #1-D Heterogeneous Dict\n"
      ],
      "metadata": {
        "colab": {
          "base_uri": "https://localhost:8080/"
        },
        "id": "rs9QQig0EFgQ",
        "outputId": "53bc82e4-51aa-418d-e552-f4b12b6709a1"
      },
      "execution_count": 20,
      "outputs": [
        {
          "output_type": "stream",
          "name": "stdout",
          "text": [
            "{'Name': 'Yash Matlani', 'Age': 23, 'Aspiration': 'To Be an Ammazing Data Scientist', 'Dream': 'To Make My Family Proud', (29, 11): 2000}\n",
            "{'Name': 'Yash Matlani', 'Aspiration': 'To Be an Ammazing Data Scientist', 'Dream': 'To Make My Family Proud', (29, 11): 2000}\n",
            "((29, 11), 2000)\n",
            "{'Name': 'Yash Matlani', 'Aspiration': 'To Be an Ammazing Data Scientist', 'Dream': 'To Make My Family Proud'}\n",
            "{}\n"
          ]
        }
      ]
    },
    {
      "cell_type": "markdown",
      "source": [
        "# Operations & Functions on Dict\n",
        "\n",
        "## Basic Functions -> len/min/max/sorted\n",
        "\n",
        "- keys -> *returns the list of keys*\n",
        "- values -> *returns the list of values*"
      ],
      "metadata": {
        "id": "MNCe3fmpG1WV"
      }
    },
    {
      "cell_type": "code",
      "source": [
        "\n",
        "print(min(d1))\n",
        "print(max(d1))\n",
        "print(len(d1))\n",
        "print(sorted(d1.items()))\n",
        "print(d2.keys())\n",
        "print(d2.values())\n",
        "print(d2.items())"
      ],
      "metadata": {
        "colab": {
          "base_uri": "https://localhost:8080/"
        },
        "id": "Nhpzn3iHE4Ks",
        "outputId": "f3b66dd4-2f11-4e41-84c3-22bbd6374e2d"
      },
      "execution_count": 27,
      "outputs": [
        {
          "output_type": "stream",
          "name": "stdout",
          "text": [
            "1\n",
            "3\n",
            "2\n",
            "[(1, 2), (3, 4)]\n",
            "dict_keys(['Name', 'Age', 'Aspiration', 'Dream', (29, 11)])\n",
            "dict_values(['Yash Matlani', 23, 'To Be an Ammazing Data Scientist', 'To Make My Family Proud', 2000])\n",
            "dict_items([('Name', 'Yash Matlani'), ('Age', 23), ('Aspiration', 'To Be an Ammazing Data Scientist'), ('Dream', 'To Make My Family Proud'), ((29, 11), 2000)])\n"
          ]
        }
      ]
    },
    {
      "cell_type": "markdown",
      "source": [
        "**Dictionary Comprehension**"
      ],
      "metadata": {
        "id": "n4AugRYqIHzS"
      }
    },
    {
      "cell_type": "code",
      "source": [
        "dict1 = {key : key%5 for key in range(1,6) }\n",
        "dict2 = {i:i**2 for i in range(1,10) if(i%2 == 0)}"
      ],
      "metadata": {
        "id": "egxqVtKGIGdL"
      },
      "execution_count": 30,
      "outputs": []
    },
    {
      "cell_type": "code",
      "source": [
        "print(dict1,type(dict1))\n",
        "print(dict2,type(dict2))"
      ],
      "metadata": {
        "colab": {
          "base_uri": "https://localhost:8080/"
        },
        "id": "oToGxZxhIsSy",
        "outputId": "330c01b8-6d87-49a6-da99-b292ac75ae77"
      },
      "execution_count": 31,
      "outputs": [
        {
          "output_type": "stream",
          "name": "stdout",
          "text": [
            "{1: 1, 2: 2, 3: 3, 4: 4, 5: 0} <class 'dict'>\n",
            "{2: 4, 4: 16, 6: 36, 8: 64} <class 'dict'>\n"
          ]
        }
      ]
    }
  ]
}