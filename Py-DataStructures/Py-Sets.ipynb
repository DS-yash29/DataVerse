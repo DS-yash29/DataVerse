{
  "nbformat": 4,
  "nbformat_minor": 0,
  "metadata": {
    "colab": {
      "provenance": []
    },
    "kernelspec": {
      "name": "python3",
      "display_name": "Python 3"
    },
    "language_info": {
      "name": "python"
    }
  },
  "cells": [
    {
      "cell_type": "markdown",
      "source": [
        "# Sets In Python\n",
        "\n",
        "- An Un-Ordered Collection of elements.\n",
        "- Can contain only unique elements\n",
        "- Mutable in nature , but contains only immutable types\n",
        "\n",
        "## Notebook Contains\n",
        "\n",
        "- Creation\n",
        "- Indexing & Slicing\n",
        "- Mutability Nature\n",
        "- Operations on Sets\n",
        "- Functions\n",
        "\n",
        "General epresentation -> (1,2,5,6,9)"
      ],
      "metadata": {
        "id": "uYLaJceayTlw"
      }
    },
    {
      "cell_type": "code",
      "source": [
        "#Creation\n",
        "s = (1)\n",
        "print(type(s))\n",
        "s = set() # Requires Special Type-Casting\n",
        "print(type(s))\n",
        "\n",
        "#creating 1-D Homogeneous Set\n",
        "s1 = set([1,2,3,4,5,5,4,3,2,1])\n",
        "print(s1,type(s1)) # Keeps Only Unique elementss\n",
        "\n",
        "#Creating Heterogeneous set\n",
        "s2 = set([\"Yash\",True,\"Yash\",1,23.5,False,0])\n",
        "print(s2)"
      ],
      "metadata": {
        "colab": {
          "base_uri": "https://localhost:8080/"
        },
        "id": "Xm85Oh47yvY_",
        "outputId": "f7af46e5-44f8-49e2-a431-2a478298e36a"
      },
      "execution_count": 1,
      "outputs": [
        {
          "output_type": "stream",
          "name": "stdout",
          "text": [
            "<class 'int'>\n",
            "<class 'set'>\n",
            "{1, 2, 3, 4, 5} <class 'set'>\n",
            "{'Yash', True, False, 23.5}\n"
          ]
        }
      ]
    },
    {
      "cell_type": "code",
      "source": [
        "# Accessing\n",
        "for i in s2:\n",
        "  print(i)\n",
        "\n"
      ],
      "metadata": {
        "colab": {
          "base_uri": "https://localhost:8080/"
        },
        "id": "eHpXOMNH0Rjh",
        "outputId": "232e2180-84f3-43ea-d05d-b97c10584294"
      },
      "execution_count": 2,
      "outputs": [
        {
          "output_type": "stream",
          "name": "stdout",
          "text": [
            "Yash\n",
            "True\n",
            "False\n",
            "23.5\n"
          ]
        }
      ]
    },
    {
      "cell_type": "markdown",
      "source": [
        "#### Editing Sets\n",
        "\n",
        "- Delete FUnctions\n",
        "1. pop\n",
        "2. remove\n",
        "3. discard\n",
        "\n",
        "- Add Functions\n",
        "1. add\n",
        "2. update\n",
        "\n",
        "\n",
        "\n"
      ],
      "metadata": {
        "id": "8IsG87_R3Lyb"
      }
    },
    {
      "cell_type": "code",
      "source": [
        "s2 = set([\"Yash\",True,\"Yash\",1,23.5,False,0])\n",
        "print(s2)\n",
        "s2.pop()\n",
        "print(s2)\n",
        "s2.remove(23.5)\n",
        "print(s2)\n",
        "s2.discard(1)\n",
        "print(s2)\n",
        "s2.clear()\n",
        "print(s2)\n"
      ],
      "metadata": {
        "colab": {
          "base_uri": "https://localhost:8080/"
        },
        "id": "xB8xtAgf3LSF",
        "outputId": "0c38d557-5f28-4eac-bec2-6c46c58ea9ee"
      },
      "execution_count": 3,
      "outputs": [
        {
          "output_type": "stream",
          "name": "stdout",
          "text": [
            "{'Yash', True, False, 23.5}\n",
            "{True, False, 23.5}\n",
            "{True, False}\n",
            "{False}\n",
            "set()\n"
          ]
        }
      ]
    },
    {
      "cell_type": "code",
      "source": [
        "s1 = set([1,2,3,4,5,5,4,3,2,1])\n",
        "\n",
        "print(s1)\n",
        "s1.add(23)\n",
        "print(s1)\n",
        "s1.update([25])\n",
        "print(s1)\n",
        "s1.add(\"Yash\") #Allowed since strings are immutable\n",
        "s1.add((1,2,3))\n",
        "print(s1)\n",
        "#s1.add([25]) #Not Allowed\n",
        "#print(s1) #Sets does not allow mutable data type in it\n"
      ],
      "metadata": {
        "colab": {
          "base_uri": "https://localhost:8080/"
        },
        "id": "DEo4gP2o0Rso",
        "outputId": "e70c4537-f45b-4866-d534-9621388cf43b"
      },
      "execution_count": 4,
      "outputs": [
        {
          "output_type": "stream",
          "name": "stdout",
          "text": [
            "{1, 2, 3, 4, 5}\n",
            "{1, 2, 3, 4, 5, 23}\n",
            "{1, 2, 3, 4, 5, 23, 25}\n",
            "{1, 2, 3, 4, 5, (1, 2, 3), 23, 'Yash', 25}\n"
          ]
        }
      ]
    },
    {
      "cell_type": "markdown",
      "source": [
        "#  Set Functions\n",
        "##### Functions related to set theory\n",
        "1. union\n",
        "2. intersect\n",
        "3. Set Difference\n",
        "4. symmetric difference\n",
        "\n",
        "#### Common Functions\n",
        "- len/min/max"
      ],
      "metadata": {
        "id": "RxmlAdjn7DKv"
      }
    },
    {
      "cell_type": "code",
      "source": [
        "s1 = set([1,2,3,4,5,5,4,3,2,1])\n",
        "s2 = set([3,4,5,6,7,10,120])\n",
        "\n",
        "print(s1.union(s2))\n",
        "print(s1.intersection(s2))\n",
        "print(s1.difference(s2))\n",
        "print(s2.difference(s1))\n",
        "print(s1.symmetric_difference(s2))\n",
        "print(s2.symmetric_difference(s1))"
      ],
      "metadata": {
        "colab": {
          "base_uri": "https://localhost:8080/"
        },
        "id": "1WbWgh-Q5YGz",
        "outputId": "9c57d6b7-e946-4a51-b5ee-6b05c2ffea1e"
      },
      "execution_count": 5,
      "outputs": [
        {
          "output_type": "stream",
          "name": "stdout",
          "text": [
            "{1, 2, 3, 4, 5, 6, 7, 10, 120}\n",
            "{3, 4, 5}\n",
            "{1, 2}\n",
            "{120, 10, 6, 7}\n",
            "{1, 2, 6, 7, 10, 120}\n",
            "{1, 2, 6, 7, 10, 120}\n"
          ]
        }
      ]
    },
    {
      "cell_type": "code",
      "source": [
        "print(s1.issubset(set([1,2,3,4,5])))\n",
        "print(s2.issubset(s1))\n",
        "print(s1.issuperset(s2))\n",
        "s3 = {i for i in \"YAsh\"} #Set Comprehension\n",
        "print(s1.isdisjoint(s3))"
      ],
      "metadata": {
        "colab": {
          "base_uri": "https://localhost:8080/"
        },
        "id": "MPus7dM-7gKS",
        "outputId": "3fed5a5f-3938-4377-9d1b-5e9b536c4d30"
      },
      "execution_count": 6,
      "outputs": [
        {
          "output_type": "stream",
          "name": "stdout",
          "text": [
            "True\n",
            "False\n",
            "False\n",
            "True\n"
          ]
        }
      ]
    },
    {
      "cell_type": "code",
      "source": [],
      "metadata": {
        "id": "gubIv-ZC8K8D"
      },
      "execution_count": 6,
      "outputs": []
    }
  ]
}
